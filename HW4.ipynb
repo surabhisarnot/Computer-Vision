{
  "nbformat": 4,
  "nbformat_minor": 0,
  "metadata": {
    "anaconda-cloud": {},
    "kernelspec": {
      "name": "python3",
      "display_name": "Python 3"
    },
    "language_info": {
      "codemirror_mode": {
        "name": "ipython",
        "version": 3
      },
      "file_extension": ".py",
      "mimetype": "text/x-python",
      "name": "python",
      "nbconvert_exporter": "python",
      "pygments_lexer": "ipython3",
      "version": "3.7.3"
    },
    "colab": {
      "name": "CSE527_HW4_Fall19_Surabhi.ipynb",
      "provenance": [],
      "collapsed_sections": []
    },
    "accelerator": "GPU"
  },
  "cells": [
    {
      "cell_type": "markdown",
      "metadata": {
        "id": "XSfnuObtYYMH",
        "colab_type": "text"
      },
      "source": [
        "# CSE527 Homework 4\n",
        "**Due date: 23:59 on Nov. 5, 2019 (Thuesday)**\n",
        "\n",
        "In this semester, we will use Google Colab for the assignments, which allows us to utilize resources that some of us might not have in their local machines such as GPUs. You will need to use your Stony Brook (*.stonybrook.edu) account for coding and Google Drive to save your results.\n",
        "\n",
        "## Google Colab Tutorial\n",
        "---\n",
        "Go to https://colab.research.google.com/notebooks/, you will see a tutorial named \"Welcome to Colaboratory\" file, where you can learn the basics of using google colab.\n",
        "\n",
        "Settings used for assignments: ***Edit -> Notebook Settings -> Runtime Type (Python 3)***.\n",
        "\n",
        "\n",
        "## Description\n",
        "---\n",
        "This project is an introduction to deep learning tools for computer vision. You will design and train deep convolutional networks for scene recognition using [PyTorch](http://pytorch.org). You can visualize the\n",
        "structure of the network with [mNeuron] (http://vision03.csail.mit.edu/cnn_art/index.html)\n",
        "\n",
        "Remember Homework 3: Scene recognition with bag of words. You worked hard to design a bag of features representations that achieved 60% to 70% accuracy (most likely) on 16-way scene classification. We're going to attack the same task with deep learning and get higher accuracy. Training from scratch won't work quite as well as homework 3 due to the insufficient amount of data, fine-tuning an existing network will work much better than homework 3.\n",
        "\n",
        "In Problem 1 of the project you will train a deep convolutional network from scratch to recognize scenes. The starter codes gives you methods to load data and display them. You will need to define a simple network architecture and add jittering, normalization, and regularization to increase recognition accuracy to 50, 60, or perhaps 70%. Unfortunately, we only have 2,400 training examples so it doesn't seem possible to train a network from scratch which outperforms hand-crafted features\n",
        "\n",
        "For Problem 2 you will instead fine-tune a pre-trained deep network to achieve about 85% accuracy on the task. We will use the pretrained AlexNet network which was not trained to recognize scenes at all. \n",
        "\n",
        "These two approaches represent the most common approaches to recognition problems in computer vision today -- train a deep network from scratch if you have enough data (it's not always obvious whether or not you do), and if you cannot then instead fine-tune a pre-trained network.\n",
        "\n",
        "There are 2 problems in this homework with a total of 110 points including 10 bonus points. Be sure to read **Submission Guidelines** below. They are important. For the problems requiring text descriptions, you might want to add a markdown block for that.\n",
        "\n",
        "## Dataset\n",
        "---\n",
        "Save the [dataset(click me)](https://drive.google.com/open?id=1NWC3TMsXSWN2TeoYMCjhf2N1b-WRDh-M) into your working folder in your Google Drive for this homework. <br>\n",
        "Under your root folder, there should be a folder named \"data\" (i.e. XXX/Surname_Givenname_SBUID/data) containing the images.\n",
        "**Do not upload** the data subfolder before submitting on blackboard due to size limit. There should be only one .ipynb file under your root folder Surname_Givenname_SBUID.\n",
        "\n",
        "## Some Tutorials (PyTorch)\n",
        "---\n",
        "- You will be using PyTorch for deep learning toolbox (follow the [link](http://pytorch.org) for installation).\n",
        "- For PyTorch beginners, please read this [tutorial](http://pytorch.org/tutorials/beginner/deep_learning_60min_blitz.html) before doing your homework.\n",
        "- Feel free to study more tutorials at http://pytorch.org/tutorials/.\n",
        "- Find cool visualization here at http://playground.tensorflow.org.\n",
        "\n",
        "\n",
        "## Starter Code\n",
        "---\n",
        "In the starter code, you are provided with a function that loads data into minibatches for training and testing in PyTorch."
      ]
    },
    {
      "cell_type": "code",
      "metadata": {
        "id": "0UA6WFgcYYMI",
        "colab_type": "code",
        "colab": {}
      },
      "source": [
        "# import packages here\n",
        "import cv2\n",
        "import numpy as np\n",
        "import matplotlib.pyplot as plt\n",
        "import glob\n",
        "import random \n",
        "import time\n",
        "\n",
        "import torch\n",
        "import torchvision\n",
        "from torchvision import datasets, models, transforms\n",
        "from datetime import datetime,timedelta\n",
        "\n",
        "from scipy.ndimage.interpolation import rotate\n",
        "\n",
        "from torch.optim import lr_scheduler\n",
        "import torch.optim as optim\n",
        "from torch.autograd import Variable\n",
        "import torch.nn as nn\n",
        "import torch.nn.functional as F"
      ],
      "execution_count": 0,
      "outputs": []
    },
    {
      "cell_type": "code",
      "metadata": {
        "id": "L7T72O-1ks-a",
        "colab_type": "code",
        "outputId": "2257f66e-2d8e-4936-cffd-7d7c0d154c39",
        "colab": {
          "base_uri": "https://localhost:8080/",
          "height": 33
        }
      },
      "source": [
        "# Mount your google drive where you've saved your assignment folder\n",
        "from google.colab import drive\n",
        "drive.mount('/content/gdrive')"
      ],
      "execution_count": 42,
      "outputs": [
        {
          "output_type": "stream",
          "text": [
            "Drive already mounted at /content/gdrive; to attempt to forcibly remount, call drive.mount(\"/content/gdrive\", force_remount=True).\n"
          ],
          "name": "stdout"
        }
      ]
    },
    {
      "cell_type": "code",
      "metadata": {
        "id": "xIT3WIuykrg0",
        "colab_type": "code",
        "outputId": "1153cd2e-92a9-4794-d02d-89a889846b8e",
        "colab": {
          "base_uri": "https://localhost:8080/",
          "height": 33
        }
      },
      "source": [
        "# Set your working directory (in your google drive)\n",
        "# Note that 'gdrive/My Drive/Y2019Fall/CSE-527-Intro-To-Computer-Vision/hw4' is just an example, \n",
        "#   change it to your specific homework directory.\n",
        "cd '/content/gdrive/My Drive/Sarnot_SurabhiSantosh_112584690_hw4'"
      ],
      "execution_count": 43,
      "outputs": [
        {
          "output_type": "stream",
          "text": [
            "/content/gdrive/My Drive/Sarnot_SurabhiSantosh_112584690_hw4\n"
          ],
          "name": "stdout"
        }
      ]
    },
    {
      "cell_type": "code",
      "metadata": {
        "id": "0NxnBcUqk_9B",
        "colab_type": "code",
        "outputId": "6058a44a-3986-421e-dd76-294a5a305a6b",
        "colab": {
          "base_uri": "https://localhost:8080/",
          "height": 53
        }
      },
      "source": [
        "# ==========================================\n",
        "#    Load Training Data and Testing Data\n",
        "# ==========================================\n",
        "class_names = [name[13:] for name in glob.glob('./data/train/*')]\n",
        "class_names = dict(zip(range(len(class_names)), class_names))\n",
        "print(\"class_names: %s \" % class_names)\n",
        "n_train_samples = 150\n",
        "n_test_samples = 50\n",
        "\n",
        "\n",
        "def img_norm(img):\n",
        "  #\n",
        "  # Write your code here\n",
        "  # normalize img pixels to [-1, 1]\n",
        "  #\n",
        "  return 2 * (np.float32(img) / 255 - 0.5)\n",
        "\n",
        "\n",
        "def load_dataset(path, img_size, num_per_class=-1, batch_num=1, shuffle=False, augment=False, is_color=False,\n",
        "                rotate_90=False, zero_centered=False):\n",
        "    \n",
        "    data = []\n",
        "    labels = []\n",
        "    \n",
        "    if is_color:\n",
        "        channel_num = 3\n",
        "    else:\n",
        "        channel_num = 1\n",
        "        \n",
        "    # read images and resizing\n",
        "    for id, class_name in class_names.items():\n",
        "        print(\"Loading images from class: %s\" % id)\n",
        "        img_path_class = glob.glob(path + class_name + '/*.jpg')\n",
        "        if num_per_class > 0:\n",
        "            img_path_class = img_path_class[:num_per_class]\n",
        "        labels.extend([id]*len(img_path_class))\n",
        "        for filename in img_path_class:\n",
        "            if is_color:\n",
        "                img = cv2.imread(filename)\n",
        "            else:\n",
        "                img = cv2.imread(filename, 0)\n",
        "            \n",
        "            # resize the image\n",
        "            img = cv2.resize(img, img_size, cv2.INTER_LINEAR)\n",
        "            \n",
        "            if is_color:\n",
        "                img = np.transpose(img, [2, 0, 1])\n",
        "            from torch.optim import lr_scheduler\n",
        "            # norm pixel values to [-1, 1]\n",
        "            data.append(img_norm(img))\n",
        "            \n",
        "    #\n",
        "    # Write your Data Augmentation code here\n",
        "    # mirroring\n",
        "    # \n",
        "    if augment:\n",
        "      mirror_data = [img[:, ::-1] for img in data]\n",
        "      labels+=labels  \n",
        "      data+=mirror_data\n",
        "\n",
        "    #\n",
        "    # Write your Data Normalization code here\n",
        "    # norm data to zero-centered\n",
        "    #\n",
        "    #data = data - np.mean(data)\n",
        "\n",
        "    if rotate_90:  \n",
        "      rotation_data = [rotate(img, 180, reshape=False) for img in data]\n",
        "      data+=rotation_data\n",
        "      labels+=labels\n",
        "\n",
        "    # randomly permute (this step is important for training)\n",
        "    if shuffle:\n",
        "        bundle = list(zip(data, labels))\n",
        "        random.shuffle(bundle)\n",
        "        data, labels = zip(*bundle)\n",
        "    \n",
        "    # divide data into minibatches of TorchTensors\n",
        "    if batch_num > 1:\n",
        "        batch_data = []\n",
        "        batch_labels = []\n",
        "        \n",
        "        print(len(data))\n",
        "        print(batch_num)\n",
        "        \n",
        "        for i in range(int(len(data) / batch_num)):\n",
        "            minibatch_d = data[i*batch_num: (i+1)*batch_num]\n",
        "            minibatch_d = np.reshape(minibatch_d, (batch_num, channel_num, img_size[0], img_size[1]))\n",
        "            batch_data.append(torch.from_numpy(minibatch_d))\n",
        "\n",
        "            minibatch_l = labels[i*batch_num: (i+1)*batch_num]\n",
        "            batch_labels.append(torch.LongTensor(minibatch_l))\n",
        "        data, labels = batch_data, batch_labels \n",
        "    \n",
        "    return zip(batch_data, batch_labels)"
      ],
      "execution_count": 44,
      "outputs": [
        {
          "output_type": "stream",
          "text": [
            "class_names: {0: 'Forest', 1: 'Industrial', 2: 'Flower', 3: 'Coast', 4: 'InsideCity', 5: 'Office', 6: 'Bedroom', 7: 'Highway', 8: 'Street', 9: 'TallBuilding', 10: 'LivingRoom', 11: 'Suburb', 12: 'OpenCountry', 13: 'Mountain', 14: 'Kitchen', 15: 'Store'} \n"
          ],
          "name": "stdout"
        }
      ]
    },
    {
      "cell_type": "code",
      "metadata": {
        "id": "wHI2VYbDloje",
        "colab_type": "code",
        "outputId": "0216839f-59a1-4ec4-f9fe-c89445a84b96",
        "colab": {
          "base_uri": "https://localhost:8080/",
          "height": 635
        }
      },
      "source": [
        "# load data into size (64, 64)\n",
        "img_size = (64, 64)\n",
        "batch_num = 50 # training sample number per batch\n",
        "\n",
        "# load training dataset\n",
        "trainloader_small = list(load_dataset('./data/train/', img_size, batch_num=batch_num, shuffle=True, \n",
        "                                      augment=True, zero_centered=True))\n",
        "train_num = len(trainloader_small)\n",
        "print(\"Finish loading %d minibatches(=%d) of training samples.\" % (train_num, batch_num))\n",
        "\n",
        "# load testing dataset\n",
        "testloader_small = list(load_dataset('./data/test/', img_size, num_per_class=50, batch_num=batch_num))\n",
        "test_num = len(testloader_small)\n",
        "print(\"Finish loading %d miniprint(len(data))batches(=%d) of testing samples.\" % (test_num, batch_num))"
      ],
      "execution_count": 45,
      "outputs": [
        {
          "output_type": "stream",
          "text": [
            "Loading images from class: 0\n",
            "Loading images from class: 1\n",
            "Loading images from class: 2\n",
            "Loading images from class: 3\n",
            "Loading images from class: 4\n",
            "Loading images from class: 5\n",
            "Loading images from class: 6\n",
            "Loading images from class: 7\n",
            "Loading images from class: 8\n",
            "Loading images from class: 9\n",
            "Loading images from class: 10\n",
            "Loading images from class: 11\n",
            "Loading images from class: 12\n",
            "Loading images from class: 13\n",
            "Loading images from class: 14\n",
            "Loading images from class: 15\n",
            "4800\n",
            "50\n",
            "Finish loading 96 minibatches(=50) of training samples.\n",
            "Loading images from class: 0\n",
            "Loading images from class: 1\n",
            "Loading images from class: 2\n",
            "Loading images from class: 3\n",
            "Loading images from class: 4\n",
            "Loading images from class: 5\n",
            "Loading images from class: 6\n",
            "Loading images from class: 7\n",
            "Loading images from class: 8\n",
            "Loading images from class: 9\n",
            "Loading images from class: 10\n",
            "Loading images from class: 11\n",
            "Loading images from class: 12\n",
            "Loading images from class: 13\n",
            "Loading images from class: 14\n",
            "Loading images from class: 15\n",
            "400\n",
            "50\n",
            "Finish loading 8 miniprint(len(data))batches(=50) of testing samples.\n"
          ],
          "name": "stdout"
        }
      ]
    },
    {
      "cell_type": "code",
      "metadata": {
        "id": "krCXjDOzlq0f",
        "colab_type": "code",
        "outputId": "c642a063-37c8-4baa-8fa1-d04b903b0eb7",
        "colab": {
          "base_uri": "https://localhost:8080/",
          "height": 283
        }
      },
      "source": [
        "# show some images\n",
        "def imshow(img):\n",
        "    img = img / 2 + 0.5     # unnormalize\n",
        "    npimg = img.numpy()\n",
        "    if len(npimg.shape) > 2:\n",
        "        npimg = np.transpose(img, [1, 2, 0])\n",
        "    plt.figure\n",
        "    plt.imshow(npimg, 'gray')\n",
        "    plt.show()\n",
        "img, label = trainloader_small[0][0][1][0], trainloader_small[0][1][11]\n",
        "label = int(np.array(label))\n",
        "print(class_names[label])\n",
        "imshow(img)"
      ],
      "execution_count": 0,
      "outputs": [
        {
          "output_type": "stream",
          "text": [
            "Kitchen\n"
          ],
          "name": "stdout"
        },
        {
          "output_type": "display_data",
          "data": {
            "image/png": "[encoded data removed]",
            "text/plain": [
              "<Figure size 432x288 with 1 Axes>"
            ]
          },
          "metadata": {
            "tags": []
          }
        }
      ]
    },
    {
      "cell_type": "markdown",
      "metadata": {
        "id": "JGA-K6QzYYMR",
        "colab_type": "text"
      },
      "source": [
        "## Problem 1: Training a Network From Scratch\n",
        "{Part 1: 35 points} Gone are the days of hand designed features. Now we have end-to-end learning in which a highly non-linear representation is learned for our data to maximize our objective (in this case, 16-way classification accuracy). Instead of 70% accuracy we can now recognize scenes with... 25% accuracy. OK, that didn't work at all. Try to boost the accuracy by doing the following:\n",
        "\n",
        "**Data Augmentation**: We don't have enough training data, let's augment the training data.\n",
        "If you left-right flip (mirror) an image of a scene, it never changes categories. A kitchen doesn't become a forest when mirrored. This isn't true in all domains — a \"d\" becomes a \"b\" when mirrored, so you can't \"jitter\" digit recognition training data in the same way. But we can synthetically increase our amount of training data by left-right mirroring training images during the learning process.\n",
        "\n",
        "After you implement mirroring, you should notice that your training error doesn't drop as quickly. That's actually a good thing, because it means the network isn't overfitting to the 2,400 original training images as much (because it sees 4,800 training images now, although they're not as good as 4,800 truly independent samples). Because the training and test errors fall more slowly, you may need more training epochs or you may try modifying the learning rate. You should see a roughly 10% increase in accuracy by adding mirroring. You are **required** to implement mirroring as data augmentation for this part.\n",
        "\n",
        "You can try more elaborate forms of jittering -- zooming in a random amount, rotating a random amount, taking a random crop, etc. These are not required, you might want to try these in the bonus part.\n",
        "\n",
        "**Data Normalization**: The images aren't zero-centered. One simple trick which can help a lot is to subtract the mean from every image. It would arguably be more proper to only compute the mean from the training images (since the test/validation images should be strictly held out) but it won't make much of a difference. After doing this you should see another 15% or so increase in accuracy. This part is **required**.\n",
        "\n",
        "**Network Regularization**: Add dropout layer. If you train your network (especially for more than the default 30 epochs) you'll see that the training error can decrease to zero while the val top1 error hovers at 40% to 50%. The network has learned weights which can perfectly recognize the training data, but those weights don't generalize to held out test data. The best regularization would be more training data but we don't have that. Instead we will use dropout regularization.\n",
        "\n",
        "What does dropout regularization do? It randomly turns off network connections at training time to fight overfitting. This prevents a unit in one layer from relying too strongly on a single unit in the previous layer. Dropout regularization can be interpreted as simultaneously training many \"thinned\" versions of your network. At test, all connections are restored which is analogous to taking an average prediction over all of the \"thinned\" networks. You can see a more complete discussion of dropout regularization in this [paper](https://www.cs.toronto.edu/~hinton/absps/JMLRdropout.pdf).\n",
        "\n",
        "The dropout layer has only one free parameter — the dropout rate — the proportion of connections that are randomly deleted. The default of 0.5 should be fine. Insert a dropout layer between your convolutional layers. In particular, insert it directly before your last convolutional layer. Your test accuracy should increase by another 10%. Your train accuracy should decrease much more slowly. That's to be expected — you're making life much harder for the training algorithm by cutting out connections randomly. \n",
        "\n",
        "If you increase the number of training epochs (and maybe decrease the learning rate) you should be able to achieve around 50% test accuracy. In this part, you are **required** to add dropout layer to your network.\n",
        "\n",
        "Please give detailed descriptions of your network layout in the following format:<br>\n",
        "Data augmentation: [descriptions]<br>\n",
        "Data normalization: [descriptions]<br>\n",
        "Layer 1: [layer_type]: [Parameters]<br>\n",
        "Layer 2: [layer_type]: [Parameters]<br>\n",
        "...<br>\n",
        "Then report the final accuracy on test set and time consumed for training and testing separately.\n",
        "\n",
        "{Part 2: 15 points} Try **three techniques** taught in the class to increase the accuracy of your model. Such as increasing training data by randomly rotating training images, adding batch normalization, different activation functions (e.g., sigmoid) and model architecture modification. Note that too many layers can do you no good due to insufficient training data. Clearly describe your method and accuracy increase/decrease for each of the three techniques."
      ]
    },
    {
      "cell_type": "code",
      "metadata": {
        "id": "C2ZO6xn0HHVQ",
        "colab_type": "code",
        "colab": {}
      },
      "source": [
        "device = torch.device(\"cuda:0\" if torch.cuda.is_available() else \"cpu\")"
      ],
      "execution_count": 0,
      "outputs": []
    },
    {
      "cell_type": "code",
      "metadata": {
        "id": "OMeka5xKHsf7",
        "colab_type": "code",
        "colab": {}
      },
      "source": [
        "# ==========================================\n",
        "#       Define Network Architecture\n",
        "# ==========================================\n",
        "\n",
        "class Net(nn.Module):\n",
        "    def __init__(self):\n",
        "        super(Net, self).__init__()\n",
        "        self.conv1 = nn.Conv2d(1, 32, 5, padding=2)\n",
        "        self.pool = nn.MaxPool2d(2, 2)\n",
        "        self.conv2 = nn.Conv2d(32, 64, 5,padding=2)\n",
        "        self.fc1 = nn.Linear(64 * 16 * 16, 120)\n",
        "        self.fc2 = nn.Linear(120, 84)\n",
        "        self.fc3 = nn.Linear(84, 16)\n",
        "        self.drop_out = nn.Dropout2d()\n",
        "\n",
        "    def forward(self, out):\n",
        "        out = self.pool(F.relu(self.conv1(out)))\n",
        "        out = self.pool(F.relu(self.conv2(out)))        \n",
        "        out = out.view(-1, 64*16*16)\n",
        "        out = F.relu(self.fc1(out))\n",
        "        out = F.relu(self.fc2(out))\n",
        "        out = self.drop_out(out)\n",
        "        out = self.fc3(out)\n",
        "        return out"
      ],
      "execution_count": 0,
      "outputs": []
    },
    {
      "cell_type": "code",
      "metadata": {
        "id": "XhYkP6HEX7FI",
        "colab_type": "code",
        "colab": {}
      },
      "source": [
        "# ==========================================\n",
        "#         Optimize/Train Network\n",
        "# ==========================================\n",
        "\n",
        "def train_model(train_data,net):\n",
        "  criterion = nn.CrossEntropyLoss()\n",
        "  optimizer = optim.Adam(net.parameters(), lr=0.001)\n",
        "  #optimizer = optim.SGD(net.parameters(), lr=0.001, momentum=0.9)\n",
        "\n",
        "  total_step = len(train_data)\n",
        "  loss_list = []\n",
        "  acc_list =[]\n",
        "  num_epochs = 30\n",
        "\n",
        "  for epoch in range(num_epochs):  # loop over the dataset multiple times\n",
        "\n",
        "    running_loss = 0.0\n",
        "    for i, data in enumerate(train_data, 0):\n",
        "        # get the inputs; data is a list of [inputs, labels]\n",
        "        inputs, labels = data\n",
        "        inputs = inputs.to(device)\n",
        "        labels = labels.to(device)\n",
        "        outputs = net(inputs)\n",
        "        loss = criterion(outputs, labels)\n",
        "        loss_list.append(loss.item())\n",
        "\n",
        "        # Backprop and perform optimisation\n",
        "        optimizer.zero_grad()\n",
        "        loss.backward()\n",
        "        optimizer.step()\n",
        "\n",
        "        # Track the accuracy\n",
        "        total = labels.size(0)\n",
        "        _, predicted = torch.max(outputs.data, 1)\n",
        "        correct = (predicted == labels).sum().item()\n",
        "        acc_list.append(correct / total)\n",
        "\n",
        "        if (i + 1) % 50 == 0:\n",
        "            print('Epoch [{}/{}], Loss: {:.4f}, Accuracy: {:.2f}%'\n",
        "                  .format(epoch + 1, num_epochs, loss.item(),\n",
        "                          (correct / total) * 100))\n",
        "\n",
        "  print('Finished Training')"
      ],
      "execution_count": 0,
      "outputs": []
    },
    {
      "cell_type": "code",
      "metadata": {
        "id": "fJn8ryQqc2sl",
        "colab_type": "code",
        "colab": {}
      },
      "source": [
        "# ==========================================\n",
        "#            Evaluating Network\n",
        "# ==========================================\n",
        "\n",
        "def net_eval(test_data,net):\n",
        "  net.eval()\n",
        "  with torch.no_grad():\n",
        "      correct = 0\n",
        "      total = 0\n",
        "      for images, labels in test_data:\n",
        "          images = images.to(device)\n",
        "          labels = labels.to(device) \n",
        "          outputs = net(images)\n",
        "          _, predicted = torch.max(outputs.data, 1)\n",
        "          total += labels.size(0)\n",
        "          correct += (predicted == labels).sum().item()\n",
        "\n",
        "      print('Test Accuracy of the model on the 400 test images: {} %'.format((correct / total) * 100))"
      ],
      "execution_count": 0,
      "outputs": []
    },
    {
      "cell_type": "code",
      "metadata": {
        "id": "jVji3KmWNat0",
        "colab_type": "code",
        "outputId": "fa7d9385-2742-479a-b46b-d050d5686bf4",
        "colab": {
          "base_uri": "https://localhost:8080/",
          "height": 553
        }
      },
      "source": [
        "net = Net()\n",
        "net = net.to(device)\n",
        "\n",
        "train_model(trainloader_small,net)\n",
        "print(\"----------------------------------------------------------\")\n",
        "net_eval(testloader_small,net)"
      ],
      "execution_count": 84,
      "outputs": [
        {
          "output_type": "stream",
          "text": [
            "Epoch [1/30], Loss: 2.5170, Accuracy: 18.00%\n",
            "Epoch [2/30], Loss: 1.9165, Accuracy: 42.00%\n",
            "Epoch [3/30], Loss: 1.5814, Accuracy: 44.00%\n",
            "Epoch [4/30], Loss: 1.0610, Accuracy: 66.00%\n",
            "Epoch [5/30], Loss: 0.9743, Accuracy: 60.00%\n",
            "Epoch [6/30], Loss: 0.8912, Accuracy: 68.00%\n",
            "Epoch [7/30], Loss: 1.0196, Accuracy: 66.00%\n",
            "Epoch [8/30], Loss: 0.7743, Accuracy: 78.00%\n",
            "Epoch [9/30], Loss: 0.5020, Accuracy: 86.00%\n",
            "Epoch [10/30], Loss: 0.4165, Accuracy: 88.00%\n",
            "Epoch [11/30], Loss: 0.3114, Accuracy: 86.00%\n",
            "Epoch [12/30], Loss: 0.2959, Accuracy: 90.00%\n",
            "Epoch [13/30], Loss: 0.3468, Accuracy: 88.00%\n",
            "Epoch [14/30], Loss: 0.4117, Accuracy: 86.00%\n",
            "Epoch [15/30], Loss: 0.4017, Accuracy: 84.00%\n",
            "Epoch [16/30], Loss: 0.2553, Accuracy: 88.00%\n",
            "Epoch [17/30], Loss: 0.0990, Accuracy: 98.00%\n",
            "Epoch [18/30], Loss: 0.2586, Accuracy: 92.00%\n",
            "Epoch [19/30], Loss: 0.0812, Accuracy: 96.00%\n",
            "Epoch [20/30], Loss: 0.0845, Accuracy: 98.00%\n",
            "Epoch [21/30], Loss: 0.0504, Accuracy: 100.00%\n",
            "Epoch [22/30], Loss: 0.1045, Accuracy: 98.00%\n",
            "Epoch [23/30], Loss: 0.1007, Accuracy: 100.00%\n",
            "Epoch [24/30], Loss: 0.0797, Accuracy: 96.00%\n",
            "Epoch [25/30], Loss: 0.0645, Accuracy: 98.00%\n",
            "Epoch [26/30], Loss: 0.1687, Accuracy: 92.00%\n",
            "Epoch [27/30], Loss: 0.0279, Accuracy: 100.00%\n",
            "Epoch [28/30], Loss: 0.1799, Accuracy: 92.00%\n",
            "Epoch [29/30], Loss: 0.0516, Accuracy: 98.00%\n",
            "Epoch [30/30], Loss: 0.0715, Accuracy: 98.00%\n",
            "Finished Training\n",
            "----------------------------------------------------------\n",
            "Test Accuracy of the model on the 400 test images: 57.49999999999999 %\n"
          ],
          "name": "stdout"
        }
      ]
    },
    {
      "cell_type": "markdown",
      "metadata": {
        "id": "DKcdl-_xIk9G",
        "colab_type": "text"
      },
      "source": [
        "# **Part 2**"
      ]
    },
    {
      "cell_type": "markdown",
      "metadata": {
        "id": "LkUv4HA5Kqrs",
        "colab_type": "text"
      },
      "source": [
        "## **1) Increasing data by randomly rotating images (total 9600 images)**"
      ]
    },
    {
      "cell_type": "code",
      "metadata": {
        "id": "pD2IkQpoKo_n",
        "colab_type": "code",
        "outputId": "a43fd9b9-cfd6-4661-a0ac-cef407ed33e8",
        "colab": {
          "base_uri": "https://localhost:8080/",
          "height": 635
        }
      },
      "source": [
        "# load data into size (64, 64)\n",
        "img_size = (64, 64)\n",
        "batch_num = 50 # training sample number per batch\n",
        "\n",
        "# load training dataset\n",
        "trainloader_small_rot = list(load_dataset('./data/train/', img_size, batch_num=batch_num, shuffle=True, \n",
        "                                      augment=True, rotate_90=True, zero_centered=True))\n",
        "train_num_rot = len(trainloader_small_rot)\n",
        "print(\"Finish loading %d minibatches(=%d) of training samples.\" % (train_num_rot, batch_num))\n",
        "\n",
        "# load testing dataset\n",
        "testloader_small_rot = list(load_dataset('./data/test/', img_size, num_per_class=50, batch_num=batch_num))\n",
        "test_num_rot = len(testloader_small_rot)\n",
        "print(\"Finish loading %d minibatches(=%d) of testing samples.\" % (test_num_rot, batch_num))"
      ],
      "execution_count": 0,
      "outputs": [
        {
          "output_type": "stream",
          "text": [
            "Loading images from class: 0\n",
            "Loading images from class: 1\n",
            "Loading images from class: 2\n",
            "Loading images from class: 3\n",
            "Loading images from class: 4\n",
            "Loading images from class: 5\n",
            "Loading images from class: 6\n",
            "Loading images from class: 7\n",
            "Loading images from class: 8\n",
            "Loading images from class: 9\n",
            "Loading images from class: 10\n",
            "Loading images from class: 11\n",
            "Loading images from class: 12\n",
            "Loading images from class: 13\n",
            "Loading images from class: 14\n",
            "Loading images from class: 15\n",
            "9600\n",
            "50\n",
            "Finish loading 192 minibatches(=50) of training samples.\n",
            "Loading images from class: 0\n",
            "Loading images from class: 1\n",
            "Loading images from class: 2\n",
            "Loading images from class: 3\n",
            "Loading images from class: 4\n",
            "Loading images from class: 5\n",
            "Loading images from class: 6\n",
            "Loading images from class: 7\n",
            "Loading images from class: 8\n",
            "Loading images from class: 9\n",
            "Loading images from class: 10\n",
            "Loading images from class: 11\n",
            "Loading images from class: 12\n",
            "Loading images from class: 13\n",
            "Loading images from class: 14\n",
            "Loading images from class: 15\n",
            "400\n",
            "50\n",
            "Finish loading 8 minibatches(=50) of testing samples.\n"
          ],
          "name": "stdout"
        }
      ]
    },
    {
      "cell_type": "code",
      "metadata": {
        "id": "V2-NKwLO9zq2",
        "colab_type": "code",
        "outputId": "cd99bf52-6ac2-4683-f900-c81dcd9fee68",
        "colab": {
          "base_uri": "https://localhost:8080/",
          "height": 1000
        }
      },
      "source": [
        "net_r = Net()\n",
        "net_r = net_r.to(device)\n",
        "\n",
        "train_model(trainloader_small_rot,net_r)\n",
        "\n",
        "# print(\"----------------------------------------------------------------------------\")\n",
        "\n",
        "net_eval(testloader_small_rot,net_r)"
      ],
      "execution_count": 0,
      "outputs": [
        {
          "output_type": "stream",
          "text": [
            "Epoch [1/30], Loss: 2.6217, Accuracy: 14.00%\n",
            "Epoch [1/30], Loss: 2.3283, Accuracy: 24.00%\n",
            "Epoch [1/30], Loss: 2.3951, Accuracy: 20.00%\n",
            "Epoch [2/30], Loss: 2.1163, Accuracy: 36.00%\n",
            "Epoch [2/30], Loss: 1.8027, Accuracy: 30.00%\n",
            "Epoch [2/30], Loss: 1.6495, Accuracy: 54.00%\n",
            "Epoch [3/30], Loss: 1.5609, Accuracy: 50.00%\n",
            "Epoch [3/30], Loss: 1.6426, Accuracy: 46.00%\n",
            "Epoch [3/30], Loss: 1.3479, Accuracy: 42.00%\n",
            "Epoch [4/30], Loss: 1.4579, Accuracy: 50.00%\n",
            "Epoch [4/30], Loss: 1.5618, Accuracy: 58.00%\n",
            "Epoch [4/30], Loss: 1.2008, Accuracy: 62.00%\n",
            "Epoch [5/30], Loss: 1.4157, Accuracy: 48.00%\n",
            "Epoch [5/30], Loss: 1.2461, Accuracy: 54.00%\n",
            "Epoch [5/30], Loss: 0.8670, Accuracy: 72.00%\n",
            "Epoch [6/30], Loss: 1.2114, Accuracy: 52.00%\n",
            "Epoch [6/30], Loss: 1.2084, Accuracy: 58.00%\n",
            "Epoch [6/30], Loss: 0.7516, Accuracy: 78.00%\n",
            "Epoch [7/30], Loss: 1.0284, Accuracy: 64.00%\n",
            "Epoch [7/30], Loss: 0.9703, Accuracy: 68.00%\n",
            "Epoch [7/30], Loss: 0.6195, Accuracy: 74.00%\n",
            "Epoch [8/30], Loss: 1.0119, Accuracy: 64.00%\n",
            "Epoch [8/30], Loss: 0.7889, Accuracy: 74.00%\n",
            "Epoch [8/30], Loss: 0.6038, Accuracy: 78.00%\n",
            "Epoch [9/30], Loss: 0.9304, Accuracy: 70.00%\n",
            "Epoch [9/30], Loss: 0.9353, Accuracy: 74.00%\n",
            "Epoch [9/30], Loss: 0.6924, Accuracy: 78.00%\n",
            "Epoch [10/30], Loss: 0.8971, Accuracy: 74.00%\n",
            "Epoch [10/30], Loss: 0.6186, Accuracy: 76.00%\n",
            "Epoch [10/30], Loss: 0.3647, Accuracy: 90.00%\n",
            "Epoch [11/30], Loss: 0.7715, Accuracy: 70.00%\n",
            "Epoch [11/30], Loss: 0.5959, Accuracy: 78.00%\n",
            "Epoch [11/30], Loss: 0.5123, Accuracy: 76.00%\n",
            "Epoch [12/30], Loss: 0.6056, Accuracy: 86.00%\n",
            "Epoch [12/30], Loss: 0.7136, Accuracy: 80.00%\n",
            "Epoch [12/30], Loss: 0.4131, Accuracy: 84.00%\n",
            "Epoch [13/30], Loss: 0.6138, Accuracy: 80.00%\n",
            "Epoch [13/30], Loss: 0.3401, Accuracy: 92.00%\n",
            "Epoch [13/30], Loss: 0.3314, Accuracy: 86.00%\n",
            "Epoch [14/30], Loss: 0.4973, Accuracy: 84.00%\n",
            "Epoch [14/30], Loss: 0.3116, Accuracy: 90.00%\n",
            "Epoch [14/30], Loss: 0.3123, Accuracy: 88.00%\n",
            "Epoch [15/30], Loss: 0.5446, Accuracy: 78.00%\n",
            "Epoch [15/30], Loss: 0.2957, Accuracy: 88.00%\n",
            "Epoch [15/30], Loss: 0.1274, Accuracy: 92.00%\n",
            "Epoch [16/30], Loss: 0.4208, Accuracy: 86.00%\n",
            "Epoch [16/30], Loss: 0.3157, Accuracy: 84.00%\n",
            "Epoch [16/30], Loss: 0.2966, Accuracy: 92.00%\n",
            "Epoch [17/30], Loss: 0.4223, Accuracy: 86.00%\n",
            "Epoch [17/30], Loss: 0.4836, Accuracy: 84.00%\n",
            "Epoch [17/30], Loss: 0.2797, Accuracy: 90.00%\n",
            "Epoch [18/30], Loss: 0.4153, Accuracy: 88.00%\n",
            "Epoch [18/30], Loss: 0.2475, Accuracy: 88.00%\n",
            "Epoch [18/30], Loss: 0.2750, Accuracy: 84.00%\n",
            "Epoch [19/30], Loss: 0.2170, Accuracy: 92.00%\n",
            "Epoch [19/30], Loss: 0.1891, Accuracy: 94.00%\n",
            "Epoch [19/30], Loss: 0.0721, Accuracy: 98.00%\n",
            "Epoch [20/30], Loss: 0.1297, Accuracy: 96.00%\n",
            "Epoch [20/30], Loss: 0.1785, Accuracy: 94.00%\n",
            "Epoch [20/30], Loss: 0.2607, Accuracy: 92.00%\n",
            "Epoch [21/30], Loss: 0.2798, Accuracy: 90.00%\n",
            "Epoch [21/30], Loss: 0.1463, Accuracy: 94.00%\n",
            "Epoch [21/30], Loss: 0.2232, Accuracy: 94.00%\n",
            "Epoch [22/30], Loss: 0.1024, Accuracy: 98.00%\n",
            "Epoch [22/30], Loss: 0.3607, Accuracy: 88.00%\n",
            "Epoch [22/30], Loss: 0.1954, Accuracy: 90.00%\n",
            "Epoch [23/30], Loss: 0.1564, Accuracy: 94.00%\n",
            "Epoch [23/30], Loss: 0.1056, Accuracy: 98.00%\n",
            "Epoch [23/30], Loss: 0.4364, Accuracy: 92.00%\n",
            "Epoch [24/30], Loss: 0.0938, Accuracy: 96.00%\n",
            "Epoch [24/30], Loss: 0.1014, Accuracy: 96.00%\n",
            "Epoch [24/30], Loss: 0.0244, Accuracy: 100.00%\n",
            "Epoch [25/30], Loss: 0.0999, Accuracy: 96.00%\n",
            "Epoch [25/30], Loss: 0.1923, Accuracy: 96.00%\n",
            "Epoch [25/30], Loss: 0.0927, Accuracy: 96.00%\n",
            "Epoch [26/30], Loss: 0.1572, Accuracy: 96.00%\n",
            "Epoch [26/30], Loss: 0.0832, Accuracy: 98.00%\n",
            "Epoch [26/30], Loss: 0.0369, Accuracy: 98.00%\n",
            "Epoch [27/30], Loss: 0.0537, Accuracy: 100.00%\n",
            "Epoch [27/30], Loss: 0.0880, Accuracy: 98.00%\n",
            "Epoch [27/30], Loss: 0.0238, Accuracy: 100.00%\n",
            "Epoch [28/30], Loss: 0.0499, Accuracy: 100.00%\n",
            "Epoch [28/30], Loss: 0.0342, Accuracy: 100.00%\n",
            "Epoch [28/30], Loss: 0.0780, Accuracy: 98.00%\n",
            "Epoch [29/30], Loss: 0.0393, Accuracy: 98.00%\n",
            "Epoch [29/30], Loss: 0.2456, Accuracy: 94.00%\n",
            "Epoch [29/30], Loss: 0.0230, Accuracy: 100.00%\n",
            "Epoch [30/30], Loss: 0.1066, Accuracy: 96.00%\n",
            "Epoch [30/30], Loss: 0.0925, Accuracy: 96.00%\n",
            "Epoch [30/30], Loss: 0.0926, Accuracy: 98.00%\n",
            "Finished Training\n",
            "Test Accuracy of the model on the 400 test images: 53.25 %\n"
          ],
          "name": "stdout"
        }
      ]
    },
    {
      "cell_type": "markdown",
      "metadata": {
        "id": "_i-p6p7fUhvE",
        "colab_type": "text"
      },
      "source": [
        "# **2) Adding batch normalization**"
      ]
    },
    {
      "cell_type": "code",
      "metadata": {
        "id": "odH-P3iuUkrq",
        "colab_type": "code",
        "colab": {}
      },
      "source": [
        "class SNet(nn.Module):\n",
        "    def __init__(self):\n",
        "        super(SNet, self).__init__()\n",
        "        self.conv1 = nn.Conv2d(1, 32, 5, padding=2)\n",
        "        self.pool = nn.MaxPool2d(2, 2)\n",
        "        self.conv2 = nn.Conv2d(32, 64, 5,padding=2)\n",
        "        self.fc1 = nn.Linear(64 * 16 * 16, 120)\n",
        "        self.fc2 = nn.Linear(120, 84)\n",
        "        self.fc3 = nn.Linear(84, 16)\n",
        "        self.drop_out = nn.Dropout2d()\n",
        "        self.fc1_bn = nn.BatchNorm1d(84)\n",
        "\n",
        "    def forward(self, x):\n",
        "        x = self.pool(F.relu(self.conv1(x)))\n",
        "        x = self.pool(F.relu(self.conv2(x)))        \n",
        "        x = x.view(-1, 64*16*16)\n",
        "        x = F.relu(self.fc1(x))\n",
        "        x = F.relu(self.fc2(x))\n",
        "        x = self.drop_out(x)\n",
        "        x = self.fc1_bn(x)\n",
        "        x = self.fc3(x)\n",
        "        return x"
      ],
      "execution_count": 0,
      "outputs": []
    },
    {
      "cell_type": "code",
      "metadata": {
        "id": "Iw-n0E5PlbVg",
        "colab_type": "code",
        "outputId": "75d16e9b-f666-488b-e7b1-622347d9660d",
        "colab": {
          "base_uri": "https://localhost:8080/",
          "height": 553
        }
      },
      "source": [
        "net_s = SNet()\n",
        "net_s = net_s.to(device)\n",
        "\n",
        "train_model(trainloader_small, net_s)\n",
        "\n",
        "print(\"----------------------------------------------------------------------------\")\n",
        "\n",
        "net_eval(testloader_small, net_s)"
      ],
      "execution_count": 0,
      "outputs": [
        {
          "output_type": "stream",
          "text": [
            "Epoch [1/30], Loss: 2.6943, Accuracy: 8.00%\n",
            "Epoch [2/30], Loss: 2.4383, Accuracy: 28.00%\n",
            "Epoch [3/30], Loss: 2.1924, Accuracy: 20.00%\n",
            "Epoch [4/30], Loss: 1.9583, Accuracy: 26.00%\n",
            "Epoch [5/30], Loss: 1.8766, Accuracy: 36.00%\n",
            "Epoch [6/30], Loss: 1.5724, Accuracy: 44.00%\n",
            "Epoch [7/30], Loss: 1.3566, Accuracy: 60.00%\n",
            "Epoch [8/30], Loss: 1.1153, Accuracy: 78.00%\n",
            "Epoch [9/30], Loss: 0.9749, Accuracy: 70.00%\n",
            "Epoch [10/30], Loss: 0.8057, Accuracy: 82.00%\n",
            "Epoch [11/30], Loss: 0.6105, Accuracy: 86.00%\n",
            "Epoch [12/30], Loss: 0.5973, Accuracy: 84.00%\n",
            "Epoch [13/30], Loss: 0.4142, Accuracy: 98.00%\n",
            "Epoch [14/30], Loss: 0.2717, Accuracy: 94.00%\n",
            "Epoch [15/30], Loss: 0.2822, Accuracy: 96.00%\n",
            "Epoch [16/30], Loss: 0.2681, Accuracy: 94.00%\n",
            "Epoch [17/30], Loss: 0.1466, Accuracy: 96.00%\n",
            "Epoch [18/30], Loss: 0.1155, Accuracy: 98.00%\n",
            "Epoch [19/30], Loss: 0.1168, Accuracy: 96.00%\n",
            "Epoch [20/30], Loss: 0.1113, Accuracy: 98.00%\n",
            "Epoch [21/30], Loss: 0.0626, Accuracy: 98.00%\n",
            "Epoch [22/30], Loss: 0.0515, Accuracy: 100.00%\n",
            "Epoch [23/30], Loss: 0.0777, Accuracy: 98.00%\n",
            "Epoch [24/30], Loss: 0.0565, Accuracy: 100.00%\n",
            "Epoch [25/30], Loss: 0.0370, Accuracy: 100.00%\n",
            "Epoch [26/30], Loss: 0.0228, Accuracy: 100.00%\n",
            "Epoch [27/30], Loss: 0.0128, Accuracy: 100.00%\n",
            "Epoch [28/30], Loss: 0.0238, Accuracy: 100.00%\n",
            "Epoch [29/30], Loss: 0.0127, Accuracy: 100.00%\n",
            "Epoch [30/30], Loss: 0.0202, Accuracy: 100.00%\n",
            "Finished Training\n",
            "----------------------------------------------------------------------------\n",
            "Test Accuracy of the model on the 400 test images: 61.0 %\n"
          ],
          "name": "stdout"
        }
      ]
    },
    {
      "cell_type": "markdown",
      "metadata": {
        "id": "6H5w9CIvcrug",
        "colab_type": "text"
      },
      "source": [
        "# **3) Sigmoid activation**"
      ]
    },
    {
      "cell_type": "code",
      "metadata": {
        "id": "OlZ7nW0wcu54",
        "colab_type": "code",
        "colab": {}
      },
      "source": [
        "class ANet(nn.Module):\n",
        "    def __init__(self):\n",
        "        super(ANet, self).__init__()\n",
        "        self.conv1 = nn.Conv2d(1, 32, 5, padding=2)\n",
        "        self.pool = nn.MaxPool2d(2, 2)\n",
        "        self.conv2 = nn.Conv2d(32, 64, 5,padding=2)\n",
        "        self.fc1 = nn.Linear(64 * 16 * 16, 120)\n",
        "        self.fc2 = nn.Linear(120, 84)\n",
        "        self.fc3 = nn.Linear(84, 16)\n",
        "        self.drop_out = nn.Dropout2d()\n",
        "        self.fc1_bn = nn.BatchNorm1d(84)\n",
        "\n",
        "    def forward(self, x):\n",
        "        x = self.pool(torch.sigmoid(self.conv1(x)))\n",
        "        x = self.pool(torch.sigmoid(self.conv2(x)))        \n",
        "        x = x.view(-1, 64*16*16)\n",
        "        x = torch.sigmoid(self.fc1(x))\n",
        "        x = torch.sigmoid(self.fc2(x))\n",
        "        x = self.drop_out(x)\n",
        "        x = self.fc1_bn(x)\n",
        "        x = self.fc3(x)\n",
        "        return x"
      ],
      "execution_count": 0,
      "outputs": []
    },
    {
      "cell_type": "code",
      "metadata": {
        "id": "XZnT7s0Yo62j",
        "colab_type": "code",
        "outputId": "c3a52736-ad94-4941-d806-3611aa33b6ab",
        "colab": {
          "base_uri": "https://localhost:8080/",
          "height": 553
        }
      },
      "source": [
        "net_a = ANet()\n",
        "net_a = net_a.to(device)\n",
        "\n",
        "train_model(trainloader_small, net_a)\n",
        "\n",
        "print(\"----------------------------------------------------------------------------\")\n",
        "\n",
        "net_eval(testloader_small, net_a)"
      ],
      "execution_count": 0,
      "outputs": [
        {
          "output_type": "stream",
          "text": [
            "Epoch [1/10], Loss: 2.8025, Accuracy: 10.00%\n",
            "Epoch [2/10], Loss: 2.6669, Accuracy: 12.00%\n",
            "Epoch [3/10], Loss: 2.5865, Accuracy: 16.00%\n",
            "Epoch [4/10], Loss: 2.5021, Accuracy: 24.00%\n",
            "Epoch [5/10], Loss: 2.3852, Accuracy: 22.00%\n",
            "Epoch [6/10], Loss: 2.3636, Accuracy: 22.00%\n",
            "Epoch [7/10], Loss: 2.2601, Accuracy: 22.00%\n",
            "Epoch [8/10], Loss: 2.1549, Accuracy: 34.00%\n",
            "Epoch [9/10], Loss: 2.1786, Accuracy: 30.00%\n",
            "Epoch [10/10], Loss: 2.1009, Accuracy: 26.00%\n",
            "Epoch [11/10], Loss: 2.0757, Accuracy: 30.00%\n",
            "Epoch [12/10], Loss: 2.0795, Accuracy: 24.00%\n",
            "Epoch [13/10], Loss: 1.9270, Accuracy: 32.00%\n",
            "Epoch [14/10], Loss: 2.0123, Accuracy: 32.00%\n",
            "Epoch [15/10], Loss: 1.9217, Accuracy: 30.00%\n",
            "Epoch [16/10], Loss: 1.8491, Accuracy: 42.00%\n",
            "Epoch [17/10], Loss: 1.5163, Accuracy: 48.00%\n",
            "Epoch [18/10], Loss: 1.8313, Accuracy: 32.00%\n",
            "Epoch [19/10], Loss: 1.7288, Accuracy: 38.00%\n",
            "Epoch [20/10], Loss: 1.6342, Accuracy: 38.00%\n",
            "Epoch [21/10], Loss: 1.5628, Accuracy: 48.00%\n",
            "Epoch [22/10], Loss: 1.6215, Accuracy: 40.00%\n",
            "Epoch [23/10], Loss: 1.3754, Accuracy: 52.00%\n",
            "Epoch [24/10], Loss: 1.7327, Accuracy: 38.00%\n",
            "Epoch [25/10], Loss: 1.4573, Accuracy: 46.00%\n",
            "Epoch [26/10], Loss: 1.3528, Accuracy: 54.00%\n",
            "Epoch [27/10], Loss: 1.2581, Accuracy: 58.00%\n",
            "Epoch [28/10], Loss: 1.1940, Accuracy: 54.00%\n",
            "Epoch [29/10], Loss: 1.2938, Accuracy: 56.00%\n",
            "Epoch [30/10], Loss: 1.1799, Accuracy: 58.00%\n",
            "Finished Training\n",
            "----------------------------------------------------------------------------\n",
            "Test Accuracy of the model on the 400 test images: 32.0 %\n"
          ],
          "name": "stdout"
        }
      ]
    },
    {
      "cell_type": "markdown",
      "metadata": {
        "id": "c6AEY4ONJnWP",
        "colab_type": "text"
      },
      "source": [
        "# **3) Tanh activation**"
      ]
    },
    {
      "cell_type": "code",
      "metadata": {
        "id": "3z6tcvulr2C8",
        "colab_type": "code",
        "colab": {}
      },
      "source": [
        "class TNet(nn.Module):\n",
        "    def __init__(self):\n",
        "        super(TNet, self).__init__()\n",
        "        self.conv1 = nn.Conv2d(1, 32, 5, padding=2)\n",
        "        self.pool = nn.MaxPool2d(2, 2)\n",
        "        self.conv2 = nn.Conv2d(32, 64, 5,padding=2)\n",
        "        self.fc1 = nn.Linear(64 * 16 * 16, 120)\n",
        "        self.fc2 = nn.Linear(120, 84)\n",
        "        self.fc3 = nn.Linear(84, 16)\n",
        "        self.drop_out = nn.Dropout2d()\n",
        "        self.fc1_bn = nn.BatchNorm1d(84)\n",
        "\n",
        "    def forward(self, x):\n",
        "        x = self.pool(torch.tanh(self.conv1(x)))\n",
        "        x = self.pool(torch.tanh(self.conv2(x)))        \n",
        "        x = x.view(-1, 64*16*16)\n",
        "        x = torch.tanh(self.fc1(x))\n",
        "        x = torch.tanh(self.fc2(x))\n",
        "        x = self.drop_out(x)\n",
        "        x = self.fc1_bn(x)\n",
        "        x = self.fc3(x)\n",
        "        return x"
      ],
      "execution_count": 0,
      "outputs": []
    },
    {
      "cell_type": "code",
      "metadata": {
        "id": "wHPfE2ExsD4U",
        "colab_type": "code",
        "outputId": "28fdec20-92e7-48cf-f2d5-3ca4751ac8dd",
        "colab": {
          "base_uri": "https://localhost:8080/",
          "height": 553
        }
      },
      "source": [
        "net_t = TNet()\n",
        "net_t = net_t.to(device)\n",
        "\n",
        "train_model(trainloader_small, net_t)\n",
        "\n",
        "print(\"----------------------------------------------------------------------------\")\n",
        "\n",
        "net_eval(testloader_small, net_t)"
      ],
      "execution_count": 0,
      "outputs": [
        {
          "output_type": "stream",
          "text": [
            "Epoch [1/10], Loss: 2.2048, Accuracy: 24.00%\n",
            "Epoch [2/10], Loss: 1.9778, Accuracy: 34.00%\n",
            "Epoch [3/10], Loss: 1.3677, Accuracy: 58.00%\n",
            "Epoch [4/10], Loss: 0.9470, Accuracy: 68.00%\n",
            "Epoch [5/10], Loss: 0.7157, Accuracy: 82.00%\n",
            "Epoch [6/10], Loss: 0.6261, Accuracy: 80.00%\n",
            "Epoch [7/10], Loss: 0.3806, Accuracy: 92.00%\n",
            "Epoch [8/10], Loss: 0.2380, Accuracy: 94.00%\n",
            "Epoch [9/10], Loss: 0.1929, Accuracy: 98.00%\n",
            "Epoch [10/10], Loss: 0.1487, Accuracy: 96.00%\n",
            "Epoch [11/10], Loss: 0.0631, Accuracy: 100.00%\n",
            "Epoch [12/10], Loss: 0.0738, Accuracy: 98.00%\n",
            "Epoch [13/10], Loss: 0.0646, Accuracy: 98.00%\n",
            "Epoch [14/10], Loss: 0.0511, Accuracy: 100.00%\n",
            "Epoch [15/10], Loss: 0.0423, Accuracy: 100.00%\n",
            "Epoch [16/10], Loss: 0.0154, Accuracy: 100.00%\n",
            "Epoch [17/10], Loss: 0.0149, Accuracy: 100.00%\n",
            "Epoch [18/10], Loss: 0.0153, Accuracy: 100.00%\n",
            "Epoch [19/10], Loss: 0.0161, Accuracy: 100.00%\n",
            "Epoch [20/10], Loss: 0.0064, Accuracy: 100.00%\n",
            "Epoch [21/10], Loss: 0.0050, Accuracy: 100.00%\n",
            "Epoch [22/10], Loss: 0.0027, Accuracy: 100.00%\n",
            "Epoch [23/10], Loss: 0.0033, Accuracy: 100.00%\n",
            "Epoch [24/10], Loss: 0.0033, Accuracy: 100.00%\n",
            "Epoch [25/10], Loss: 0.0032, Accuracy: 100.00%\n",
            "Epoch [26/10], Loss: 0.0033, Accuracy: 100.00%\n",
            "Epoch [27/10], Loss: 0.0041, Accuracy: 100.00%\n",
            "Epoch [28/10], Loss: 0.0046, Accuracy: 100.00%\n",
            "Epoch [29/10], Loss: 0.0017, Accuracy: 100.00%\n",
            "Epoch [30/10], Loss: 0.0034, Accuracy: 100.00%\n",
            "Finished Training\n",
            "----------------------------------------------------------------------------\n",
            "Test Accuracy of the model on the 400 test images: 60.5 %\n"
          ],
          "name": "stdout"
        }
      ]
    },
    {
      "cell_type": "markdown",
      "metadata": {
        "collapsed": true,
        "id": "nBHKIxzAYYM2",
        "colab_type": "text"
      },
      "source": [
        "## Problem 2: Fine Tuning a Pre-Trained Deep Network\n",
        "{Part 1: 30 points} Our convolutional network to this point isn't \"deep\". Fortunately, the representations learned by deep convolutional networks is that they generalize surprisingly well to other recognition tasks. \n",
        "\n",
        "But how do we use an existing deep network for a new recognition task? Take for instance,  [AlexNet](http://papers.nips.cc/paper/4824-imagenet-classification-with-deep-convolutional-neural-networks) network has 1000 units in the final layer corresponding to 1000 ImageNet categories.\n",
        "\n",
        "**Strategy A**: One could use those 1000 activations as a feature in place of a hand crafted feature such as a bag-of-features representation. You would train a classifier (typically a linear SVM) in that 1000 dimensional feature space. However, those activations are clearly very object specific and may not generalize well to new recognition tasks. It is generally better to use the activations in slightly earlier layers of the network, e.g. the 4096 activations in the last 2nd fully-connected layer. You can often get away with sub-sampling those 4096 activations considerably, e.g. taking only the first 200 activations. \n",
        "\n",
        "**Strategy B**: *Fine-tune* an existing network. In this scenario you take an existing network, replace the final layer (or more) with random weights, and train the entire network again with images and ground truth labels for your recognition task. You are effectively treating the pre-trained deep network as a better initialization than the random weights used when training from scratch. When you don't have enough training data to train a complex network from scratch (e.g. with the 16 classes) this is an attractive option. Fine-tuning can work far better than Strategy A of taking the activations directly from an pre-trained CNN. For example, in [this paper](http://www.cc.gatech.edu/~hays/papers/deep_geo.pdf) from CVPR 2015, there wasn't enough data to train a deep network from scratch, but fine tuning led to 4 times higher accuracy than using off-the-shelf networks directly.\n",
        "\n",
        "You are required to implement **Strategy B** to fine-tune a pre-trained **AlexNet** for this scene classification task. You should be able to achieve performance of 85% approximately. It takes roughly 35~40 minutes to train 20 epoches with AlexNet.\n",
        "\n",
        "Please provide detailed descriptions of:<br>\n",
        "(1) which layers of AlexNet have been replaced<br>\n",
        "(2) the architecture of the new layers added including activation methods (same as problem 1)<br>\n",
        "(3) the final accuracy on test set along with time consumption for both training and testing <br>\n",
        "\n",
        "{Part 2: 20 points} Implement Strategy A where you use the activations of the pre-trained network as features to train one-vs-all SVMs for your scene classification task. Report the final accuracy on test set along with time consumption for both training and testing.\n",
        "\n",
        "{Bonus: 10 points} Bonus will be given to those who fine-tune the [VGG network](https://pytorch.org/docs/stable/_modules/torchvision/models/vgg.html) [paper](https://arxiv.org/pdf/1409.1556.pdf) and compare performance with AlexNet. Explain why VGG performed better or worse.\n",
        "\n",
        "**Hints**:\n",
        "- Many pre-trained models are available in PyTorch at [here](http://pytorch.org/docs/master/torchvision/models.html).\n",
        "- For fine-tuning pretrained network using PyTorch, please read this [tutorial](http://pytorch.org/tutorials/beginner/transfer_learning_tutorial.html)."
      ]
    },
    {
      "cell_type": "code",
      "metadata": {
        "id": "VLG3WtEmYYM3",
        "colab_type": "code",
        "outputId": "bce1e4a0-6804-4f41-e411-7195ac3ba484",
        "colab": {
          "base_uri": "https://localhost:8080/",
          "height": 635
        }
      },
      "source": [
        "# reload data with a larger size\n",
        "img_size = (224, 224)\n",
        "batch_num = 50 # training sample number per batch \n",
        "\n",
        "# load training dataset\n",
        "trainloader_large = list(load_dataset('./data/train/', img_size, batch_num=batch_num, shuffle=True, \n",
        "                                      augment=False, is_color=True, zero_centered=True))\n",
        "train_num = len(trainloader_large)\n",
        "print(\"Finish loading %d minibatches(=%d) of training samples.\" % (train_num, batch_num))\n",
        "\n",
        "# load testing dataset\n",
        "testloader_large = list(load_dataset('./data/test/', img_size, num_per_class=50, batch_num=batch_num, is_color=True))\n",
        "test_num = len(testloader_large)\n",
        "print(\"Finish loading %d minibatches(=%d) of testing samples.\" % (test_num, batch_num))"
      ],
      "execution_count": 0,
      "outputs": [
        {
          "output_type": "stream",
          "text": [
            "Loading images from class: 0\n",
            "Loading images from class: 1\n",
            "Loading images from class: 2\n",
            "Loading images from class: 3\n",
            "Loading images from class: 4\n",
            "Loading images from class: 5\n",
            "Loading images from class: 6\n",
            "Loading images from class: 7\n",
            "Loading images from class: 8\n",
            "Loading images from class: 9\n",
            "Loading images from class: 10\n",
            "Loading images from class: 11\n",
            "Loading images from class: 12\n",
            "Loading images from class: 13\n",
            "Loading images from class: 14\n",
            "Loading images from class: 15\n",
            "2400\n",
            "50\n",
            "Finish loading 48 minibatches(=50) of training samples.\n",
            "Loading images from class: 0\n",
            "Loading images from class: 1\n",
            "Loading images from class: 2\n",
            "Loading images from class: 3\n",
            "Loading images from class: 4\n",
            "Loading images from class: 5\n",
            "Loading images from class: 6\n",
            "Loading images from class: 7\n",
            "Loading images from class: 8\n",
            "Loading images from class: 9\n",
            "Loading images from class: 10\n",
            "Loading images from class: 11\n",
            "Loading images from class: 12\n",
            "Loading images from class: 13\n",
            "Loading images from class: 14\n",
            "Loading images from class: 15\n",
            "400\n",
            "50\n",
            "Finish loading 8 minibatches(=50) of testing samples.\n"
          ],
          "name": "stdout"
        }
      ]
    },
    {
      "cell_type": "code",
      "metadata": {
        "id": "6Q_0Ji211_Qc",
        "colab_type": "code",
        "outputId": "8dbac666-11eb-45af-99a9-cd623a7feb7e",
        "colab": {
          "base_uri": "https://localhost:8080/",
          "height": 285
        }
      },
      "source": [
        "# show some images\n",
        "def imshow(img):\n",
        "    img = img / 2 + 0.5     # unnormalize\n",
        "    npimg = img.numpy()\n",
        "    if len(npimg.shape) > 2:\n",
        "        npimg = np.transpose(img, [1, 2, 0])\n",
        "    plt.figure\n",
        "    plt.imshow(npimg, 'gray')\n",
        "    plt.show()\n",
        "img, label = trainloader_large[0][0][11][0], trainloader_large[0][1][11]\n",
        "label = int(np.array(label))\n",
        "print(class_names[label])\n",
        "imshow(img)"
      ],
      "execution_count": 0,
      "outputs": [
        {
          "output_type": "stream",
          "text": [
            "TallBuilding\n"
          ],
          "name": "stdout"
        },
        {
          "output_type": "display_data",
          "data": {
            "image/png": "[encoded data removed]",
            "text/plain": [
              "<Figure size 432x288 with 1 Axes>"
            ]
          },
          "metadata": {
            "tags": []
          }
        }
      ]
    },
    {
      "cell_type": "markdown",
      "metadata": {
        "id": "p0G8bHA-K5XG",
        "colab_type": "text"
      },
      "source": [
        "# **Problem 2**\n",
        "# **Alexnet**"
      ]
    },
    {
      "cell_type": "markdown",
      "metadata": {
        "id": "T_IkHOn5ccNP",
        "colab_type": "text"
      },
      "source": [
        "# **Part 1 - Startegy B**"
      ]
    },
    {
      "cell_type": "code",
      "metadata": {
        "id": "qNPxx8wGTDN1",
        "colab_type": "code",
        "outputId": "e43937c3-7f72-4c72-82b0-8bda58c93507",
        "colab": {
          "base_uri": "https://localhost:8080/",
          "height": 163
        }
      },
      "source": [
        "# ==========================================\n",
        "#       Fine-Tune Pretrained Network\n",
        "# ==========================================\n",
        "##Implementation of Strategy B\n",
        "\n",
        "alexnet = models.alexnet(pretrained=True)\n",
        "\n",
        "#Defining the parameters\n",
        "num_epochs = 20\n",
        "num_classes = 16\n",
        "batch_size = 50\n",
        "learning_rate = 0.001\n",
        "\n",
        "nu_ftrs = alexnet.classifier[6].in_features\n",
        "\n",
        "features = list(alexnet.classifier.children())[:-1]\n",
        "\n",
        "#Updated AlexNet\n",
        "features.extend([nn.Linear(nu_ftrs,num_classes)])\n",
        "alexnet.classifier = nn.Sequential(*features)\n",
        "print(alexnet.classifier)\n",
        "\n",
        "alexnet = alexnet.to(device)\n",
        "\n",
        "#Defining the Loss and Optimizer\n",
        "criterion = nn.CrossEntropyLoss()\n",
        "optimizer = torch.optim.SGD(alexnet.parameters(), lr=learning_rate, momentum=0.9)"
      ],
      "execution_count": 0,
      "outputs": [
        {
          "output_type": "stream",
          "text": [
            "Sequential(\n",
            "  (0): Dropout(p=0.5, inplace=False)\n",
            "  (1): Linear(in_features=9216, out_features=4096, bias=True)\n",
            "  (2): ReLU(inplace=True)\n",
            "  (3): Dropout(p=0.5, inplace=False)\n",
            "  (4): Linear(in_features=4096, out_features=4096, bias=True)\n",
            "  (5): ReLU(inplace=True)\n",
            "  (6): Linear(in_features=4096, out_features=16, bias=True)\n",
            ")\n"
          ],
          "name": "stdout"
        }
      ]
    },
    {
      "cell_type": "code",
      "metadata": {
        "id": "GVGWTutOLHus",
        "colab_type": "code",
        "colab": {}
      },
      "source": [
        "def getTime(time):\n",
        "    sec = timedelta(seconds = time)\n",
        "    d = datetime(1,1,1) + sec\n",
        "    print(\"Time required:\")\n",
        "    print(\"Days:Hours:Minutes:Seconds\")\n",
        "    print(\"%d:%d:%d:%d\" % (d.day-1, d.hour, d.minute, d.second))"
      ],
      "execution_count": 0,
      "outputs": []
    },
    {
      "cell_type": "code",
      "metadata": {
        "id": "lM_HYxLGTOMU",
        "colab_type": "code",
        "outputId": "7c5f2ecf-f728-4e57-fa34-a9aee711cd0d",
        "colab": {
          "base_uri": "https://localhost:8080/",
          "height": 391
        }
      },
      "source": [
        "total_step = len(trainloader_large)\n",
        "loss_list = []\n",
        "acc_list =[]\n",
        "\n",
        "#Training the network\n",
        "start_time = time.time()\n",
        "for epoch in range(num_epochs):\n",
        "    for i, (images, labels) in enumerate(trainloader_large):\n",
        "        images = images.to(device)\n",
        "        labels = labels.to(device)\n",
        "        outputs = alexnet(images)\n",
        "        loss = criterion(outputs,labels)\n",
        "        loss_list.append(loss.item())\n",
        "        \n",
        "        optimizer.zero_grad()\n",
        "        loss.backward()\n",
        "        optimizer.step()\n",
        "        \n",
        "        total = labels.size(0)\n",
        "        _, predicted = torch.max(outputs.data,1)\n",
        "        correct = (predicted == labels).sum().item()\n",
        "        acc_list.append(correct/total)\n",
        "        \n",
        "        if (i+1) % 30 == 0:\n",
        "             print('Epoch [{}/{}], Loss: {:.4f}, Accuracy: {:.2f}%'\n",
        "                  .format(epoch + 1, num_epochs, loss.item(),\n",
        "                          (correct / total) * 100))\n",
        "end_time = time.time()\n",
        "total_time = end_time - start_time\n",
        "getTime(total_time)"
      ],
      "execution_count": 0,
      "outputs": [
        {
          "output_type": "stream",
          "text": [
            "Epoch [1/20], Loss: 0.5853, Accuracy: 82.00%\n",
            "Epoch [2/20], Loss: 0.4757, Accuracy: 84.00%\n",
            "Epoch [3/20], Loss: 0.3170, Accuracy: 92.00%\n",
            "Epoch [4/20], Loss: 0.3675, Accuracy: 86.00%\n",
            "Epoch [5/20], Loss: 0.2049, Accuracy: 94.00%\n",
            "Epoch [6/20], Loss: 0.1622, Accuracy: 96.00%\n",
            "Epoch [7/20], Loss: 0.0836, Accuracy: 98.00%\n",
            "Epoch [8/20], Loss: 0.0833, Accuracy: 96.00%\n",
            "Epoch [9/20], Loss: 0.0805, Accuracy: 98.00%\n",
            "Epoch [10/20], Loss: 0.0434, Accuracy: 100.00%\n",
            "Epoch [11/20], Loss: 0.1193, Accuracy: 96.00%\n",
            "Epoch [12/20], Loss: 0.0451, Accuracy: 98.00%\n",
            "Epoch [13/20], Loss: 0.0394, Accuracy: 100.00%\n",
            "Epoch [14/20], Loss: 0.1595, Accuracy: 92.00%\n",
            "Epoch [15/20], Loss: 0.0485, Accuracy: 100.00%\n",
            "Epoch [16/20], Loss: 0.0281, Accuracy: 100.00%\n",
            "Epoch [17/20], Loss: 0.0206, Accuracy: 100.00%\n",
            "Epoch [18/20], Loss: 0.0629, Accuracy: 98.00%\n",
            "Epoch [19/20], Loss: 0.0492, Accuracy: 98.00%\n",
            "Epoch [20/20], Loss: 0.0128, Accuracy: 100.00%\n",
            "Time required:\n",
            "Days:Hours:Minutes:Seconds\n",
            "0:0:1:39\n"
          ],
          "name": "stdout"
        }
      ]
    },
    {
      "cell_type": "code",
      "metadata": {
        "id": "6PHAsXHtoDmB",
        "colab_type": "code",
        "outputId": "0ec41286-19bd-429e-8aab-759711eaba15",
        "colab": {
          "base_uri": "https://localhost:8080/",
          "height": 33
        }
      },
      "source": [
        "alexnet.eval()\n",
        "with torch.no_grad():\n",
        "    correct = 0\n",
        "    total = 0\n",
        "    for images, labels in testloader_large:\n",
        "        images = images.to(device)\n",
        "        labels = labels.to(device)\n",
        "        outputs = alexnet(images)\n",
        "        _, predicted = torch.max(outputs.data, 1)\n",
        "        total += labels.size(0)\n",
        "        correct += (predicted == labels).sum().item()\n",
        "    print('Test accuracy over 400 images: {}%'.format((correct/total)*100))"
      ],
      "execution_count": 0,
      "outputs": [
        {
          "output_type": "stream",
          "text": [
            "Test accuracy over 400 images: 86.0%\n"
          ],
          "name": "stdout"
        }
      ]
    },
    {
      "cell_type": "markdown",
      "metadata": {
        "id": "Ol8YXK2S7Kz8",
        "colab_type": "text"
      },
      "source": [
        "## **Part 2 - Startegy A**"
      ]
    },
    {
      "cell_type": "code",
      "metadata": {
        "id": "O80clKXP2hdT",
        "colab_type": "code",
        "colab": {}
      },
      "source": [
        "alex_net = models.alexnet(pretrained=True)\n",
        "\n",
        "train_features = []\n",
        "train_labels = []\n",
        "for i, (images, labels) in enumerate(trainloader_large):\n",
        "  outputs = alex_net(images)\n",
        "  train_features.extend(outputs.detach().numpy())\n",
        "  train_labels.extend(labels)\n",
        "\n",
        "test_features = []\n",
        "test_labels = []\n",
        "for i, (images, labels) in enumerate(testloader_large):\n",
        "  outputs = alex_net(images)\n",
        "  test_features.extend(outputs.detach().numpy())\n",
        "  test_labels.extend(labels)"
      ],
      "execution_count": 0,
      "outputs": []
    },
    {
      "cell_type": "markdown",
      "metadata": {
        "id": "cx82rIt96i46",
        "colab_type": "text"
      },
      "source": [
        "Training Linear SVC"
      ]
    },
    {
      "cell_type": "code",
      "metadata": {
        "id": "mBXVBiCBv1TV",
        "colab_type": "code",
        "colab": {
          "base_uri": "https://localhost:8080/",
          "height": 82
        },
        "outputId": "7770ba62-a9dc-45b1-a317-365ae7ea3e0f"
      },
      "source": [
        "from sklearn.svm import LinearSVC\n",
        "start_time = time.time()\n",
        "clf = LinearSVC(random_state=0, C=0.0001, multi_class='ovr')\n",
        "clf.fit(train_features, train_labels)\n",
        "predict = clf.predict(test_features)\n",
        "print (\"Regularization Factor = {:.5f}\".format(0.0001), \",\\t Accuracy:\", np.mean(predict == test_labels)*100, \"%\")\n",
        "end_time = time.time()\n",
        "total_time = end_time - start_time\n",
        "getTime(total_time)"
      ],
      "execution_count": 78,
      "outputs": [
        {
          "output_type": "stream",
          "text": [
            "Regularization Factor = 0.00010 ,\t Accuracy: 82.25 %\n",
            "Time required:\n",
            "Days:Hours:Minutes:Seconds\n",
            "0:0:0:1\n"
          ],
          "name": "stdout"
        }
      ]
    },
    {
      "cell_type": "markdown",
      "metadata": {
        "id": "0IM3m66Q3gi6",
        "colab_type": "text"
      },
      "source": [
        "I have taken 1000 features from last layer of AlexNet for each image and trained Linear SVC. Regularization factor used is 0.00010. It gives an accuracy of 82.25%"
      ]
    },
    {
      "cell_type": "markdown",
      "metadata": {
        "id": "ETXoX2s5Mx9d",
        "colab_type": "text"
      },
      "source": [
        "# **Bonus - VGG**"
      ]
    },
    {
      "cell_type": "code",
      "metadata": {
        "id": "mk4tT4uZ8u2Y",
        "colab_type": "code",
        "colab": {}
      },
      "source": [
        "def train(model, dataloader, optimizer, criterion, num_epochs = 1):\n",
        "    # set model to training mode\n",
        "    start_time = time.time()\n",
        "    model.train()\n",
        "    for epoch in range(num_epochs):\n",
        "        \n",
        "        for i, (images, labels) in enumerate(dataloader):\n",
        "            images = images.to(device)\n",
        "            labels = labels.to(device)\n",
        "\n",
        "            outputs = model(images)\n",
        "            \n",
        "            loss = criterion(outputs, labels)\n",
        "            \n",
        "            optimizer.zero_grad()\n",
        "            loss.backward()\n",
        "            optimizer.step()\n",
        "\n",
        "            total = labels.size(0)\n",
        "            _, predicted = torch.max(outputs.data,1)\n",
        "            correct = (predicted == labels).sum().item()\n",
        "            acc_list.append(correct/total)    \n",
        "\n",
        "            if i == len(dataloader)-1:\n",
        "             print('Epoch [{}/{}], Loss: {:.4f}, Accuracy: {:.2f}%'\n",
        "                  .format(epoch + 1, num_epochs, loss.item(),\n",
        "                          (correct / total) * 100))\n",
        "\n",
        "    end_time = time.time()\n",
        "    total_time = end_time - start_time\n",
        "    getTime(total_time)\n",
        "\n",
        "def calculate_accuracy(model, loader):\n",
        "    start_time = time.time()\n",
        "    model.eval()\n",
        "    with torch.no_grad():\n",
        "        correct = 0\n",
        "        total = 0\n",
        "        for images, labels in loader:\n",
        "            images = images.to(device)\n",
        "            labels = labels.to(device)\n",
        "            outputs = model(images)\n",
        "            _, predicted = torch.max(outputs.data, 1)\n",
        "            total += labels.size(0)\n",
        "            correct += (predicted == labels).sum().item()\n",
        "        print('Test accuracy over 400 images: {}%'.format((correct/total)*100))\n",
        "    end_time = time.time()\n",
        "    total_time = end_time - start_time\n",
        "    getTime(total_time)"
      ],
      "execution_count": 0,
      "outputs": []
    },
    {
      "cell_type": "code",
      "metadata": {
        "id": "jXK05KnUNvZg",
        "colab_type": "code",
        "outputId": "b1b0f70f-0ecb-4037-cf6b-816ee23dae2a",
        "colab": {
          "base_uri": "https://localhost:8080/",
          "height": 1000
        }
      },
      "source": [
        "vgg16 = models.vgg16(pretrained=True)\n",
        "print(vgg16)\n",
        "\n",
        "vgg16.classifier=nn.Sequential(\n",
        "             nn.Linear(512 * 7 * 7, 4096),\n",
        "             nn.ReLU(inplace=True),\n",
        "             nn.Dropout(),\n",
        "             nn.Linear(4096, 4096),\n",
        "             nn.ReLU(inplace=True),\n",
        "             nn.Dropout(),\n",
        "             nn.Linear(4096, 16),\n",
        "        )\n",
        "\n",
        "loss= nn.CrossEntropyLoss()\n",
        "optimizer = optim.Adam(vgg16.parameters(), lr=0.00001)\n",
        "\n",
        "train(vgg16.to(device), trainloader_large, optimizer, loss.to(device), num_epochs=10)\n",
        "calculate_accuracy(vgg16.to(device), testloader_large)"
      ],
      "execution_count": 80,
      "outputs": [
        {
          "output_type": "stream",
          "text": [
            "VGG(\n",
            "  (features): Sequential(\n",
            "    (0): Conv2d(3, 64, kernel_size=(3, 3), stride=(1, 1), padding=(1, 1))\n",
            "    (1): ReLU(inplace=True)\n",
            "    (2): Conv2d(64, 64, kernel_size=(3, 3), stride=(1, 1), padding=(1, 1))\n",
            "    (3): ReLU(inplace=True)\n",
            "    (4): MaxPool2d(kernel_size=2, stride=2, padding=0, dilation=1, ceil_mode=False)\n",
            "    (5): Conv2d(64, 128, kernel_size=(3, 3), stride=(1, 1), padding=(1, 1))\n",
            "    (6): ReLU(inplace=True)\n",
            "    (7): Conv2d(128, 128, kernel_size=(3, 3), stride=(1, 1), padding=(1, 1))\n",
            "    (8): ReLU(inplace=True)\n",
            "    (9): MaxPool2d(kernel_size=2, stride=2, padding=0, dilation=1, ceil_mode=False)\n",
            "    (10): Conv2d(128, 256, kernel_size=(3, 3), stride=(1, 1), padding=(1, 1))\n",
            "    (11): ReLU(inplace=True)\n",
            "    (12): Conv2d(256, 256, kernel_size=(3, 3), stride=(1, 1), padding=(1, 1))\n",
            "    (13): ReLU(inplace=True)\n",
            "    (14): Conv2d(256, 256, kernel_size=(3, 3), stride=(1, 1), padding=(1, 1))\n",
            "    (15): ReLU(inplace=True)\n",
            "    (16): MaxPool2d(kernel_size=2, stride=2, padding=0, dilation=1, ceil_mode=False)\n",
            "    (17): Conv2d(256, 512, kernel_size=(3, 3), stride=(1, 1), padding=(1, 1))\n",
            "    (18): ReLU(inplace=True)\n",
            "    (19): Conv2d(512, 512, kernel_size=(3, 3), stride=(1, 1), padding=(1, 1))\n",
            "    (20): ReLU(inplace=True)\n",
            "    (21): Conv2d(512, 512, kernel_size=(3, 3), stride=(1, 1), padding=(1, 1))\n",
            "    (22): ReLU(inplace=True)\n",
            "    (23): MaxPool2d(kernel_size=2, stride=2, padding=0, dilation=1, ceil_mode=False)\n",
            "    (24): Conv2d(512, 512, kernel_size=(3, 3), stride=(1, 1), padding=(1, 1))\n",
            "    (25): ReLU(inplace=True)\n",
            "    (26): Conv2d(512, 512, kernel_size=(3, 3), stride=(1, 1), padding=(1, 1))\n",
            "    (27): ReLU(inplace=True)\n",
            "    (28): Conv2d(512, 512, kernel_size=(3, 3), stride=(1, 1), padding=(1, 1))\n",
            "    (29): ReLU(inplace=True)\n",
            "    (30): MaxPool2d(kernel_size=2, stride=2, padding=0, dilation=1, ceil_mode=False)\n",
            "  )\n",
            "  (avgpool): AdaptiveAvgPool2d(output_size=(7, 7))\n",
            "  (classifier): Sequential(\n",
            "    (0): Linear(in_features=25088, out_features=4096, bias=True)\n",
            "    (1): ReLU(inplace=True)\n",
            "    (2): Dropout(p=0.5, inplace=False)\n",
            "    (3): Linear(in_features=4096, out_features=4096, bias=True)\n",
            "    (4): ReLU(inplace=True)\n",
            "    (5): Dropout(p=0.5, inplace=False)\n",
            "    (6): Linear(in_features=4096, out_features=1000, bias=True)\n",
            "  )\n",
            ")\n",
            "Epoch [1/10], Loss: 1.0520, Accuracy: 60.00%\n",
            "Epoch [2/10], Loss: 0.4781, Accuracy: 86.00%\n",
            "Epoch [3/10], Loss: 0.3353, Accuracy: 92.00%\n",
            "Epoch [4/10], Loss: 0.2389, Accuracy: 94.00%\n",
            "Epoch [5/10], Loss: 0.0468, Accuracy: 100.00%\n",
            "Epoch [6/10], Loss: 0.0445, Accuracy: 98.00%\n",
            "Epoch [7/10], Loss: 0.1187, Accuracy: 96.00%\n",
            "Epoch [8/10], Loss: 0.0100, Accuracy: 100.00%\n",
            "Epoch [9/10], Loss: 0.0100, Accuracy: 100.00%\n",
            "Epoch [10/10], Loss: 0.0040, Accuracy: 100.00%\n",
            "Time required:\n",
            "Days:Hours:Minutes:Seconds\n",
            "0:0:15:19\n",
            "Test accuracy over 400 images: 92.5%\n",
            "Time required:\n",
            "Days:Hours:Minutes:Seconds\n",
            "0:0:0:4\n"
          ],
          "name": "stdout"
        }
      ]
    },
    {
      "cell_type": "markdown",
      "metadata": {
        "id": "BLaTuy0ONj4Q",
        "colab_type": "text"
      },
      "source": [
        "\n",
        "## **ASSIGNMENT REPORT**\n",
        "\n",
        "# Problem 1: \n",
        "# Part 1: Training a Network from Scratch\n",
        "I have used 30 epochs for training model.\n",
        "\n",
        "I have implmented a CNN from scratch for the first problem. Layers for the CNN are described as below:\n",
        "\n",
        "* Layer 1: \n",
        "Input channel size is 1 and output channel size: 32. We convolve with a kernel of size $5\\times5$ by adding a padding of 2, followed by a ReLU activation and a max pooling of $2\\times2$ with stride of 2.\n",
        "\n",
        "* Layer 2: Input channel size is 32 and output channel size: 64. We convolve with a kernel of size $5\\times5$, followed by a ReLU activation and a max pooling of $2\\times2$ with stride of 2.\n",
        "\n",
        "After two pooling, size is reduced to $16\\times16$ from initial $64\\times64$. We then flatten it and feed to two linear layers followed by a dropout layer and a linear layer.\n",
        "\n",
        "Linear Layer 1: Flatenned input of size $16\\times16\\times64$ and consists of 120\n",
        "Linear Layer 2: Input of 120 and consists of fully connected 84 nodes\n",
        "Linear Layer 3: Input of 84 nodes and consists of fully connected 16 nodes equal to the number of classes in the given dataset\n",
        "\n",
        "As per the reuirement data augmentation is done to double the size of the dataset. All the images are mirrored and added to the existing dataset.\n",
        "Also data normalization has been performed.\n",
        "\n",
        "Accuracy of the model is 57.49%\n",
        "\n",
        "# Part 2: Trying out diffferent techniques:\n",
        "\n",
        "*  **Random rotation of images:**\n",
        "   Images are rotated randomly to increase the size of the dataset. Model trained on 9600 images. Accuracy is 53.25%\n",
        "*  **Batch normalization**\n",
        "Batch normalization is done before the dropout layer.\n",
        "Accuracy is 61%\n",
        "*  **Sigmoid Activation**\n",
        "  Gives very less accuracy when sigmoid is used for activation instead of ReLU\n",
        "  Accuracy: 32%\n",
        "*  **Tanh Activation**\n",
        "  Tanh used for activation instead of ReLU.\n",
        "  Accuracy is: 60.5%\n",
        "\n",
        "  I also tried SGD optimizer but it gives less accuracy compared to Adam.\n",
        "\n",
        "# Problem 2: Fine-Tuning a Pre-trained Deep Network:\n",
        "# Part 1: Alexnet\n",
        "**Implementation of strategy B:** Implemented as follows:\n",
        "\n",
        "Download AlexNet using pytorch.\n",
        "Change the last layer to output 16 features as per the number of classes in the given dataset.\n",
        "\n",
        "Accuracy is 86%\n",
        "\n",
        "Time taken for training is: \n",
        "\n",
        "$Minutes:Seconds$\n",
        "\n",
        "$1:39$\n",
        "\n",
        "when trained on GPU.\n",
        "\n",
        "# Part 2: Alexnet\n",
        "**Implementation of strategy A:**\n",
        "Last layer of pretrained AlexNet outputs 1000 features for each image.\n",
        "I have taken these 1000 features for each image and trained Linear SVC. Regularization factor used is 0.00010. It gives an accuracy of 82.25%\n",
        "\n",
        "\n",
        "# Bonus: Finetuning VGG\n",
        "\n",
        "Defined a new clasifier for VGG by replacing the output features from 1000 to 16 in the last layer.\n",
        "\n",
        "Initial structure:\n",
        "```\n",
        "(classifier): Sequential(\n",
        "    (0): Linear(in_features=25088, out_features=4096, bias=True)\n",
        "    (1): ReLU(inplace=True)\n",
        "    (2): Dropout(p=0.5, inplace=False)\n",
        "    (3): Linear(in_features=4096, out_features=4096, bias=True)\n",
        "    (4): ReLU(inplace=True)\n",
        "    (5): Dropout(p=0.5, inplace=False)\n",
        "    (6): Linear(in_features=4096, out_features=1000, bias=True)\n",
        "  )\n",
        "```\n",
        "Modified structure is:\n",
        "```\n",
        "(classifier): Sequential(\n",
        "    (0): Linear(in_features=25088, out_features=4096, bias=True)\n",
        "    (1): ReLU(inplace=True)\n",
        "    (2): Dropout(p=0.5, inplace=False)\n",
        "    (3): Linear(in_features=4096, out_features=4096, bias=True)\n",
        "    (4): ReLU(inplace=True)\n",
        "    (5): Dropout(p=0.5, inplace=False)\n",
        "    (6): Linear(in_features=4096, out_features=16, bias=True)\n",
        "  )\n",
        "```\n",
        "\n",
        "VGG16 gives an accuracy of 92.5% much higher than AlexNet. I think it is due to more layers and parameters defined in the net than AlexNet.\n",
        "\n",
        "Time required for training is: \n",
        "\n",
        "$Minutes:Seconds$\n",
        "\n",
        "$15:19$"
      ]
    },
    {
      "cell_type": "markdown",
      "metadata": {
        "id": "5UGefIYpYYNF",
        "colab_type": "text"
      },
      "source": [
        "## Submission guidelines\n",
        "---\n",
        "Extract the downloaded .zip file to a folder of your preference. The input and output paths are predefined and **DO NOT** change them, (we assume that 'Surname_Givenname_SBUID_hw4' is your working directory, and all the paths are relative to this directory).  The image read and write functions are already written for you. All you need to do is to fill in the blanks as indicated to generate proper outputs. **DO NOT** zip and upload the dataset on blackboard due to size limit.\n",
        "\n",
        "When submitting your .zip file through blackboard, please\n",
        "-- name your .zip file as **Surname_Givenname_SBUID_hw*.zip**.\n",
        "\n",
        "This zip file should include:\n",
        "```\n",
        "Surname_Givenname_SBUID_hw*\n",
        "        |---Surname_Givenname_SBUID_hw*.ipynb\n",
        "        |---Surname_Givenname_SBUID_hw*.py\n",
        "        |---Surname_Givenname_SBUID_hw*.pdf\n",
        "```\n",
        "where Surname_Givenname_SBUID_hw*.py is the Python code of Surname_Givenname_SBUID_hw*.ipynb, which can be dowloaded by File->Download .py.\n",
        "\n",
        "For instance, student Michael Jordan should submit a zip file named \"Jordan_Michael_111134567_hw4.zip\" for homework4 in this structure:\n",
        "```\n",
        "Jordan_Michael_111134567_hw4\n",
        "        |---Jordan_Michael_111134567_hw4.ipynb\n",
        "        |---Jordan_Michael_111134567_hw4.py\n",
        "        |---Jordan_Michael_111134567_hw4.pdf\n",
        "```\n",
        "\n",
        "The **Surname_Givenname_SBUID_hw*.pdf** should include a **google shared link** and **Surname_Givenname_SBUID_Pred*.pdf** should be your test set prediction file in the specified format. To generate the **google shared link**, first create a folder named **Surname_Givenname_SBUID_hw*** in your Google Drive with your Stony Brook account. The structure of the files in the folder should be exactly the same as the one you downloaded. If you alter the folder structures, the grading of your homework will be significantly delayed and possibly penalized.\n",
        "\n",
        "Then right click this folder, click ***Get shareable link***, in the People textfield, enter two TA's emails: ***bo.cao.1@stonybrook.edu*** and ***sayontan.ghosh@stonybrook.edu***. Make sure that TAs who have the link **can edit**, ***not just*** **can view**, and also **uncheck** the **Notify people** box.\n",
        "\n",
        "Colab has a good feature of version control, you should take advantage of this to save your work properly. However, the timestamp of the submission made in blackboard is the only one that we consider for grading. To be more specific, we will only grade the version of your code right before the timestamp of the submission made in blackboard. \n",
        "\n",
        "You are encouraged to post and answer questions on Piazza. Based on the amount of email that we have received in past years, there might be dealys in replying to personal emails. Please ask questions on Piazza and send emails only for personal issues.\n",
        "\n",
        "Be aware that your code will undergo plagiarism check both vertically and horizontally. Please do your own work.\n",
        "\n",
        "**Late submission penalty:** <br>\n",
        "There will be a 10% penalty per day for late submission. However, you will have 4 days throughout the whole semester to submit late without penalty. Note that the grace period is calculated by days instead of hours. If you submit the homework one minute after the deadline, one late day will be counted. Likewise, if you submit one minute after the deadline, the 10% penaly will be imposed if not using the grace period."
      ]
    },
    {
      "cell_type": "markdown",
      "metadata": {
        "id": "AYJOi8QYYYNG",
        "colab_type": "text"
      },
      "source": [
        "<!--Write your report here in markdown or html-->\n"
      ]
    }
  ]
}