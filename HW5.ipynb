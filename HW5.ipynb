{
  "nbformat": 4,
  "nbformat_minor": 0,
  "metadata": {
    "accelerator": "GPU",
    "anaconda-cloud": {},
    "colab": {
      "name": "CSE527_HW5_fall19.ipynb",
      "provenance": [],
      "collapsed_sections": [],
      "machine_shape": "hm"
    },
    "kernelspec": {
      "display_name": "Python 3",
      "language": "python",
      "name": "python3"
    },
    "language_info": {
      "codemirror_mode": {
        "name": "ipython",
        "version": 3
      },
      "file_extension": ".py",
      "mimetype": "text/x-python",
      "name": "python",
      "nbconvert_exporter": "python",
      "pygments_lexer": "ipython3",
      "version": "3.6.9"
    }
  },
  "cells": [
    {
      "cell_type": "markdown",
      "metadata": {
        "colab_type": "text",
        "id": "AcamCuuyjYb2"
      },
      "source": [
        "# Action Recognition @ UCF101  \n",
        "**Due date: 11:59 pm on Nov. 19, 2019 (Tuesday)**\n",
        "\n",
        "## Description\n",
        "---\n",
        "In this homework, you will be doing action recognition using Recurrent Neural Network (RNN), (Long-Short Term Memory) LSTM in particular. You will be given a dataset called UCF101, which consists of 101 different actions/classes and for each action, there will be 145 samples. We tagged each sample into either training or testing. Each sample is supposed to be a short video, but we sampled 25 frames from each videos to reduce the amount of data. Consequently, a training sample is an image tuple that forms a 3D volume with one dimension encoding *temporal correlation* between frames and a label indicating what action it is.\n",
        "\n",
        "To tackle this problem, we aim to build a neural network that can not only capture spatial information of each frame but also temporal information between frames. Fortunately, you don't have to do this on your own. RNN — a type of neural network designed to deal with time-series data — is right here for you to use. In particular, you will be using LSTM for this task.\n",
        "\n",
        "Instead of training an end-to-end neural network from scratch whose computation is prohibitively expensive, we divide this into two steps: feature extraction and modelling. Below are the things you need to implement for this homework:\n",
        "- **{35 pts} Feature extraction**. Use any of the [pre-trained models](https://pytorch.org/docs/stable/torchvision/models.html) to extract features from each frame. Specifically, we recommend not to use the activations of the last layer as the features tend to be task specific towards the end of the network. \n",
        "    **hints**: \n",
        "    - A good starting point would be to use a pre-trained VGG16 network, we suggest first fully connected layer `torchvision.models.vgg16` (4096 dim) as features of each video frame. This will result into a 4096x25 matrix for each video. \n",
        "    - Normalize your images using `torchvision.transforms` \n",
        "    ```\n",
        "    normalize = transforms.Normalize(mean=[0.485, 0.456, 0.406], std=[0.229, 0.224, 0.225])\n",
        "    prep = transforms.Compose([ transforms.ToTensor(), normalize ])\n",
        "    prep(img)\n",
        "    The mean and std. mentioned above is specific to Imagenet data\n",
        "    \n",
        "    ```\n",
        "    More details of image preprocessing in PyTorch can be found at http://pytorch.org/tutorials/beginner/data_loading_tutorial.html\n",
        "    \n",
        "- **{35 pts} Modelling**. With the extracted features, build an LSTM network which takes a **dx25** sample as input (where **d** is the dimension of the extracted feature for each frame), and outputs the action label of that sample.\n",
        "- **{20 pts} Evaluation**. After training your network, you need to evaluate your model with the testing data by computing the prediction accuracy **(5 points)**. The baseline test accuracy for this data is 75%, and **10 points** out of 20 is for achieving test accuracy greater than the baseline. Moreover, you need to compare **(5 points)** the result of your network with that of support vector machine (SVM) (stacking the **dx25** feature matrix to a long vector and train a SVM).\n",
        "- **{10 pts} Report**. Details regarding the report can be found in the submission section below.\n",
        "\n",
        "Notice that the size of the raw images is 256x340, whereas your pre-trained model might take **nxn** images as inputs. To solve this problem, instead of resizing the images which unfavorably changes the spatial ratio, we take a better solution: Cropping five **nxn** images, one at the image center and four at the corners and compute the **d**-dim features for each of them, and average these five **d**-dim feature to get a final feature representation for the raw image.\n",
        "For example, VGG takes 224x224 images as inputs, so we take the five 224x224 croppings of the image, compute 4096-dim VGG features for each of them, and then take the mean of these five 4096-dim vectors to be the representation of the image.\n",
        "\n",
        "In order to save you computational time, you need to do the classification task only for **the first 25** classes of the whole dataset. The same applies to those who have access to GPUs. **Bonus 10 points for running and reporting on the entire 101 classes.**\n",
        "\n",
        "\n",
        "## Dataset\n",
        "Download **dataset** at [UCF101](http://vision.cs.stonybrook.edu/~yangwang/public/UCF101_images.tar)(Image data for each video) and the **annos folder** which has the video labels and the label to class name mapping is included in the assignment folder uploaded. \n",
        "\n",
        "\n",
        "UCF101 dataset contains 101 actions and 13,320 videos in total.  \n",
        "\n",
        "+ `annos/actions.txt`  \n",
        "  + lists all the actions (`ApplyEyeMakeup`, .., `YoYo`)   \n",
        "  \n",
        "+ `annots/videos_labels_subsets.txt`  \n",
        "  + lists all the videos (`v_000001`, .., `v_013320`)  \n",
        "  + labels (`1`, .., `101`)  \n",
        "  + subsets (`1` for train, `2` for test)  \n",
        "\n",
        "+ `images/`  \n",
        "  + each folder represents a video\n",
        "  + the video/folder name to class mapping can be found using `annots/videos_labels_subsets.txt`, for e.g. `v_000001` belongs to class 1 i.e. `ApplyEyeMakeup`\n",
        "  + each video folder contains 25 frames  \n",
        "\n",
        "\n",
        "\n",
        "## Some Tutorials\n",
        "- Good materials for understanding RNN and LSTM\n",
        "    - http://blog.echen.me\n",
        "    - http://karpathy.github.io/2015/05/21/rnn-effectiveness/\n",
        "    - http://colah.github.io/posts/2015-08-Understanding-LSTMs/\n",
        "- Implementing RNN and LSTM with PyTorch\n",
        "    - [LSTM with PyTorch](http://pytorch.org/tutorials/beginner/nlp/sequence_models_tutorial.html#sphx-glr-beginner-nlp-sequence-models-tutorial-py)\n",
        "    - [RNN with PyTorch](http://pytorch.org/tutorials/intermediate/char_rnn_classification_tutorial.html)"
      ]
    },
    {
      "cell_type": "code",
      "metadata": {
        "id": "lL4ztl2GCgcR",
        "colab_type": "code",
        "outputId": "2a614920-ca26-44a0-8627-97d207bcdd95",
        "colab": {
          "base_uri": "https://localhost:8080/",
          "height": 124
        }
      },
      "source": [
        "from google.colab import drive\n",
        "drive.mount('/content/gdrive')"
      ],
      "execution_count": 1,
      "outputs": [
        {
          "output_type": "stream",
          "text": [
            "Go to this URL in a browser: https://accounts.google.com/o/oauth2/auth?client_id=947318989803-6bn6qk8qdgf4n4g3pfee6491hc0brc4i.apps.googleusercontent.com&redirect_uri=urn%3aietf%3awg%3aoauth%3a2.0%3aoob&response_type=code&scope=email%20https%3a%2f%2fwww.googleapis.com%2fauth%2fdocs.test%20https%3a%2f%2fwww.googleapis.com%2fauth%2fdrive%20https%3a%2f%2fwww.googleapis.com%2fauth%2fdrive.photos.readonly%20https%3a%2f%2fwww.googleapis.com%2fauth%2fpeopleapi.readonly\n",
            "\n",
            "Enter your authorization code:\n",
            "··········\n",
            "Mounted at /content/gdrive\n"
          ],
          "name": "stdout"
        }
      ]
    },
    {
      "cell_type": "code",
      "metadata": {
        "id": "2gw1yq1-DKIL",
        "colab_type": "code",
        "outputId": "7e841c34-3449-41e8-ff6a-42a62a879b4a",
        "colab": {
          "base_uri": "https://localhost:8080/",
          "height": 34
        }
      },
      "source": [
        "cd '/content/gdrive/My Drive/Sarnot_SurabhiSantosh_112584690_hw5'"
      ],
      "execution_count": 2,
      "outputs": [
        {
          "output_type": "stream",
          "text": [
            "/content/gdrive/My Drive/Sarnot_SurabhiSantosh_112584690_hw5\n"
          ],
          "name": "stdout"
        }
      ]
    },
    {
      "cell_type": "code",
      "metadata": {
        "id": "pcwC_H_Q2WlC",
        "colab_type": "code",
        "colab": {}
      },
      "source": [
        "# import tarfile\n",
        "\n",
        "# tar = tarfile.open('UCF101_images.tar', \"r:\")\n",
        "# tar.extractall()\n",
        "# tar.close()"
      ],
      "execution_count": 0,
      "outputs": []
    },
    {
      "cell_type": "code",
      "metadata": {
        "id": "NrYnkqMZjS8N",
        "colab_type": "code",
        "colab": {}
      },
      "source": [
        "from torchvision import models\n",
        "from torchvision import transforms\n",
        "import scipy.io\n",
        "from random import shuffle\n",
        "import copy\n",
        "from sklearn.metrics import accuracy_score \n",
        "from sklearn.svm import LinearSVC\n",
        "from sklearn.multiclass import OneVsRestClassifier\n",
        "from sklearn.metrics import accuracy_score\n",
        "import torch\n",
        "import torch.nn as nn\n",
        "import torch.nn.functional as F\n",
        "import torch.optim as optim\n",
        "import torchvision\n",
        "\n",
        "import numpy as np\n",
        "import scipy as sp\n",
        "import pandas as pd\n",
        "import cv2\n",
        "from scipy.io import savemat\n",
        "import os\n",
        "import glob\n",
        "import pdb"
      ],
      "execution_count": 0,
      "outputs": []
    },
    {
      "cell_type": "markdown",
      "metadata": {
        "colab_type": "text",
        "id": "UdCRwkL7jxtc"
      },
      "source": [
        "---\n",
        "---\n",
        "## **Problem 1.** Feature extraction"
      ]
    },
    {
      "cell_type": "code",
      "metadata": {
        "id": "jk6POQ0gYvzk",
        "colab_type": "code",
        "colab": {}
      },
      "source": [
        "device = torch.device(\"cuda:0\" if torch.cuda.is_available() else \"cpu\")"
      ],
      "execution_count": 0,
      "outputs": []
    },
    {
      "cell_type": "code",
      "metadata": {
        "colab_type": "code",
        "id": "urKQi8oAjYb-",
        "outputId": "5cf26e45-20db-48b7-9d46-c29e40e920ea",
        "colab": {
          "base_uri": "https://localhost:8080/",
          "height": 72
        }
      },
      "source": [
        "# \\*write your codes for feature extraction (You can use multiple cells, this is just a place holder)\n",
        "vgg16 = models.vgg16(pretrained=True)\n",
        "vgg16 = vgg16.to(device)\n",
        "del vgg16.classifier[2:]"
      ],
      "execution_count": 0,
      "outputs": [
        {
          "output_type": "stream",
          "text": [
            "Downloading: \"https://download.pytorch.org/models/vgg16-397923af.pth\" to /root/.cache/torch/checkpoints/vgg16-397923af.pth\n",
            "100%|██████████| 528M/528M [00:15<00:00, 36.7MB/s]\n"
          ],
          "name": "stderr"
        }
      ]
    },
    {
      "cell_type": "code",
      "metadata": {
        "id": "HakOBmr9FJPd",
        "colab_type": "code",
        "colab": {}
      },
      "source": [
        "anno = pd.read_csv(\"annos/videos_labels_subsets.txt\", header=None, sep='\\t')"
      ],
      "execution_count": 0,
      "outputs": []
    },
    {
      "cell_type": "code",
      "metadata": {
        "id": "pNXwX2tA3bKo",
        "colab_type": "code",
        "colab": {}
      },
      "source": [
        "normalize = transforms.Normalize(mean=[0.485, 0.456, 0.406], std=[0.229, 0.224, 0.225])\n",
        "prep = transforms.Compose([ transforms.ToTensor(), normalize ])"
      ],
      "execution_count": 0,
      "outputs": []
    },
    {
      "cell_type": "code",
      "metadata": {
        "id": "hihZ7KxQXZCF",
        "colab_type": "code",
        "colab": {}
      },
      "source": [
        "def crop_img(img, size=(224, 224)):\n",
        "    return (img[:, :size[0], :size[1]], img[:, (img.shape[1]-size[0]):, :size[1]], \n",
        "            img[:, :size[0], (img.shape[2]-size[1]):],\n",
        "            img[:, (img.shape[1]-size[0]):, (img.shape[2]-size[1]):], \n",
        "            img[:, (img.shape[1]-size[0])//2:(img.shape[1]+size[0])//2, (img.shape[2]-size[1])//2:(img.shape[2]+size[1])//2])"
      ],
      "execution_count": 0,
      "outputs": []
    },
    {
      "cell_type": "code",
      "metadata": {
        "id": "CNT7g912DKyJ",
        "colab_type": "code",
        "colab": {}
      },
      "source": [
        "class1folder = 'UCF101_images/'\n",
        "targetfolder = 'UCF101_target/'\n",
        "\n",
        "for _, line in anno.iterrows():\n",
        "    val = torch.tensor(line[1]-1)\n",
        "    val = val.to(device)\n",
        "    features = []\n",
        "    d = line[0]\n",
        "    \n",
        "    if(d in l):\n",
        "      for f in os.listdir(os.path.join(class1folder, d)):\n",
        "          fname = os.path.join(class1folder, d, f)\n",
        "          img = prep(cv2.imread(fname))\n",
        "          arr = crop_img(img)\n",
        "          with torch.no_grad():\n",
        "              img = vgg16(torch.stack(crop_img(img)).to(device))\n",
        "              features.append(img.mean(dim=0).cpu())\n",
        "      dat = torch.tensor(torch.stack(features).numpy())\n",
        "      savemat(os.path.join(targetfolder, d+'.mat'), {'Feature':torch.stack(features).numpy()})"
      ],
      "execution_count": 0,
      "outputs": []
    },
    {
      "cell_type": "code",
      "metadata": {
        "id": "MQxlk4ybo2Rr",
        "colab_type": "code",
        "colab": {}
      },
      "source": [
        "anno = pd.read_csv(\"annos/videos_labels_subsets.txt\", header=None, sep='\\t')\n",
        "anno = anno[anno[1]<=25]"
      ],
      "execution_count": 0,
      "outputs": []
    },
    {
      "cell_type": "code",
      "metadata": {
        "id": "37qFn2bkr_K5",
        "colab_type": "code",
        "colab": {}
      },
      "source": [
        "train_data = []\n",
        "train_labels = []\n",
        "test_data = []\n",
        "test_labels = []\n",
        "\n",
        "count = 0\n",
        "for _, line in anno.iterrows():\n",
        "    val = torch.tensor(line[1]-1)\n",
        "    dat = torch.tensor(sp.io.loadmat(os.path.join(targetfolder, line[0]+'.mat'))['Feature'])\n",
        "    if line[2]==1:\n",
        "        train_data.append(dat)\n",
        "        train_labels.append(val)\n",
        "    else:\n",
        "        test_data.append(dat)\n",
        "        test_labels.append(val)"
      ],
      "execution_count": 0,
      "outputs": []
    },
    {
      "cell_type": "markdown",
      "metadata": {
        "id": "s8-oh3OHqM_t",
        "colab_type": "text"
      },
      "source": [
        "***\n",
        "***\n",
        "## **Problem 2.** Modelling"
      ]
    },
    {
      "cell_type": "markdown",
      "metadata": {
        "colab_type": "text",
        "id": "ajV8xY-RRs51"
      },
      "source": [
        "* ##### **Print the size of your training and test data**"
      ]
    },
    {
      "cell_type": "code",
      "metadata": {
        "colab_type": "code",
        "outputId": "371e9d7b-3fbe-40af-890a-e173ab1249af",
        "id": "bCvCjCMTRs59",
        "colab": {
          "base_uri": "https://localhost:8080/",
          "height": 69
        }
      },
      "source": [
        "# Don't hardcode the shape of train and test data\n",
        "print('Size of training data is :', len(train_data), \" Each of size:\", train_data[0].shape)\n",
        "print('Size of test/validation data is :', len(test_data), \" Each of size:\", test_data[0].shape)\n",
        "print('Size of total data is :', len(test_data) + len(train_data))"
      ],
      "execution_count": 39,
      "outputs": [
        {
          "output_type": "stream",
          "text": [
            "Size of training data is : 2409  Each of size: torch.Size([25, 4096])\n",
            "Size of test/validation data is : 951  Each of size: torch.Size([25, 4096])\n",
            "Size of total data is : 3360\n"
          ],
          "name": "stdout"
        }
      ]
    },
    {
      "cell_type": "code",
      "metadata": {
        "id": "gHTU8IHp5XzD",
        "colab_type": "code",
        "colab": {}
      },
      "source": [
        "#Creating batches for data\n",
        "\n",
        "def create_batch_data(batch_num,data,labels):\n",
        "  batch_data = []\n",
        "  batch_labels = []\n",
        "\n",
        "  for i in range(int(len(data) / batch_num)):\n",
        "      minibatch_d = data[i*batch_num: (i+1)*batch_num]\n",
        "      minibatch_d = [t.numpy() for t in minibatch_d]\n",
        "      minibatch_d = np.reshape(minibatch_d, (batch_num, 1, 25*4096))\n",
        "      batch_data.append(torch.from_numpy(minibatch_d))\n",
        "\n",
        "      minibatch_l = labels[i*batch_num: (i+1)*batch_num]\n",
        "      batch_labels.append(torch.LongTensor(minibatch_l))\n",
        "  return batch_data, batch_labels"
      ],
      "execution_count": 0,
      "outputs": []
    },
    {
      "cell_type": "code",
      "metadata": {
        "id": "71Djnd-5Xltz",
        "colab_type": "code",
        "colab": {}
      },
      "source": [
        "# \\*write your codes for modelling using the extracted feature (You can use multiple cells, this is just a place holder)\n",
        "#LSTM Model\n",
        "\n",
        "class video_net(nn.Module):\n",
        "    def __init__(self, hidden_dim, batch_size, label_size):\n",
        "        super(video_net, self).__init__()\n",
        "        self.hidden_dim = hidden_dim\n",
        "        self.batch_size= batch_size\n",
        "        self.lstm = nn.LSTM(102400, hidden_dim)\n",
        "        self.hidden2label = nn.Linear(hidden_dim, label_size)\n",
        "        \n",
        "    def forward(self, input_features):\n",
        "        lstm_out, hidden = self.lstm(\n",
        "            input_features.view(len(input_features), 1, -1))\n",
        "        outputs = self.hidden2label(lstm_out.view(self.batch_size,-1))\n",
        "        output_labels = F.log_softmax(outputs, dim=-1)\n",
        "        return output_labels"
      ],
      "execution_count": 0,
      "outputs": []
    },
    {
      "cell_type": "markdown",
      "metadata": {
        "colab_type": "text",
        "id": "VSVikB3ERs6d"
      },
      "source": [
        "---\n",
        "---\n",
        "## **Problem 3.** Evaluation"
      ]
    },
    {
      "cell_type": "code",
      "metadata": {
        "id": "BZfty9KrU7y_",
        "colab_type": "code",
        "colab": {}
      },
      "source": [
        "def test_accuracy(data_test):\n",
        "  with torch.no_grad():\n",
        "      correct = 0\n",
        "      total = 0\n",
        "      for i in range(len(data_test)):\n",
        "        video = data_test[i]\n",
        "        label = labels_test[i]\n",
        "        size = video.size()\n",
        "        video = video.to(device)\n",
        "        label = label.view(-1)\n",
        "        label = label.to(device)\n",
        "        model_1.zero_grad()\n",
        "        outputs = model_1(video)\n",
        "        _, predicted = torch.max(outputs.data, 1)\n",
        "        total += label.size(0)\n",
        "        correct += (predicted == label).sum().item()\n",
        "        accuracy = (correct/total)*100\n",
        "  print(\"Accuracy on the test dataset is:\", accuracy)"
      ],
      "execution_count": 0,
      "outputs": []
    },
    {
      "cell_type": "markdown",
      "metadata": {
        "id": "FLdVWFZkUbDW",
        "colab_type": "text"
      },
      "source": [
        "**With hidden dimension 256**"
      ]
    },
    {
      "cell_type": "code",
      "metadata": {
        "id": "DvROP-9O5l68",
        "colab_type": "code",
        "outputId": "d3062755-84e2-447e-f80d-305e0e1d0d47",
        "colab": {
          "base_uri": "https://localhost:8080/",
          "height": 732
        }
      },
      "source": [
        "Batch_size = 8\n",
        "Hidden_dim = 256\n",
        "Num_classes =25\n",
        "\n",
        "data , labels = create_batch_data(Batch_size, train_data, train_labels)\n",
        "\n",
        "model_1 = video_net(Hidden_dim,Batch_size,Num_classes)\n",
        "print(model_1)\n",
        "model_1 = model_1.to(device)\n",
        "loss_function = nn.CrossEntropyLoss()\n",
        "optimizer = optim.SGD(model_1.parameters(), lr=0.1)\n",
        "\n",
        "initial_loss = 0\n",
        "for epoch in range(40):\n",
        "  loss_count = 0.0\n",
        "  for i in range(len(data)):\n",
        "      video = data[i]\n",
        "      label = labels[i]\n",
        "      size = video.size()\n",
        "      video = video.to(device)\n",
        "      label = label.view(-1)\n",
        "      label = label.to(device)\n",
        "      model_1.zero_grad()\n",
        "      outputs = model_1(video)\n",
        "\n",
        "      loss = loss_function(outputs, label)\n",
        "      loss.backward()\n",
        "      optimizer.step()\n",
        "      loss_count += loss.item()\n",
        "  print('Epoch : %d Loss: %.3f' %(epoch+1, loss_count/len(data)))\n",
        "        "
      ],
      "execution_count": 0,
      "outputs": [
        {
          "output_type": "stream",
          "text": [
            "video_net(\n",
            "  (lstm): LSTM(102400, 256)\n",
            "  (hidden2label): Linear(in_features=256, out_features=25, bias=True)\n",
            ")\n",
            "Epoch : 1 Loss: 0.729\n",
            "Epoch : 2 Loss: 0.645\n",
            "Epoch : 3 Loss: 0.473\n",
            "Epoch : 4 Loss: 0.358\n",
            "Epoch : 5 Loss: 0.299\n",
            "Epoch : 6 Loss: 0.215\n",
            "Epoch : 7 Loss: 0.188\n",
            "Epoch : 8 Loss: 0.144\n",
            "Epoch : 9 Loss: 0.122\n",
            "Epoch : 10 Loss: 0.107\n",
            "Epoch : 11 Loss: 0.092\n",
            "Epoch : 12 Loss: 0.084\n",
            "Epoch : 13 Loss: 0.074\n",
            "Epoch : 14 Loss: 0.062\n",
            "Epoch : 15 Loss: 0.064\n",
            "Epoch : 16 Loss: 0.061\n",
            "Epoch : 17 Loss: 0.056\n",
            "Epoch : 18 Loss: 0.049\n",
            "Epoch : 19 Loss: 0.044\n",
            "Epoch : 20 Loss: 0.037\n",
            "Epoch : 21 Loss: 0.033\n",
            "Epoch : 22 Loss: 0.030\n",
            "Epoch : 23 Loss: 0.026\n",
            "Epoch : 24 Loss: 0.022\n",
            "Epoch : 25 Loss: 0.019\n",
            "Epoch : 26 Loss: 0.017\n",
            "Epoch : 27 Loss: 0.015\n",
            "Epoch : 28 Loss: 0.012\n",
            "Epoch : 29 Loss: 0.010\n",
            "Epoch : 30 Loss: 0.009\n",
            "Epoch : 31 Loss: 0.008\n",
            "Epoch : 32 Loss: 0.007\n",
            "Epoch : 33 Loss: 0.006\n",
            "Epoch : 34 Loss: 0.005\n",
            "Epoch : 35 Loss: 0.005\n",
            "Epoch : 36 Loss: 0.004\n",
            "Epoch : 37 Loss: 0.004\n",
            "Epoch : 38 Loss: 0.004\n",
            "Epoch : 39 Loss: 0.003\n",
            "Epoch : 40 Loss: 0.003\n"
          ],
          "name": "stdout"
        }
      ]
    },
    {
      "cell_type": "code",
      "metadata": {
        "id": "8odsouukAfNH",
        "colab_type": "code",
        "outputId": "0fdc22ec-9fc6-4369-808f-a1c4376b9418",
        "colab": {
          "base_uri": "https://localhost:8080/",
          "height": 33
        }
      },
      "source": [
        "#Creating batches for test data of size 8\n",
        "\n",
        "Batch_size = 8\n",
        "data_test , labels_test = create_batch_data(Batch_size, test_data, test_labels)\n",
        "test_accuracy(data_test)"
      ],
      "execution_count": 0,
      "outputs": [
        {
          "output_type": "stream",
          "text": [
            "Accuracy on the test dataset is: 79.23728813559322\n"
          ],
          "name": "stdout"
        }
      ]
    },
    {
      "cell_type": "markdown",
      "metadata": {
        "id": "k7xSCR0AUi1_",
        "colab_type": "text"
      },
      "source": [
        "**With hidden dimension 512**"
      ]
    },
    {
      "cell_type": "code",
      "metadata": {
        "id": "9jmuQk58Azqh",
        "colab_type": "code",
        "outputId": "4648b99a-ed65-4481-9fb8-66281f066d0b",
        "colab": {
          "base_uri": "https://localhost:8080/",
          "height": 732
        }
      },
      "source": [
        "Batch_size = 8\n",
        "Hidden_dim = 512\n",
        "Num_classes =25\n",
        "\n",
        "data , labels = create_batch_data(Batch_size, train_data, train_labels)\n",
        "\n",
        "model_1 = video_net(Hidden_dim,Batch_size,Num_classes)\n",
        "print(model_1)\n",
        "model_1 = model_1.to(device)\n",
        "loss_function = nn.CrossEntropyLoss()\n",
        "optimizer = optim.SGD(model_1.parameters(), lr=0.1)\n",
        "\n",
        "initial_loss = 0\n",
        "for epoch in range(40):\n",
        "  loss_count = 0.0\n",
        "  for i in range(len(data)):\n",
        "      video = data[i]\n",
        "      label = labels[i]\n",
        "      size = video.size()\n",
        "      video = video.to(device)\n",
        "      label = label.view(-1)\n",
        "      label = label.to(device)\n",
        "      model_1.zero_grad()\n",
        "      outputs = model_1(video)\n",
        "\n",
        "      loss = loss_function(outputs, label)\n",
        "      loss.backward()\n",
        "      optimizer.step()\n",
        "      loss_count += loss.item()\n",
        "  print('Epoch : %d Loss: %.3f' %(epoch+1, loss_count/len(data)))"
      ],
      "execution_count": 0,
      "outputs": [
        {
          "output_type": "stream",
          "text": [
            "video_net(\n",
            "  (lstm): LSTM(102400, 512)\n",
            "  (hidden2label): Linear(in_features=512, out_features=25, bias=True)\n",
            ")\n",
            "Epoch : 1 Loss: 0.595\n",
            "Epoch : 2 Loss: 0.546\n",
            "Epoch : 3 Loss: 0.388\n",
            "Epoch : 4 Loss: 0.282\n",
            "Epoch : 5 Loss: 0.211\n",
            "Epoch : 6 Loss: 0.174\n",
            "Epoch : 7 Loss: 0.120\n",
            "Epoch : 8 Loss: 0.105\n",
            "Epoch : 9 Loss: 0.079\n",
            "Epoch : 10 Loss: 0.069\n",
            "Epoch : 11 Loss: 0.059\n",
            "Epoch : 12 Loss: 0.053\n",
            "Epoch : 13 Loss: 0.049\n",
            "Epoch : 14 Loss: 0.046\n",
            "Epoch : 15 Loss: 0.040\n",
            "Epoch : 16 Loss: 0.037\n",
            "Epoch : 17 Loss: 0.037\n",
            "Epoch : 18 Loss: 0.037\n",
            "Epoch : 19 Loss: 0.033\n",
            "Epoch : 20 Loss: 0.035\n",
            "Epoch : 21 Loss: 0.025\n",
            "Epoch : 22 Loss: 0.021\n",
            "Epoch : 23 Loss: 0.024\n",
            "Epoch : 24 Loss: 0.021\n",
            "Epoch : 25 Loss: 0.021\n",
            "Epoch : 26 Loss: 0.018\n",
            "Epoch : 27 Loss: 0.018\n",
            "Epoch : 28 Loss: 0.021\n",
            "Epoch : 29 Loss: 0.016\n",
            "Epoch : 30 Loss: 0.014\n",
            "Epoch : 31 Loss: 0.013\n",
            "Epoch : 32 Loss: 0.010\n",
            "Epoch : 33 Loss: 0.011\n",
            "Epoch : 34 Loss: 0.009\n",
            "Epoch : 35 Loss: 0.010\n",
            "Epoch : 36 Loss: 0.009\n",
            "Epoch : 37 Loss: 0.010\n",
            "Epoch : 38 Loss: 0.008\n",
            "Epoch : 39 Loss: 0.009\n",
            "Epoch : 40 Loss: 0.006\n"
          ],
          "name": "stdout"
        }
      ]
    },
    {
      "cell_type": "code",
      "metadata": {
        "id": "jj_y3Bh6CMzz",
        "colab_type": "code",
        "outputId": "8d8bd66a-a085-4237-ecc5-5357293314d9",
        "colab": {
          "base_uri": "https://localhost:8080/",
          "height": 33
        }
      },
      "source": [
        "test_accuracy(data_test)"
      ],
      "execution_count": 0,
      "outputs": [
        {
          "output_type": "stream",
          "text": [
            "Accuracy on the test dataset is: 78.8135593220339\n"
          ],
          "name": "stdout"
        }
      ]
    },
    {
      "cell_type": "markdown",
      "metadata": {
        "id": "5q6xVhc3UrJc",
        "colab_type": "text"
      },
      "source": [
        "**With hidden dimension 1024**"
      ]
    },
    {
      "cell_type": "code",
      "metadata": {
        "id": "3pzKYaXLCkzi",
        "colab_type": "code",
        "outputId": "6138d524-d2ee-488f-ce24-522594e3f170",
        "colab": {
          "base_uri": "https://localhost:8080/",
          "height": 732
        }
      },
      "source": [
        "Batch_size = 8\n",
        "Hidden_dim = 1024\n",
        "Num_classes =25\n",
        "\n",
        "data , labels = create_batch_data(Batch_size, train_data, train_labels)\n",
        "\n",
        "model_1 = video_net(Hidden_dim,Batch_size,Num_classes)\n",
        "print(model_1)\n",
        "model_1 = model_1.to(device)\n",
        "loss_function = nn.CrossEntropyLoss()\n",
        "optimizer = optim.SGD(model_1.parameters(), lr=0.1)\n",
        "\n",
        "initial_loss = 0\n",
        "for epoch in range(40):\n",
        "  loss_count = 0.0\n",
        "  for i in range(len(data)):\n",
        "      video = data[i]\n",
        "      label = labels[i]\n",
        "      size = video.size()\n",
        "      video = video.to(device)\n",
        "      label = label.view(-1)\n",
        "      label = label.to(device)\n",
        "      model_1.zero_grad()\n",
        "      outputs = model_1(video)\n",
        "\n",
        "      loss = loss_function(outputs, label)\n",
        "      loss.backward()\n",
        "      optimizer.step()\n",
        "      loss_count += loss.item()\n",
        "  print('Epoch : %d Loss: %.3f' %(epoch+1, loss_count/len(data)))"
      ],
      "execution_count": 0,
      "outputs": [
        {
          "output_type": "stream",
          "text": [
            "video_net(\n",
            "  (lstm): LSTM(102400, 1024)\n",
            "  (hidden2label): Linear(in_features=1024, out_features=25, bias=True)\n",
            ")\n",
            "Epoch : 1 Loss: 0.562\n",
            "Epoch : 2 Loss: 0.504\n",
            "Epoch : 3 Loss: 0.351\n",
            "Epoch : 4 Loss: 0.241\n",
            "Epoch : 5 Loss: 0.184\n",
            "Epoch : 6 Loss: 0.137\n",
            "Epoch : 7 Loss: 0.097\n",
            "Epoch : 8 Loss: 0.081\n",
            "Epoch : 9 Loss: 0.062\n",
            "Epoch : 10 Loss: 0.062\n",
            "Epoch : 11 Loss: 0.046\n",
            "Epoch : 12 Loss: 0.036\n",
            "Epoch : 13 Loss: 0.035\n",
            "Epoch : 14 Loss: 0.034\n",
            "Epoch : 15 Loss: 0.030\n",
            "Epoch : 16 Loss: 0.027\n",
            "Epoch : 17 Loss: 0.031\n",
            "Epoch : 18 Loss: 0.026\n",
            "Epoch : 19 Loss: 0.023\n",
            "Epoch : 20 Loss: 0.021\n",
            "Epoch : 21 Loss: 0.030\n",
            "Epoch : 22 Loss: 0.019\n",
            "Epoch : 23 Loss: 0.017\n",
            "Epoch : 24 Loss: 0.014\n",
            "Epoch : 25 Loss: 0.015\n",
            "Epoch : 26 Loss: 0.013\n",
            "Epoch : 27 Loss: 0.018\n",
            "Epoch : 28 Loss: 0.031\n",
            "Epoch : 29 Loss: 0.011\n",
            "Epoch : 30 Loss: 0.010\n",
            "Epoch : 31 Loss: 0.009\n",
            "Epoch : 32 Loss: 0.008\n",
            "Epoch : 33 Loss: 0.007\n",
            "Epoch : 34 Loss: 0.007\n",
            "Epoch : 35 Loss: 0.006\n",
            "Epoch : 36 Loss: 0.005\n",
            "Epoch : 37 Loss: 0.004\n",
            "Epoch : 38 Loss: 0.004\n",
            "Epoch : 39 Loss: 0.003\n",
            "Epoch : 40 Loss: 0.003\n"
          ],
          "name": "stdout"
        }
      ]
    },
    {
      "cell_type": "code",
      "metadata": {
        "id": "TrmA0rMtFMVi",
        "colab_type": "code",
        "outputId": "8d4a3fb8-bdf9-4adf-d7cc-e672893afa93",
        "colab": {
          "base_uri": "https://localhost:8080/",
          "height": 33
        }
      },
      "source": [
        "test_accuracy(data_test)"
      ],
      "execution_count": 0,
      "outputs": [
        {
          "output_type": "stream",
          "text": [
            "Accuracy on the test dataset is: 80.08474576271186\n"
          ],
          "name": "stdout"
        }
      ]
    },
    {
      "cell_type": "markdown",
      "metadata": {
        "id": "pKAHInUzUU-O",
        "colab_type": "text"
      },
      "source": [
        "**With learning rate 0.01 and hidden dimension 1024**"
      ]
    },
    {
      "cell_type": "code",
      "metadata": {
        "id": "KrS3pNgOYLpx",
        "colab_type": "code",
        "outputId": "ce948110-93d9-4029-ca98-9c397bc56db8",
        "colab": {
          "base_uri": "https://localhost:8080/",
          "height": 781
        }
      },
      "source": [
        "Batch_size = 8\n",
        "Hidden_dim = 1024\n",
        "Num_classes =25\n",
        "\n",
        "data , labels = create_batch_data(Batch_size, train_data, train_labels)\n",
        "\n",
        "model_1 = video_net(Hidden_dim,Batch_size,Num_classes)\n",
        "print(model_1)\n",
        "model_1 = model_1.to(device)\n",
        "loss_function = nn.CrossEntropyLoss()\n",
        "optimizer = optim.SGD(model_1.parameters(), lr=0.01)\n",
        "\n",
        "initial_loss = 0\n",
        "for epoch in range(40):\n",
        "  loss_count = 0.0\n",
        "  for i in range(len(data)):\n",
        "      video = data[i]\n",
        "      label = labels[i]\n",
        "      size = video.size()\n",
        "      video = video.to(device)\n",
        "      label = label.view(-1)\n",
        "      label = label.to(device)\n",
        "      model_1.zero_grad()\n",
        "      outputs = model_1(video)\n",
        "\n",
        "      loss = loss_function(outputs, label)\n",
        "      loss.backward()\n",
        "      optimizer.step()\n",
        "      loss_count += loss.item()\n",
        "  print('Epoch : %d Loss: %.3f' %(epoch+1, loss_count/len(data)))"
      ],
      "execution_count": 0,
      "outputs": [
        {
          "output_type": "stream",
          "text": [
            "video_net(\n",
            "  (lstm): LSTM(102400, 1024)\n",
            "  (hidden2label): Linear(in_features=1024, out_features=25, bias=True)\n",
            ")\n",
            "Epoch : 1 Loss: 0.897\n",
            "Epoch : 2 Loss: 0.412\n",
            "Epoch : 3 Loss: 0.194\n",
            "Epoch : 4 Loss: 0.118\n",
            "Epoch : 5 Loss: 0.089\n",
            "Epoch : 6 Loss: 0.070\n",
            "Epoch : 7 Loss: 0.057\n",
            "Epoch : 8 Loss: 0.050\n",
            "Epoch : 9 Loss: 0.038\n",
            "Epoch : 10 Loss: 0.028\n",
            "Epoch : 11 Loss: 0.021\n",
            "Epoch : 12 Loss: 0.016\n",
            "Epoch : 13 Loss: 0.013\n",
            "Epoch : 14 Loss: 0.010\n",
            "Epoch : 15 Loss: 0.008\n",
            "Epoch : 16 Loss: 0.007\n",
            "Epoch : 17 Loss: 0.006\n",
            "Epoch : 18 Loss: 0.005\n",
            "Epoch : 19 Loss: 0.005\n",
            "Epoch : 20 Loss: 0.004\n",
            "Epoch : 21 Loss: 0.004\n",
            "Epoch : 22 Loss: 0.004\n",
            "Epoch : 23 Loss: 0.003\n",
            "Epoch : 24 Loss: 0.003\n",
            "Epoch : 25 Loss: 0.003\n",
            "Epoch : 26 Loss: 0.003\n",
            "Epoch : 27 Loss: 0.003\n",
            "Epoch : 28 Loss: 0.002\n",
            "Epoch : 29 Loss: 0.002\n",
            "Epoch : 30 Loss: 0.002\n",
            "Epoch : 31 Loss: 0.002\n",
            "Epoch : 32 Loss: 0.002\n",
            "Epoch : 33 Loss: 0.002\n",
            "Epoch : 34 Loss: 0.002\n",
            "Epoch : 35 Loss: 0.002\n",
            "Epoch : 36 Loss: 0.002\n",
            "Epoch : 37 Loss: 0.002\n",
            "Epoch : 38 Loss: 0.002\n",
            "Epoch : 39 Loss: 0.002\n",
            "Epoch : 40 Loss: 0.002\n"
          ],
          "name": "stdout"
        }
      ]
    },
    {
      "cell_type": "code",
      "metadata": {
        "id": "4_edWri0Adz0",
        "colab_type": "code",
        "outputId": "c59ec410-278b-4c27-9392-6da2a473d563",
        "colab": {
          "base_uri": "https://localhost:8080/",
          "height": 34
        }
      },
      "source": [
        "Batch_size = 8\n",
        "data_test , labels_test = create_batch_data(Batch_size, test_data, test_labels)\n",
        "test_accuracy(data_test)"
      ],
      "execution_count": 0,
      "outputs": [
        {
          "output_type": "stream",
          "text": [
            "Accuracy on the test dataset is: 81.46186440677965\n"
          ],
          "name": "stdout"
        }
      ]
    },
    {
      "cell_type": "code",
      "metadata": {
        "id": "ZUt1-Ghvx0Pd",
        "colab_type": "code",
        "colab": {}
      },
      "source": [
        "##LSTM with two nn.LSTM layers\n",
        "class video_net_2(nn.Module):\n",
        "\n",
        "    def __init__(self, hidden_dim_1, hidden_dim_2, batch_size, label_size):\n",
        "        super(video_net_2, self).__init__()\n",
        "        self.hidden_dim_1 = hidden_dim_1\n",
        "        self.hidden_dim_2 = hidden_dim_2\n",
        "        self.batch_size = batch_size\n",
        "        self.lstm_1 = nn.LSTM(102400, hidden_dim_1)\n",
        "        self.lstm_2 = nn.LSTM(hidden_dim_1, hidden_dim_2)\n",
        "        self.hidden2label = nn.Linear(hidden_dim_2, label_size)\n",
        "\n",
        "    def forward(self, input_features):\n",
        "        lstm_out_1, hidden_1 = self.lstm_1(\n",
        "            input_features.view(len(input_features), 1, -1))\n",
        "        lstm_out_2, hidden_2 = self.lstm_2(\n",
        "            lstm_out_1.view(len(lstm_out_1), 1, -1))\n",
        "        outputs = self.hidden2label(lstm_out_2.view(self.batch_size,-1))\n",
        "        output_labels = F.log_softmax(outputs, dim=-1)\n",
        "        return output_labels"
      ],
      "execution_count": 0,
      "outputs": []
    },
    {
      "cell_type": "code",
      "metadata": {
        "id": "B6qJiF3ypSGj",
        "colab_type": "code",
        "colab": {
          "base_uri": "https://localhost:8080/",
          "height": 799
        },
        "outputId": "8603d97d-42ef-41cf-b3e8-f935387be2d8"
      },
      "source": [
        "Batch_size = 8\n",
        "Hidden_dim_1 = 512\n",
        "Hidden_dim_2 = 1024\n",
        "Num_classes =25\n",
        "\n",
        "data , labels = create_batch_data(Batch_size, train_data, train_labels)\n",
        "\n",
        "model_1 = video_net_2(Hidden_dim_1, Hidden_dim_2,Batch_size,Num_classes)\n",
        "print(model_1)\n",
        "model_1 = model_1.to(device)\n",
        "loss_function = nn.CrossEntropyLoss()\n",
        "optimizer = optim.SGD(model_1.parameters(), lr=0.01)\n",
        "\n",
        "initial_loss = 0\n",
        "for epoch in range(40):\n",
        "  loss_count = 0.0\n",
        "  for i in range(len(data)):\n",
        "      video = data[i]\n",
        "      label = labels[i]\n",
        "      size = video.size()\n",
        "      video = video.to(device)\n",
        "      label = label.view(-1)\n",
        "      label = label.to(device)\n",
        "      model_1.zero_grad()\n",
        "      outputs = model_1(video)\n",
        "\n",
        "      loss = loss_function(outputs, label)\n",
        "      loss.backward()\n",
        "      optimizer.step()\n",
        "      loss_count += loss.item()\n",
        "  print('Epoch : %d Loss: %.3f' %(epoch+1, loss_count/len(data)))\n",
        "        "
      ],
      "execution_count": 44,
      "outputs": [
        {
          "output_type": "stream",
          "text": [
            "video_net_2(\n",
            "  (lstm_1): LSTM(102400, 512)\n",
            "  (lstm_2): LSTM(512, 1024)\n",
            "  (hidden2label): Linear(in_features=1024, out_features=25, bias=True)\n",
            ")\n",
            "Epoch : 1 Loss: 2.971\n",
            "Epoch : 2 Loss: 2.309\n",
            "Epoch : 3 Loss: 1.445\n",
            "Epoch : 4 Loss: 0.867\n",
            "Epoch : 5 Loss: 0.575\n",
            "Epoch : 6 Loss: 0.429\n",
            "Epoch : 7 Loss: 0.326\n",
            "Epoch : 8 Loss: 0.256\n",
            "Epoch : 9 Loss: 0.210\n",
            "Epoch : 10 Loss: 0.172\n",
            "Epoch : 11 Loss: 0.142\n",
            "Epoch : 12 Loss: 0.119\n",
            "Epoch : 13 Loss: 0.104\n",
            "Epoch : 14 Loss: 0.105\n",
            "Epoch : 15 Loss: 0.087\n",
            "Epoch : 16 Loss: 0.071\n",
            "Epoch : 17 Loss: 0.061\n",
            "Epoch : 18 Loss: 0.051\n",
            "Epoch : 19 Loss: 0.046\n",
            "Epoch : 20 Loss: 0.037\n",
            "Epoch : 21 Loss: 0.033\n",
            "Epoch : 22 Loss: 0.029\n",
            "Epoch : 23 Loss: 0.026\n",
            "Epoch : 24 Loss: 0.022\n",
            "Epoch : 25 Loss: 0.019\n",
            "Epoch : 26 Loss: 0.017\n",
            "Epoch : 27 Loss: 0.015\n",
            "Epoch : 28 Loss: 0.014\n",
            "Epoch : 29 Loss: 0.013\n",
            "Epoch : 30 Loss: 0.012\n",
            "Epoch : 31 Loss: 0.011\n",
            "Epoch : 32 Loss: 0.011\n",
            "Epoch : 33 Loss: 0.010\n",
            "Epoch : 34 Loss: 0.010\n",
            "Epoch : 35 Loss: 0.009\n",
            "Epoch : 36 Loss: 0.009\n",
            "Epoch : 37 Loss: 0.008\n",
            "Epoch : 38 Loss: 0.008\n",
            "Epoch : 39 Loss: 0.007\n",
            "Epoch : 40 Loss: 0.007\n"
          ],
          "name": "stdout"
        }
      ]
    },
    {
      "cell_type": "code",
      "metadata": {
        "id": "oslSiDlnpaNT",
        "colab_type": "code",
        "colab": {
          "base_uri": "https://localhost:8080/",
          "height": 34
        },
        "outputId": "91a44c62-1754-46ea-a05d-2e04087ece3e"
      },
      "source": [
        "Batch_size = 8\n",
        "data_test , labels_test = create_batch_data(Batch_size, test_data, test_labels)\n",
        "test_accuracy(data_test)"
      ],
      "execution_count": 45,
      "outputs": [
        {
          "output_type": "stream",
          "text": [
            "Accuracy on the test dataset is: 72.35169491525424\n"
          ],
          "name": "stdout"
        }
      ]
    },
    {
      "cell_type": "markdown",
      "metadata": {
        "id": "iB4AxMzCVFg_",
        "colab_type": "text"
      },
      "source": [
        "\n",
        "# **Bonus : Training on all 101 classes**\n",
        "\n",
        "\n"
      ]
    },
    {
      "cell_type": "code",
      "metadata": {
        "id": "r7vYSLwWtJgq",
        "colab_type": "code",
        "colab": {}
      },
      "source": [
        "anno = pd.read_csv(\"annos/videos_labels_subsets.txt\", header=None, sep='\\t')"
      ],
      "execution_count": 0,
      "outputs": []
    },
    {
      "cell_type": "code",
      "metadata": {
        "id": "SxWM-M_ptJtZ",
        "colab_type": "code",
        "colab": {}
      },
      "source": [
        "train_data_101 = []\n",
        "train_labels_101 = []\n",
        "test_data_101 = []\n",
        "test_labels_101 = []\n",
        "\n",
        "count = 0\n",
        "for _, line in anno.iterrows():\n",
        "    val = torch.tensor(line[1]-1)\n",
        "    dat = torch.tensor(sp.io.loadmat(os.path.join(targetfolder, line[0]+'.mat'))['Feature'])\n",
        "  \n",
        "    if line[2]==1:\n",
        "        train_data_101.append(dat)\n",
        "        train_labels_101.append(val)\n",
        "    else:\n",
        "        test_data_101.append(dat)\n",
        "        test_labels_101.append(val)"
      ],
      "execution_count": 0,
      "outputs": []
    },
    {
      "cell_type": "code",
      "metadata": {
        "id": "C9s9jUxveIoF",
        "colab_type": "code",
        "outputId": "78c2d575-336c-429f-f0c3-a87479a2bff7",
        "colab": {
          "base_uri": "https://localhost:8080/",
          "height": 69
        }
      },
      "source": [
        "l1 = len(train_data_101)\n",
        "l2 = len(test_data_101)\n",
        "print(\"Size of training data is: \", l1)\n",
        "print(\"Size of testing data is: \",l2)\n",
        "print(\"Total size is:\", l1+l2)"
      ],
      "execution_count": 52,
      "outputs": [
        {
          "output_type": "stream",
          "text": [
            "Size of training data is:  9537\n",
            "Size of testing data is:  3783\n",
            "Total size is: 13320\n"
          ],
          "name": "stdout"
        }
      ]
    },
    {
      "cell_type": "code",
      "metadata": {
        "id": "HKunw4wRJCv7",
        "colab_type": "code",
        "colab": {
          "base_uri": "https://localhost:8080/",
          "height": 781
        },
        "outputId": "8bdfa3d8-b473-49f5-8c2f-798cf431e62c"
      },
      "source": [
        "Batch_size = 8\n",
        "Hidden_dim = 1024\n",
        "Num_classes =101\n",
        "\n",
        "data , labels = create_batch_data(Batch_size, train_data_101, train_labels_101)\n",
        "\n",
        "model_1 = video_net(Hidden_dim,Batch_size,Num_classes)\n",
        "print(model_1)\n",
        "model_1 = model_1.to(device)\n",
        "loss_function = nn.CrossEntropyLoss()\n",
        "optimizer = optim.SGD(model_1.parameters(), lr=0.1)\n",
        "\n",
        "initial_loss = 0\n",
        "for epoch in range(40):\n",
        "  loss_count = 0.0\n",
        "  for i in range(len(data)):\n",
        "      video = data[i]\n",
        "      label = labels[i]\n",
        "      size = video.size()\n",
        "      video = video.to(device)\n",
        "      label = label.view(-1)\n",
        "      label = label.to(device)\n",
        "      model_1.zero_grad()\n",
        "      outputs = model_1(video)\n",
        "\n",
        "      loss = loss_function(outputs, label)\n",
        "      loss.backward()\n",
        "      optimizer.step()\n",
        "      loss_count += loss.item()\n",
        "  print('Epoch : %d Loss: %.3f' %(epoch+1, loss_count/len(data)))"
      ],
      "execution_count": 22,
      "outputs": [
        {
          "output_type": "stream",
          "text": [
            "video_net(\n",
            "  (lstm): LSTM(102400, 1024)\n",
            "  (hidden2label): Linear(in_features=1024, out_features=101, bias=True)\n",
            ")\n",
            "Epoch : 1 Loss: 0.909\n",
            "Epoch : 2 Loss: 0.848\n",
            "Epoch : 3 Loss: 0.655\n",
            "Epoch : 4 Loss: 0.495\n",
            "Epoch : 5 Loss: 0.385\n",
            "Epoch : 6 Loss: 0.309\n",
            "Epoch : 7 Loss: 0.244\n",
            "Epoch : 8 Loss: 0.188\n",
            "Epoch : 9 Loss: 0.154\n",
            "Epoch : 10 Loss: 0.126\n",
            "Epoch : 11 Loss: 0.106\n",
            "Epoch : 12 Loss: 0.089\n",
            "Epoch : 13 Loss: 0.076\n",
            "Epoch : 14 Loss: 0.065\n",
            "Epoch : 15 Loss: 0.054\n",
            "Epoch : 16 Loss: 0.049\n",
            "Epoch : 17 Loss: 0.045\n",
            "Epoch : 18 Loss: 0.041\n",
            "Epoch : 19 Loss: 0.042\n",
            "Epoch : 20 Loss: 0.035\n",
            "Epoch : 21 Loss: 0.032\n",
            "Epoch : 22 Loss: 0.034\n",
            "Epoch : 23 Loss: 0.028\n",
            "Epoch : 24 Loss: 0.024\n",
            "Epoch : 25 Loss: 0.022\n",
            "Epoch : 26 Loss: 0.019\n",
            "Epoch : 27 Loss: 0.018\n",
            "Epoch : 28 Loss: 0.016\n",
            "Epoch : 29 Loss: 0.014\n",
            "Epoch : 30 Loss: 0.012\n",
            "Epoch : 31 Loss: 0.011\n",
            "Epoch : 32 Loss: 0.010\n",
            "Epoch : 33 Loss: 0.009\n",
            "Epoch : 34 Loss: 0.008\n",
            "Epoch : 35 Loss: 0.007\n",
            "Epoch : 36 Loss: 0.006\n",
            "Epoch : 37 Loss: 0.006\n",
            "Epoch : 38 Loss: 0.005\n",
            "Epoch : 39 Loss: 0.005\n",
            "Epoch : 40 Loss: 0.005\n"
          ],
          "name": "stdout"
        }
      ]
    },
    {
      "cell_type": "code",
      "metadata": {
        "id": "AO-Ux9K7Kc4I",
        "colab_type": "code",
        "colab": {
          "base_uri": "https://localhost:8080/",
          "height": 34
        },
        "outputId": "9b39f128-0e5b-4729-c79d-1aba72902618"
      },
      "source": [
        "Batch_size = 8\n",
        "data_test , labels_test = create_batch_data(Batch_size, test_data_101, test_labels_101)\n",
        "test_accuracy(data_test)"
      ],
      "execution_count": 23,
      "outputs": [
        {
          "output_type": "stream",
          "text": [
            "Accuracy on the test dataset is: 52.7542372881356\n"
          ],
          "name": "stdout"
        }
      ]
    },
    {
      "cell_type": "code",
      "metadata": {
        "id": "gledJt0_r7Ao",
        "colab_type": "code",
        "colab": {
          "base_uri": "https://localhost:8080/",
          "height": 799
        },
        "outputId": "312b9f63-a28d-40ed-b797-5505acb4fb75"
      },
      "source": [
        "Batch_size = 8\n",
        "Hidden_dim_1 = 512\n",
        "Hidden_dim_2 = 1024\n",
        "Num_classes =101\n",
        "\n",
        "data , labels = create_batch_data(Batch_size, train_data_101, train_labels_101)\n",
        "\n",
        "model_1 = video_net_2(Hidden_dim_1,Hidden_dim_2,Batch_size,Num_classes)\n",
        "print(model_1)\n",
        "model_1 = model_1.to(device)\n",
        "loss_function = nn.CrossEntropyLoss()\n",
        "optimizer = optim.SGD(model_1.parameters(), lr=0.01)\n",
        "\n",
        "initial_loss = 0\n",
        "for epoch in range(40):\n",
        "  loss_count = 0.0\n",
        "  for i in range(len(data)):\n",
        "      video = data[i]\n",
        "      label = labels[i]\n",
        "      size = video.size()\n",
        "      video = video.to(device)\n",
        "      label = label.view(-1)\n",
        "      label = label.to(device)\n",
        "      model_1.zero_grad()\n",
        "      outputs = model_1(video)\n",
        "\n",
        "      loss = loss_function(outputs, label)\n",
        "      loss.backward()\n",
        "      optimizer.step()\n",
        "      loss_count += loss.item()\n",
        "  print('Epoch : %d Loss: %.3f' %(epoch+1, loss_count/len(data)))"
      ],
      "execution_count": 46,
      "outputs": [
        {
          "output_type": "stream",
          "text": [
            "video_net_2(\n",
            "  (lstm_1): LSTM(102400, 512)\n",
            "  (lstm_2): LSTM(512, 1024)\n",
            "  (hidden2label): Linear(in_features=1024, out_features=101, bias=True)\n",
            ")\n",
            "Epoch : 1 Loss: 3.440\n",
            "Epoch : 2 Loss: 2.534\n",
            "Epoch : 3 Loss: 1.608\n",
            "Epoch : 4 Loss: 1.035\n",
            "Epoch : 5 Loss: 0.730\n",
            "Epoch : 6 Loss: 0.545\n",
            "Epoch : 7 Loss: 0.421\n",
            "Epoch : 8 Loss: 0.332\n",
            "Epoch : 9 Loss: 0.271\n",
            "Epoch : 10 Loss: 0.219\n",
            "Epoch : 11 Loss: 0.186\n",
            "Epoch : 12 Loss: 0.160\n",
            "Epoch : 13 Loss: 0.134\n",
            "Epoch : 14 Loss: 0.116\n",
            "Epoch : 15 Loss: 0.100\n",
            "Epoch : 16 Loss: 0.089\n",
            "Epoch : 17 Loss: 0.087\n",
            "Epoch : 18 Loss: 0.071\n",
            "Epoch : 19 Loss: 0.058\n",
            "Epoch : 20 Loss: 0.076\n",
            "Epoch : 21 Loss: 0.051\n",
            "Epoch : 22 Loss: 0.044\n",
            "Epoch : 23 Loss: 0.039\n",
            "Epoch : 24 Loss: 0.035\n",
            "Epoch : 25 Loss: 0.047\n",
            "Epoch : 26 Loss: 0.035\n",
            "Epoch : 27 Loss: 0.030\n",
            "Epoch : 28 Loss: 0.031\n",
            "Epoch : 29 Loss: 0.029\n",
            "Epoch : 30 Loss: 0.024\n",
            "Epoch : 31 Loss: 0.032\n",
            "Epoch : 32 Loss: 0.023\n",
            "Epoch : 33 Loss: 0.020\n",
            "Epoch : 34 Loss: 0.018\n",
            "Epoch : 35 Loss: 0.016\n",
            "Epoch : 36 Loss: 0.014\n",
            "Epoch : 37 Loss: 0.013\n",
            "Epoch : 38 Loss: 0.012\n",
            "Epoch : 39 Loss: 0.012\n",
            "Epoch : 40 Loss: 0.011\n"
          ],
          "name": "stdout"
        }
      ]
    },
    {
      "cell_type": "code",
      "metadata": {
        "id": "Nh1BaMAdvYXK",
        "colab_type": "code",
        "colab": {
          "base_uri": "https://localhost:8080/",
          "height": 34
        },
        "outputId": "e17d0b68-53e9-42fc-a255-562b0ff62125"
      },
      "source": [
        "Batch_size = 8\n",
        "data_test , labels_test = create_batch_data(Batch_size, test_data_101, test_labels_101)\n",
        "test_accuracy(data_test)"
      ],
      "execution_count": 47,
      "outputs": [
        {
          "output_type": "stream",
          "text": [
            "Accuracy on the test dataset is: 31.54131355932203\n"
          ],
          "name": "stdout"
        }
      ]
    },
    {
      "cell_type": "markdown",
      "metadata": {
        "id": "jI-ONYztWAhb",
        "colab_type": "text"
      },
      "source": [
        "# **Training SVM**"
      ]
    },
    {
      "cell_type": "code",
      "metadata": {
        "id": "1L0DMUWUQo2q",
        "colab_type": "code",
        "colab": {}
      },
      "source": [
        "from sklearn.svm import LinearSVC\n",
        "svc_train = []\n",
        "svc_train_label = []\n",
        "for i in range(len(train_data)):\n",
        "    svc_train.append(train_data[i].view(1, -1))\n",
        "    svc_train_label.append(train_labels[i].view(1, -1))\n",
        "\n",
        "svc_test = []\n",
        "svc_test_label = []\n",
        "for i in range(len(test_data)):\n",
        "    svc_test.append(test_data[i].view(1, -1))\n",
        "    svc_test_label.append(test_labels[i].view(1, -1))"
      ],
      "execution_count": 0,
      "outputs": []
    },
    {
      "cell_type": "code",
      "metadata": {
        "id": "zf-D-CI3Rdft",
        "colab_type": "code",
        "colab": {}
      },
      "source": [
        "svc_train = torch.cat(svc_train).numpy()\n",
        "svc_train_label = torch.cat(svc_train_label).view(-1).numpy()\n",
        "svc_test = torch.cat(svc_test).numpy()\n",
        "svc_test_label = torch.cat(svc_test_label).view(-1).numpy()"
      ],
      "execution_count": 0,
      "outputs": []
    },
    {
      "cell_type": "code",
      "metadata": {
        "id": "eXhfDuBGpeBp",
        "colab_type": "code",
        "outputId": "64ee612b-8495-4216-cb90-0a6de58b7568",
        "colab": {
          "base_uri": "https://localhost:8080/",
          "height": 82
        }
      },
      "source": [
        "clf = LinearSVC(random_state=0, C=0.08920 , multi_class='ovr')\n",
        "clf.fit(svc_train, svc_train_label)"
      ],
      "execution_count": 0,
      "outputs": [
        {
          "output_type": "execute_result",
          "data": {
            "text/plain": [
              "LinearSVC(C=0.0892, class_weight=None, dual=True, fit_intercept=True,\n",
              "          intercept_scaling=1, loss='squared_hinge', max_iter=1000,\n",
              "          multi_class='ovr', penalty='l2', random_state=0, tol=0.0001,\n",
              "          verbose=0)"
            ]
          },
          "metadata": {
            "tags": []
          },
          "execution_count": 51
        }
      ]
    },
    {
      "cell_type": "code",
      "metadata": {
        "id": "3ijCpON8IVxP",
        "colab_type": "code",
        "outputId": "be588d00-700a-4f03-f047-1f82b2a9d40e",
        "colab": {
          "base_uri": "https://localhost:8080/",
          "height": 33
        }
      },
      "source": [
        "svc_test_label = np.array(svc_test_label)\n",
        "svctest_results = clf.predict(svc_test)\n",
        "\n",
        "print(\"Accuracy for SVC model: %f %%\" % (100.0*np.sum(svctest_results == svc_test_label) / len(svctest_results)))"
      ],
      "execution_count": 0,
      "outputs": [
        {
          "output_type": "stream",
          "text": [
            "Accuracy for SVC model: 83.491062 %\n"
          ],
          "name": "stdout"
        }
      ]
    },
    {
      "cell_type": "markdown",
      "metadata": {
        "colab_type": "text",
        "id": "vb4Wlzw2jYcJ"
      },
      "source": [
        "## Submission\n",
        "---\n",
        "**Runnable source code in ipynb file and a pdf report are required**.\n",
        "\n",
        "The report should be of 3 to 4 pages describing what you have done and learned in this homework and report performance of your model. If you have tried multiple methods, please compare your results. If you are using any external code, please cite it in your report. Note that this homework is designed to help you explore and get familiar with the techniques. The final grading will be largely based on your prediction accuracy and the different methods you tried (different architectures and parameters).\n",
        "\n",
        "Please indicate clearly in your report what model you have tried, what techniques you applied to improve the performance and report their accuracies. The report should be concise and include the highlights of your efforts.\n",
        "The naming convention for report is **Surname_Givenname_SBUID_report*.pdf**\n",
        "\n",
        "When submitting your .zip file through blackboard, please\n",
        "-- name your .zip file as **Surname_Givenname_SBUID_hw*.zip**.\n",
        "\n",
        "This zip file should include:\n",
        "```\n",
        "Surname_Givenname_SBUID_hw*\n",
        "        |---Surname_Givenname_SBUID_hw*.ipynb\n",
        "        |---Surname_Givenname_SBUID_hw*.pdf\n",
        "        |---Surname_Givenname_SBUID_report*.pdf\n",
        "```\n",
        "\n",
        "For instance, student Michael Jordan should submit a zip file named \"Jordan_Michael_111134567_hw5.zip\" for homework5 in this structure:\n",
        "```\n",
        "Jordan_Michael_111134567_hw5\n",
        "        |---Jordan_Michael_111134567_hw5.ipynb\n",
        "        |---Jordan_Michael_111134567_hw5.pdf\n",
        "        |---Jordan_Michael_111134567_report*.pdf\n",
        "```\n",
        "\n",
        "The **Surname_Givenname_SBUID_hw*.pdf** should include a **google shared link**. To generate the **google shared link**, first create a folder named **Surname_Givenname_SBUID_hw*** in your Google Drive with your Stony Brook account. \n",
        "\n",
        "Then right click this folder, click ***Get shareable link***, in the People textfield, enter two TA's emails: ***bo.cao.1@stonybrook.edu*** and ***sayontan.ghosh@stonybrook.edu***. Make sure that TAs who have the link **can edit**, ***not just*** **can view**, and also **uncheck** the **Notify people** box.\n",
        "\n",
        "Colab has a good feature of version control, you should take advantage of this to save your work properly. However, the timestamp of the submission made in blackboard is the only one that we consider for grading. To be more specific, we will only grade the version of your code right before the timestamp of the submission made in blackboard. \n",
        "\n",
        "You are encouraged to post and answer questions on Piazza. Based on the amount of email that we have received in past years, there might be dealys in replying to personal emails. Please ask questions on Piazza and send emails only for personal issues.\n",
        "\n",
        "Be aware that your code will undergo plagiarism check both vertically and horizontally. Please do your own work."
      ]
    }
  ]
}