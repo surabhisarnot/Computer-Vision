{
  "nbformat": 4,
  "nbformat_minor": 0,
  "metadata": {
    "anaconda-cloud": {},
    "colab": {
      "name": "CSE527_HW3_Fall2019 _Surabhi_Sarnot.ipynb",
      "provenance": [],
      "collapsed_sections": []
    },
    "kernelspec": {
      "display_name": "Python 3",
      "language": "python",
      "name": "python3"
    },
    "language_info": {
      "codemirror_mode": {
        "name": "ipython",
        "version": 3
      },
      "file_extension": ".py",
      "mimetype": "text/x-python",
      "name": "python",
      "nbconvert_exporter": "python",
      "pygments_lexer": "ipython3",
      "version": "3.6.9"
    },
    "name": "HW3.ipynb"
  },
  "cells": [
    {
      "cell_type": "markdown",
      "metadata": {
        "colab_type": "text",
        "ein.tags": "worksheet-0",
        "id": "hVwJj1nUL4lx"
      },
      "source": [
        "# CSE527 Homework 3\n",
        "**Due date: 23:59 on Oct 22, 2019 (Thuesday)**\n",
        "\n",
        "In this semester, we will use Google Colab for the assignments, which allows us to utilize resources that some of us might not have in their local machines such as GPUs. You will need to use your Stony Brook (*.stonybrook.edu) account for coding and Google Drive to save your results.\n",
        "\n",
        "## Google Colab Tutorial\n",
        "---\n",
        "Go to https://colab.research.google.com/notebooks/, you will see a tutorial named \"Welcome to Colaboratory\" file, where you can learn the basics of using google colab.\n",
        "\n",
        "Settings used for assignments: ***Edit -> Notebook Settings -> Runtime Type (Python 3)***.\n",
        "\n",
        "\n",
        "## Using SIFT in OpenCV 3.x.x in Colab\n",
        "---\n",
        "The default version of OpenCV in Colab is 3.4.3. If we use SIFT method directly, typically we will get this error message:\n",
        "\n",
        "```\n",
        "error: OpenCV(3.4.3) /io/opencv_contrib/modules/xfeatures2d/src/sift.cpp:1207: error: (-213:The function/feature is not implemented) This algorithm is patented and is excluded in this configuration; Set OPENCV_ENABLE_NONFREE CMake option and rebuild the library in function 'create'\n",
        "\n",
        "```\n",
        "\n",
        "One simple way to use the OpenCV in-built function `SIFT` in Colab is to switch the version to the one from 'contrib'. Below is an example of switching OpenCV version:\n",
        "\n",
        "1. Run the following command in one section in Colab, which has already been included in this assignment:\n",
        "```\n",
        "pip install opencv-contrib-python==3.4.2.16\n",
        "```\n",
        "2. Restart runtime by\n",
        "```\n",
        "Runtime -> Restart Runtime\n",
        "```\n",
        "\n",
        "Then you should be able to use use `cv2.xfeatures2d.SIFT_create()` to create a SIFT object, whose functions are listed at http://docs.opencv.org/3.0-beta/modules/xfeatures2d/doc/nonfree_features.html\n",
        "\n",
        "## Some Resources\n",
        "---\n",
        "In addition to the tutorial document, the following resources can definitely help you in this homework:\n",
        "- http://opencv-python-tutroals.readthedocs.io/en/latest/py_tutorials/py_feature2d/py_matcher/py_matcher.html\n",
        "- http://docs.opencv.org/3.1.0/da/df5/tutorial_py_sift_intro.html\n",
        "- http://docs.opencv.org/3.0-beta/modules/xfeatures2d/doc/nonfree_features.html?highlight=sift#cv2.SIFT\n",
        "- http://docs.opencv.org/3.0-beta/doc/py_tutorials/py_imgproc/py_geometric_transformations/py_geometric_transformations.html\n",
        "\n",
        "\n",
        "## Description\n",
        "---\n",
        "In this homework, we will examine the task of scene recognition starting with\n",
        "very simple methods: tiny images and nearest neighbor classification, and then\n",
        "move on to more advanced methods: bags of quantized local features and linear\n",
        "classifiers learned by support vector machines.\n",
        "\n",
        "Bag of words models are a popular technique for image classification inspired by\n",
        "models used in natural language processing. The model ignores or downplays word\n",
        "arrangement (spatial information in the image) and classifies based on a\n",
        "histogram of the frequency of visual words. The visual word \"vocabulary\" is\n",
        "established by clustering a large corpus of local features. See Szeliski chapter\n",
        "14.4.1 for more details on category recognition with quantized features. In\n",
        "addition, 14.3.2 discusses vocabulary creation and 14.1 covers classification\n",
        "techniques.\n",
        "\n",
        "For this homework you will be implementing a basic bag of words model. You will\n",
        "classify scenes into one of 16 categories by training and testing on the 16\n",
        "scene database (introduced in [Lazebnik et al.\n",
        "2006](http://www.di.ens.fr/willow/pdfs/cvpr06b.pdf), although built on top of\n",
        "previously published datasets).\n",
        "[Lazebnik et al. 2006](http://www.di.ens.fr/willow/pdfs/cvpr06b.pdf) is a great\n",
        "paper to read, although we will be implementing the baseline method the paper\n",
        "discusses (equivalent to the zero level pyramid) and not the more sophisticated\n",
        "spatial pyramid. For an excellent survey of\n",
        "pre-deep-learning feature encoding methods for bag of words models, see\n",
        "[Chatfield et al, 2011](http://www.robots.ox.ac.uk/~vgg/research/encoding_eval/).\n",
        "\n",
        "You are required to implement 2 different image representations: tiny images and bags of SIFT features, and 2 different classification techniques: nearest neighbor and linear SVM. There are 3 problems plus a performance report in this homework with a total of 100 points. 1 bonus question with extra 10 points is provided under problem 3. The maximum points you may earn from this homework is 100 + 10 = 110 points. Be sure to read **Submission Guidelines** below. They are important.\n",
        "\n",
        "## Dataset\n",
        "---\n",
        "\n",
        "The starter code trains on 150 and tests on 50 images from each category (i.e. 2400\n",
        "training examples total and 800 test cases total). In a real research paper,\n",
        "one would be expected to test performance on random splits of the data into\n",
        "training and test sets, but the starter code does not do this to ease debugging.\n",
        "\n",
        "Save the [dataset(click me)](https://drive.google.com/drive/folders/1NWC3TMsXSWN2TeoYMCjhf2N1b-WRDh-M?usp=sharing) into your working folder in your Google Drive for this homework. <br>\n",
        "Under your root folder, there should be a folder named \"data\" (i.e. XXX/Surname_Givenname_SBUID/data) containing the images.\n",
        "**Do not upload** the data subfolder before submitting on blackboard due to size limit. There should be only one .ipynb file under your root folder Surname_Givenname_SBUID.\n",
        "\n",
        "\n",
        "## Starter Code\n",
        "---\n",
        "To make your task a little easier, below we provide some starter code which\n",
        "randomly guesses the category of every test image and achieves about 6.25% accuracy\n",
        "(1 out of 16 guesses is correct)."
      ]
    },
    {
      "cell_type": "code",
      "metadata": {
        "colab_type": "code",
        "id": "k4dhRR_119C4",
        "outputId": "e0c93b02-8e3a-4cee-d690-2cd0cca2a9d6",
        "colab": {
          "base_uri": "https://localhost:8080/",
          "height": 196
        }
      },
      "source": [
        "pip install opencv-contrib-python==3.4.2.16"
      ],
      "execution_count": 1,
      "outputs": [
        {
          "output_type": "stream",
          "text": [
            "Collecting opencv-contrib-python==3.4.2.16\n",
            "\u001b[?25l  Downloading https://files.pythonhosted.org/packages/08/f1/66330f4042c4fb3b2d77a159db8e8916d9cdecc29bc8c1f56bc7f8a9bec9/opencv_contrib_python-3.4.2.16-cp36-cp36m-manylinux1_x86_64.whl (30.6MB)\n",
            "\u001b[K     |████████████████████████████████| 30.6MB 71kB/s \n",
            "\u001b[?25hRequirement already satisfied: numpy>=1.11.3 in /usr/local/lib/python3.6/dist-packages (from opencv-contrib-python==3.4.2.16) (1.16.5)\n",
            "Installing collected packages: opencv-contrib-python\n",
            "  Found existing installation: opencv-contrib-python 3.4.3.18\n",
            "    Uninstalling opencv-contrib-python-3.4.3.18:\n",
            "      Successfully uninstalled opencv-contrib-python-3.4.3.18\n",
            "Successfully installed opencv-contrib-python-3.4.2.16\n"
          ],
          "name": "stdout"
        }
      ]
    },
    {
      "cell_type": "code",
      "metadata": {
        "colab_type": "code",
        "id": "TxrQ1z4sObHr",
        "outputId": "5b4387d7-f82b-4371-ac28-52c6b3ddbdff",
        "colab": {
          "base_uri": "https://localhost:8080/",
          "height": 34
        }
      },
      "source": [
        "# import packages here\n",
        "import cv2\n",
        "import numpy as np\n",
        "import matplotlib.pyplot as plt\n",
        "import glob\n",
        "import itertools\n",
        "import time\n",
        "import zipfile\n",
        "import torch\n",
        "import torchvision\n",
        "import gc\n",
        "import pickle\n",
        "from sklearn import svm\n",
        "from skimage import color\n",
        "from skimage import io\n",
        "from torch.utils.data import Dataset, DataLoader\n",
        "from sklearn.neighbors import KNeighborsClassifier\n",
        "from sklearn.cluster import KMeans\n",
        "from sklearn.neighbors import NearestNeighbors\n",
        "from sklearn.metrics import accuracy_score\n",
        "import copy\n",
        "from sklearn import preprocessing\n",
        "\n",
        "print(cv2.__version__) # verify OpenCV version"
      ],
      "execution_count": 2,
      "outputs": [
        {
          "output_type": "stream",
          "text": [
            "3.4.2\n"
          ],
          "name": "stdout"
        }
      ]
    },
    {
      "cell_type": "code",
      "metadata": {
        "colab_type": "code",
        "id": "VRU7ngb-2Jye",
        "outputId": "ee1685e5-1513-4f20-a549-4c4b892704f2",
        "colab": {
          "base_uri": "https://localhost:8080/",
          "height": 125
        }
      },
      "source": [
        "# Mount your google drive where you've saved your assignment folder\n",
        "from google.colab import drive\n",
        "drive.mount('/content/gdrive')"
      ],
      "execution_count": 3,
      "outputs": [
        {
          "output_type": "stream",
          "text": [
            "Go to this URL in a browser: https://accounts.google.com/o/oauth2/auth?client_id=947318989803-6bn6qk8qdgf4n4g3pfee6491hc0brc4i.apps.googleusercontent.com&redirect_uri=urn%3Aietf%3Awg%3Aoauth%3A2.0%3Aoob&scope=email%20https%3A%2F%2Fwww.googleapis.com%2Fauth%2Fdocs.test%20https%3A%2F%2Fwww.googleapis.com%2Fauth%2Fdrive%20https%3A%2F%2Fwww.googleapis.com%2Fauth%2Fdrive.photos.readonly%20https%3A%2F%2Fwww.googleapis.com%2Fauth%2Fpeopleapi.readonly&response_type=code\n",
            "\n",
            "Enter your authorization code:\n",
            "··········\n",
            "Mounted at /content/gdrive\n"
          ],
          "name": "stdout"
        }
      ]
    },
    {
      "cell_type": "code",
      "metadata": {
        "colab_type": "code",
        "id": "LjAojc6I2QIa",
        "outputId": "21480f01-bb92-4b1e-d92d-e5177ff603ca",
        "colab": {
          "base_uri": "https://localhost:8080/",
          "height": 34
        }
      },
      "source": [
        "# Set your working directory (in your google drive)\n",
        "# Note that 'gdrive/My Drive/Y2019Fall/CSE-527-Intro-To-Computer-Vision/hw3' is just an example, \n",
        "#   change it to your specific homework directory.\n",
        "cd '/content/gdrive/My Drive/Sarnot_SurabhiSantosh_112584690_hw3'"
      ],
      "execution_count": 4,
      "outputs": [
        {
          "output_type": "stream",
          "text": [
            "/content/gdrive/My Drive/Sarnot_SurabhiSantosh_112584690_hw3\n"
          ],
          "name": "stdout"
        }
      ]
    },
    {
      "cell_type": "code",
      "metadata": {
        "id": "h51n1X9X1Jnu",
        "colab_type": "code",
        "colab": {}
      },
      "source": [
        "class_names = [name[11:] for name in glob.glob('data/train/*')]"
      ],
      "execution_count": 0,
      "outputs": []
    },
    {
      "cell_type": "markdown",
      "metadata": {
        "colab_type": "text",
        "id": "FhkgVLuQTHn7"
      },
      "source": [
        "## Data Preparation"
      ]
    },
    {
      "cell_type": "code",
      "metadata": {
        "colab_type": "code",
        "id": "ENRccp9L2X1F",
        "outputId": "759de5b9-9eea-434b-c2fe-3d773ba81305",
        "colab": {
          "base_uri": "https://localhost:8080/",
          "height": 1000
        }
      },
      "source": [
        "class_names = [name[11:] for name in glob.glob('data/train/*')]\n",
        "print\n",
        "class_names = dict(zip(range(len(class_names)), class_names))\n",
        "print(\"class_names: %s \" % class_names)\n",
        "n_train_samples_per_class = 150\n",
        "n_test_samples_per_class = 50\n",
        "\n",
        "def load_dataset(path, num_per_class=-1):\n",
        "    data = []\n",
        "    labels = []\n",
        "    for id, class_name in class_names.items():\n",
        "        print(\"Loading images from class: %s\" % id)\n",
        "        img_path_class = glob.glob(path + class_name + '/*.jpg')\n",
        "        print(path + class_name + '/*.jpg')\n",
        "        if num_per_class > 0:\n",
        "            img_path_class = img_path_class[:num_per_class]\n",
        "        labels.extend([id]*len(img_path_class))\n",
        "        for filename in img_path_class:\n",
        "            data.append(cv2.imread(filename, 0))\n",
        "    return data, labels\n",
        "\n",
        "# load training dataset\n",
        "# train_data, train_label = load_dataset('./data/train/')\n",
        "train_data, train_label = load_dataset('data/train/', n_train_samples_per_class)\n",
        "\n",
        "n_train = len(train_label)\n",
        "print(\"n_train: %s\" % n_train)\n",
        "\n",
        "# load testing dataset\n",
        "# test_data, test_label = load_dataset('./data/test/')\n",
        "test_data, test_label = load_dataset('data/test/', n_test_samples_per_class)\n",
        "n_test = len(test_label)\n",
        "print(\"n_test: %s\" % n_test)"
      ],
      "execution_count": 6,
      "outputs": [
        {
          "output_type": "stream",
          "text": [
            "class_names: {0: 'Forest', 1: 'Industrial', 2: 'Flower', 3: 'Coast', 4: 'InsideCity', 5: 'Office', 6: 'Bedroom', 7: 'Highway', 8: 'Street', 9: 'TallBuilding', 10: 'LivingRoom', 11: 'Suburb', 12: 'OpenCountry', 13: 'Mountain', 14: 'Kitchen', 15: 'Store'} \n",
            "Loading images from class: 0\n",
            "data/train/Forest/*.jpg\n",
            "Loading images from class: 1\n",
            "data/train/Industrial/*.jpg\n",
            "Loading images from class: 2\n",
            "data/train/Flower/*.jpg\n",
            "Loading images from class: 3\n",
            "data/train/Coast/*.jpg\n",
            "Loading images from class: 4\n",
            "data/train/InsideCity/*.jpg\n",
            "Loading images from class: 5\n",
            "data/train/Office/*.jpg\n",
            "Loading images from class: 6\n",
            "data/train/Bedroom/*.jpg\n",
            "Loading images from class: 7\n",
            "data/train/Highway/*.jpg\n",
            "Loading images from class: 8\n",
            "data/train/Street/*.jpg\n",
            "Loading images from class: 9\n",
            "data/train/TallBuilding/*.jpg\n",
            "Loading images from class: 10\n",
            "data/train/LivingRoom/*.jpg\n",
            "Loading images from class: 11\n",
            "data/train/Suburb/*.jpg\n",
            "Loading images from class: 12\n",
            "data/train/OpenCountry/*.jpg\n",
            "Loading images from class: 13\n",
            "data/train/Mountain/*.jpg\n",
            "Loading images from class: 14\n",
            "data/train/Kitchen/*.jpg\n",
            "Loading images from class: 15\n",
            "data/train/Store/*.jpg\n",
            "n_train: 2400\n",
            "Loading images from class: 0\n",
            "data/test/Forest/*.jpg\n",
            "Loading images from class: 1\n",
            "data/test/Industrial/*.jpg\n",
            "Loading images from class: 2\n",
            "data/test/Flower/*.jpg\n",
            "Loading images from class: 3\n",
            "data/test/Coast/*.jpg\n",
            "Loading images from class: 4\n",
            "data/test/InsideCity/*.jpg\n",
            "Loading images from class: 5\n",
            "data/test/Office/*.jpg\n",
            "Loading images from class: 6\n",
            "data/test/Bedroom/*.jpg\n",
            "Loading images from class: 7\n",
            "data/test/Highway/*.jpg\n",
            "Loading images from class: 8\n",
            "data/test/Street/*.jpg\n",
            "Loading images from class: 9\n",
            "data/test/TallBuilding/*.jpg\n",
            "Loading images from class: 10\n",
            "data/test/LivingRoom/*.jpg\n",
            "Loading images from class: 11\n",
            "data/test/Suburb/*.jpg\n",
            "Loading images from class: 12\n",
            "data/test/OpenCountry/*.jpg\n",
            "Loading images from class: 13\n",
            "data/test/Mountain/*.jpg\n",
            "Loading images from class: 14\n",
            "data/test/Kitchen/*.jpg\n",
            "Loading images from class: 15\n",
            "data/test/Store/*.jpg\n",
            "n_test: 400\n"
          ],
          "name": "stdout"
        }
      ]
    },
    {
      "cell_type": "code",
      "metadata": {
        "colab_type": "code",
        "id": "lVK5CH1V2cY3",
        "colab": {}
      },
      "source": [
        "# As loading the data from the source for the first time is time consuming, so you can pkl or save the data in a compact way such that subsequent data loading is faster\n",
        "# Save intermediate image data into disk\n",
        "file = open('train.pkl','wb')\n",
        "pickle.dump(train_data, file)\n",
        "pickle.dump(train_label, file)\n",
        "file.close()\n",
        "\n",
        "file = open('test.pkl','wb')\n",
        "pickle.dump(test_data, file)\n",
        "pickle.dump(test_label, file)\n",
        "file.close()"
      ],
      "execution_count": 0,
      "outputs": []
    },
    {
      "cell_type": "code",
      "metadata": {
        "colab_type": "code",
        "id": "sS51rm2O24lm",
        "outputId": "e4105221-9874-41ba-8774-aea1541d490d",
        "colab": {
          "base_uri": "https://localhost:8080/",
          "height": 52
        }
      },
      "source": [
        "# Load intermediate image data from disk\n",
        "file = open('train.pkl', 'rb')\n",
        "train_data = pickle.load(file)\n",
        "train_label = pickle.load(file)\n",
        "file.close()\n",
        "\n",
        "file = open('test.pkl', 'rb')\n",
        "test_data = pickle.load(file)\n",
        "test_label = pickle.load(file)\n",
        "file.close()\n",
        "\n",
        "print(len(train_data), len(train_label)) # Verify number of training samples\n",
        "print(len(test_data), len(test_label))   # Verify number of testing samples"
      ],
      "execution_count": 6,
      "outputs": [
        {
          "output_type": "stream",
          "text": [
            "2400 2400\n",
            "400 400\n"
          ],
          "name": "stdout"
        }
      ]
    },
    {
      "cell_type": "code",
      "metadata": {
        "colab_type": "code",
        "id": "yMXRub-wboDK",
        "colab": {}
      },
      "source": [
        "# plt.imshow(train_data[1], cmap='gray') # Verify image\n",
        "img_new_size = (240, 240)\n",
        "\n",
        "train_data = list(map(lambda x: cv2.resize(x, img_new_size), train_data))\n",
        "train_data = np.stack(train_data)\n",
        "train_label = np.array(train_label)\n",
        "\n",
        "test_data = list(map(lambda x: cv2.resize(x, img_new_size), test_data))\n",
        "test_data = np.stack(test_data)\n",
        "test_label = np.array(test_label)\n"
      ],
      "execution_count": 0,
      "outputs": []
    },
    {
      "cell_type": "code",
      "metadata": {
        "colab_type": "code",
        "id": "E39ihfKA3FtT",
        "outputId": "e9312d9f-c9e0-4500-c444-dc8c12536c61",
        "colab": {
          "base_uri": "https://localhost:8080/",
          "height": 105
        }
      },
      "source": [
        "n_train = len(train_label)\n",
        "n_test = len(test_label)\n",
        "\n",
        "# feature extraction\n",
        "def extract_feat(raw_data):\n",
        "    print(len(raw_data))\n",
        "    feat_dim = 1000\n",
        "    feat = np.zeros((len(raw_data), feat_dim), dtype=np.float32)\n",
        "    for i in np.arange(feat.shape[0]):\n",
        "        feat[i] = np.reshape(raw_data[i], (raw_data[i].size))[:feat_dim] # dummy implemtation\n",
        "    print(\"feat\",len(feat))\n",
        "    \n",
        "    return feat\n",
        "\n",
        "train_feat = extract_feat(train_data)\n",
        "test_feat = extract_feat(test_data)\n",
        "\n",
        "# model training: take feature and label, return model\n",
        "def train(X, Y):\n",
        "    return 0 # dummy implementation\n",
        "\n",
        "# prediction: take feature and model, return label\n",
        "def predict(model, x):\n",
        "    return np.random.randint(16) # dummy implementation\n",
        "\n",
        "# evaluation\n",
        "predictions = [-1]*len(test_feat)\n",
        "for i in np.arange(n_test):\n",
        "    predictions[i] = predict(None, test_feat[i])\n",
        "    \n",
        "accuracy = sum(np.array(predictions) == test_label) / float(n_test)\n",
        "\n",
        "print(\"The accuracy of my dummy model is {:.2f}%\".format(accuracy*100))"
      ],
      "execution_count": 8,
      "outputs": [
        {
          "output_type": "stream",
          "text": [
            "2400\n",
            "feat 2400\n",
            "400\n",
            "feat 400\n",
            "The accuracy of my dummy model is 7.00%\n"
          ],
          "name": "stdout"
        }
      ]
    },
    {
      "cell_type": "markdown",
      "metadata": {
        "colab_type": "text",
        "ein.tags": "worksheet-0",
        "id": "iPF5y8C4L4mC"
      },
      "source": [
        "## Problem 1: Tiny Image Representation + Nearest Neighbor Classifier\n",
        "{25 points} You will start by implementing the tiny image representation and the nearest neighbor classifier. They are easy to understand, easy to implement, and run very quickly for our experimental setup.\n",
        "\n",
        "The \"tiny image\" feature is one of the simplest possible image representations. One simply resizes each image to a small, fixed resolution. You are required to **resize the image to 16x16**. It works slightly better if the tiny image is made to have zero mean and unit length (normalization). This is not a particularly good representation, because it discards all of the high frequency image content and is not especially invariant to spatial or brightness shifts. We are using tiny images simply as a baseline.\n",
        "\n",
        "The nearest neighbor classifier is equally simple to understand. When tasked with classifying a test feature into a particular category, one simply finds the \"nearest\" training example (L2 distance is a sufficient metric) and assigns the label of that nearest training example to the test example. The nearest neighbor classifier has many desirable features — it requires no training, it can learn arbitrarily complex decision boundaries, and it trivially supports multiclass problems. It is quite vulnerable to training noise, though, which can be alleviated by voting based on the K nearest neighbors (but you are not required to do so). Nearest neighbor classifiers also suffer as the feature dimensionality increases, because the classifier has no mechanism to learn which dimensions are irrelevant for the decision.\n",
        "\n",
        "Report your classification accuracy on the test sets and time consumption.\n",
        "\n",
        "**Hints**:\n",
        "- Use [cv2.resize()](https://docs.opencv.org/2.4/modules/imgproc/doc/geometric_transformations.html#resize) to resize the images;\n",
        "- Use [NearestNeighbors in Sklearn](http://scikit-learn.org/stable/modules/neighbors.html) as your nearest neighbor classifier."
      ]
    },
    {
      "cell_type": "code",
      "metadata": {
        "colab_type": "code",
        "id": "JBTiTro73Q5E",
        "outputId": "59a5dd53-17ee-47c1-af91-6ae89e43d741",
        "colab": {
          "base_uri": "https://localhost:8080/",
          "height": 70
        }
      },
      "source": [
        "# Write your codes here\n",
        "\n",
        "def get_tiny_image(img_new_size, img_data):\n",
        "  img_data_tiny = list(map(lambda x: cv2.resize(x, img_new_size), img_data))\n",
        "\n",
        "  image_feats = []\n",
        "\n",
        "  count = 0\n",
        "\n",
        "  for img in img_data_tiny:\n",
        "    img = np.reshape(img, [256]);\n",
        "    img_data_tiny_zero_mean = img - np.mean(img)\n",
        "    img_data_tiny_zero_mean = img_data_tiny_zero_mean / np.var(img)**2\n",
        "    image_feats.append(img_data_tiny_zero_mean);\n",
        "  return image_feats\n",
        "\n",
        "classifier = KNeighborsClassifier(n_neighbors=18, weights = 'distance', n_jobs=-1)\n",
        "\n",
        "start_time = time.time()\n",
        "classifier.fit(get_tiny_image((16,16),train_data), train_label)\n",
        "end_time = time.time()\n",
        "\n",
        "print(\"Time required for training the model is {:.2f} s\".format((end_time-start_time)))\n",
        "\n",
        "start_time = time.time()\n",
        "pred_tiny_image = classifier.predict(get_tiny_image((16,16),test_data))\n",
        "end_time = time.time()\n",
        "print(\"Time required for predicting label is: {:.2f} s\".format((end_time-start_time)))\n",
        "\n",
        "accuracy = sum(np.array(pred_tiny_image) == test_label) / float(n_test)\n",
        "print(\"The accuracy of model is {:.2f}%\".format(accuracy*100))"
      ],
      "execution_count": 9,
      "outputs": [
        {
          "output_type": "stream",
          "text": [
            "Time required for training the model is 0.21 s\n",
            "Time required for predicting label is: 0.43 s\n",
            "The accuracy of model is 28.00%\n"
          ],
          "name": "stdout"
        }
      ]
    },
    {
      "cell_type": "markdown",
      "metadata": {
        "colab_type": "text",
        "ein.tags": "worksheet-0",
        "id": "bU8G7eLyL4mH"
      },
      "source": [
        "## Problem 2: Bag of SIFT Representation + Nearest Neighbor Classifer\n",
        "{35 points}\n",
        "After you have implemented a baseline scene recognition pipeline it is time to\n",
        "move on to a more sophisticated image representation — bags of quantized SIFT\n",
        "features. Before we can represent our training and testing images as bag of\n",
        "feature histograms, we first need to establish a vocabulary of visual words. We\n",
        "will form this vocabulary by sampling many local features from our training set\n",
        "(10's or 100's of thousands) and then cluster them with k-means. The number of\n",
        "k-means clusters is the size of our vocabulary and the size of our features. For\n",
        "example, you might start by clustering many SIFT descriptors into k=50 clusters.\n",
        "This partitions the continuous, 128 dimensional SIFT feature space into 50\n",
        "regions. For any new SIFT feature we observe, we can figure out which region it\n",
        "belongs to as long as we save the centroids of our original clusters. Those\n",
        "centroids are our visual word vocabulary. Because it can be slow to sample and\n",
        "cluster many local features, the starter code saves the cluster centroids and\n",
        "avoids recomputing them on future runs.\n",
        "\n",
        "Now we are ready to represent our training and testing images as histograms of\n",
        "visual words. For each image we will densely sample many SIFT descriptors.\n",
        "Instead of storing hundreds of SIFT descriptors, we simply count how many SIFT\n",
        "descriptors fall into each cluster in our visual word vocabulary. This is done\n",
        "by finding the nearest neighbor k-means centroid for every SIFT feature. Thus,\n",
        "if we have a vocabulary of 50 visual words, and we detect 220 distinct SIFT\n",
        "features in an image, our bag of SIFT representation will be a histogram of 50\n",
        "dimensions where each bin counts how many times a SIFT descriptor was assigned\n",
        "to that cluster. The total of all the bin-counts is 220. The histogram should be\n",
        "normalized so that image size does not dramatically change the bag of features\n",
        "magnitude.\n",
        "\n",
        "After you obtain the Bag of SIFT feature representation of the images, you have to\n",
        "train a KNN classifier in the Bag of SIFT feature space and report your test set accuracy and time consumption. \n",
        "\n",
        "**Note**: \n",
        "- Instead of using SIFT to detect invariant keypoints which is time-consuming,\n",
        "  you are recommended to densely sample keypoints in a grid with certain step\n",
        "  size (sampling density) and scale.\n",
        "- There are many design decisions and free parameters for the bag of SIFT\n",
        "  representation (number of clusters, sampling density, sampling scales, SIFT\n",
        "  parameters, etc.) so accuracy might vary from 50% to 60%.\n",
        "- Indicate clearly the parameters you use along with the prediction accuracy\n",
        "  on test set and time consumption.\n",
        "\n",
        "**Hints**:\n",
        "- Use [KMeans in Sklearn](http://scikit-learn.org/stable/modules/generated/sklearn.cluster.KMeans.html)\n",
        "  to do clustering and find the nearest cluster centroid for each SIFT feature;\n",
        "- Use `cv2.xfeatures2d.SIFT_create()` to create a SIFT object;\n",
        "- Use `sift.compute()` to compute SIFT descriptors given densely sampled keypoints\n",
        "  ([cv2.Keypoint](https://docs.opencv.org/3.0-beta/modules/core/doc/basic_structures.html?highlight=keypoint#keypoint)).\n",
        "- Be mindful of RAM usage. Try to make the code more memory efficient, otherwise it could easily exceed RAM limits in Colab, at which point your session will crash.\n",
        "- If your RAM is going to run out of space, use [gc.collect()](https://docs.python.org/3/library/gc.html) for the garbage collector to collect unused objects in  memory to free some space.\n",
        "- Store data or features as NumPy arrays instead of lists. Computation on NumPy arrays is much more efficient than lists."
      ]
    },
    {
      "cell_type": "code",
      "metadata": {
        "id": "0lOS1MxjqLdE",
        "colab_type": "code",
        "colab": {}
      },
      "source": [
        "from sklearn.neighbors import KNeighborsClassifier\n",
        "\n",
        "def trainKNN(data, labels, neighbors):\n",
        "    neigh = KNeighborsClassifier(n_neighbors=neighbors, n_jobs=-1)\n",
        "    neigh.fit(data, labels) \n",
        "    return neigh"
      ],
      "execution_count": 0,
      "outputs": []
    },
    {
      "cell_type": "code",
      "metadata": {
        "colab_type": "code",
        "id": "vu-tYYGz30L2",
        "colab": {}
      },
      "source": [
        "def compute_denseSIFT(data, step_size):\n",
        "  dense_features = []\n",
        "  sift = cv2.xfeatures2d.SIFT_create()\n",
        "  for img in data:\n",
        "    keypoint = [cv2.KeyPoint(x, y, 20) for y in range(0, img.shape[0], step_size) for x in range(0, img.shape[1], step_size)]\n",
        "    dense_feature = sift.compute(img, keypoint)\n",
        "    dense_features.append(dense_feature[1])\n",
        "  return dense_features "
      ],
      "execution_count": 0,
      "outputs": []
    },
    {
      "cell_type": "code",
      "metadata": {
        "id": "UtP8qKP0z_8W",
        "colab_type": "code",
        "colab": {}
      },
      "source": [
        "# building Bag of Words from SIFT descriptors of training images \n",
        "def kmeans_clustering(train_desc, no_of_clusters):\n",
        "    return KMeans(n_clusters=no_of_clusters, random_state=0, n_jobs=-1).fit(train_desc)"
      ],
      "execution_count": 0,
      "outputs": []
    },
    {
      "cell_type": "code",
      "metadata": {
        "id": "jMJl7makuGWl",
        "colab_type": "code",
        "colab": {}
      },
      "source": [
        "# form histograms for each image using Bag of words representation\n",
        "def get_histogram(data, kmeans, no_of_clusters):\n",
        "    hist = []\n",
        "    for img in data:\n",
        "        predicted_cluster = kmeans.predict(img)\n",
        "        hist.append(np.bincount(predicted_cluster, minlength=no_of_clusters).reshape(1,-1).ravel())\n",
        "        \n",
        "    return np.array(hist)"
      ],
      "execution_count": 0,
      "outputs": []
    },
    {
      "cell_type": "code",
      "metadata": {
        "id": "oOVp_OZmw2tC",
        "colab_type": "code",
        "colab": {}
      },
      "source": [
        "# build histograms for test set and predict\n",
        "def predictLabel(kmeans, test_data, train_hist, train_label, no_of_clusters):\n",
        "    test_hist = get_histogram(test_data, kmeans, no_of_clusters)\n",
        "\n",
        "    scaler = preprocessing.MinMaxScaler().fit(train_hist)\n",
        "    train_hist = scaler.transform(train_hist)\n",
        "    test_hist = scaler.transform(test_hist)\n",
        "    \n",
        "    knn = trainKNN(train_hist, train_label, no_of_clusters)\n",
        "    predict = knn.predict(test_hist)\n",
        "    return np.array([predict], dtype=np.array([test_label]).dtype)"
      ],
      "execution_count": 0,
      "outputs": []
    },
    {
      "cell_type": "code",
      "metadata": {
        "id": "31P4Kk-C3ePw",
        "colab_type": "code",
        "colab": {}
      },
      "source": [
        "def accuracy(predicted_label, actual_label):\n",
        "    return np.mean(np.array(predicted_label.tolist()[0]) == np.array(actual_label))"
      ],
      "execution_count": 0,
      "outputs": []
    },
    {
      "cell_type": "code",
      "metadata": {
        "id": "URYAs8_ZC4QQ",
        "colab_type": "code",
        "outputId": "0b776498-f11d-453b-e89a-89f93f32dd3a",
        "colab": {
          "base_uri": "https://localhost:8080/",
          "height": 52
        }
      },
      "source": [
        "# extract dense sift features from training images\n",
        "start_time = time.time()\n",
        "from tqdm import tqdm\n",
        "\n",
        "step_size = 30\n",
        "x_train = compute_denseSIFT(train_data, step_size)\n",
        "x_test = compute_denseSIFT(test_data, step_size)\n",
        "\n",
        "total_train_desc = []\n",
        "for i in tqdm(range(len(x_train))):\n",
        "  for j in range(x_train[i].shape[0]):\n",
        "      total_train_desc.append(x_train[i][j,:])\n",
        "\n",
        "total_train_desc = np.array(total_train_desc)\n",
        "\n",
        "print(\"--- %s seconds ---\" % (time.time() - start_time))"
      ],
      "execution_count": 16,
      "outputs": [
        {
          "output_type": "stream",
          "text": [
            "100%|██████████| 2400/2400 [00:00<00:00, 33576.37it/s]"
          ],
          "name": "stderr"
        },
        {
          "output_type": "stream",
          "text": [
            "--- 104.95846939086914 seconds ---\n"
          ],
          "name": "stdout"
        },
        {
          "output_type": "stream",
          "text": [
            "\n"
          ],
          "name": "stderr"
        }
      ]
    },
    {
      "cell_type": "code",
      "metadata": {
        "id": "NJDKZxNB3rtl",
        "colab_type": "code",
        "colab": {
          "base_uri": "https://localhost:8080/",
          "height": 514
        },
        "outputId": "40a20a21-a66f-423c-c904-3efed8e353c2"
      },
      "source": [
        "no_of_clusters_list = [10, 20, 30, 40, 50, 60, 70]\n",
        "\n",
        "predict_knn = []\n",
        "max_accuracy = -999\n",
        "\n",
        "for no_of_cluster in no_of_clusters_list:\n",
        "    start_time = time.time()\n",
        "    kmeans = kmeans_clustering(total_train_desc, no_of_cluster)\n",
        "    train_hist = get_histogram(x_train, kmeans, no_of_cluster)\n",
        "    \n",
        "    predict = predictLabel(kmeans, x_test, train_hist, train_label, no_of_cluster)\n",
        "    \n",
        "    res = accuracy(predict, test_label)\n",
        "    if(max_accuracy < res):\n",
        "      predict_knn = predict \n",
        "    \n",
        "    print(\"Number of clusters =\", no_of_cluster)\n",
        "    print(\"Accuracy:\", res*100, \"%\")\n",
        "    print(\"Time taken: %s s\" % (time.time() - start_time))\n",
        "    print()\n",
        "    "
      ],
      "execution_count": 17,
      "outputs": [
        {
          "output_type": "stream",
          "text": [
            "Number of clusters = 10\n",
            "Accuracy: 34.0 %\n",
            "Time taken: 59.11367726325989 s\n",
            "\n",
            "Number of clusters = 20\n",
            "Accuracy: 37.5 %\n",
            "Time taken: 103.36132860183716 s\n",
            "\n",
            "Number of clusters = 30\n",
            "Accuracy: 42.25 %\n",
            "Time taken: 138.7666473388672 s\n",
            "\n",
            "Number of clusters = 40\n",
            "Accuracy: 45.75 %\n",
            "Time taken: 171.62511682510376 s\n",
            "\n",
            "Number of clusters = 50\n",
            "Accuracy: 44.25 %\n",
            "Time taken: 191.74691438674927 s\n",
            "\n",
            "Number of clusters = 60\n",
            "Accuracy: 51.24999999999999 %\n",
            "Time taken: 233.96847200393677 s\n",
            "\n",
            "Number of clusters = 70\n",
            "Accuracy: 48.75 %\n",
            "Time taken: 246.94517636299133 s\n",
            "\n"
          ],
          "name": "stdout"
        }
      ]
    },
    {
      "cell_type": "markdown",
      "metadata": {
        "colab_type": "text",
        "ein.tags": "worksheet-0",
        "id": "Z5cHPS2LL4mL"
      },
      "source": [
        "## Problem 3.a: Bag of SIFT Representation + one-vs-all SVMs\n",
        "{15 points}\n",
        "The last task is to train one-vs-all linear SVMS to operate in the bag of SIFT\n",
        "feature space. Linear classifiers are one of the simplest possible learning\n",
        "models. The feature space is partitioned by a learned hyperplane and test cases\n",
        "are categorized based on which side of that hyperplane they fall on. Despite\n",
        "this model being far less expressive than the nearest neighbor classifier, it\n",
        "will often perform better.\n",
        "\n",
        "You do not have to implement the support vector machine. However, linear\n",
        "classifiers are inherently binary and we have a 16-way classification problem\n",
        "(the library has handled it for you). To decide which of 16 categories a test\n",
        "case belongs to, you will train 16 binary, one-vs-all SVMs. One-vs-all means\n",
        "that each classifier will be trained to recognize 'forest' vs 'non-forest',\n",
        "'kitchen' vs 'non-kitchen', etc. All 16 classifiers will be evaluated on each\n",
        "test case and the classifier which is most confidently positive \"wins\". E.g. if\n",
        "the 'kitchen' classifier returns a score of -0.2 (where 0 is on the decision\n",
        "boundary), and the 'forest' classifier returns a score of -0.3, and all of the\n",
        "other classifiers are even more negative, the test case would be classified as a\n",
        "kitchen even though none of the classifiers put the test case on the positive\n",
        "side of the decision boundary. When learning an SVM, you have a free parameter\n",
        "$\\lambda$ (lambda) which controls how strongly regularized the model is. Your\n",
        "accuracy will be very sensitive to $\\lambda$, so be sure to try many values.\n",
        "\n",
        "Indicate clearly the parameters you use along with the prediction accuracy on\n",
        "test set and time consumption.\n",
        "\n",
        "**Bonus {10 points}**: For this question, you need to generate class prediction for the images in **test2** folder using your best model. The prediction file(**Surname_Givenname_SBUID_Pred.txt**) should follow the exact format as given in the **sample.txt** file.10 points will be given to students whose accuracy ranks top 3 in this homework.\n",
        "\n",
        "**Hints**:\n",
        "- Use SVM in\n",
        "  [Sklearn](http://scikit-learn.org/stable/modules/classes.html#module-sklearn.svm)\n",
        "  (recommended) or\n",
        "  [OpenCV](https://docs.opencv.org/3.0-alpha/modules/ml/doc/support_vector_machines.html)\n",
        "  to do training and prediction."
      ]
    },
    {
      "cell_type": "code",
      "metadata": {
        "colab_type": "code",
        "id": "HO021G583XVo",
        "colab": {
          "base_uri": "https://localhost:8080/",
          "height": 34
        },
        "outputId": "a524ee0f-db98-4fed-80c4-2d6999a1fd9a"
      },
      "source": [
        "# Write your codes here\n",
        "\n",
        "from sklearn.svm import LinearSVC\n",
        "\n",
        "start_time = time.time()\n",
        "no_of_clusters = 60\n",
        "kmeans = kmeans_clustering(total_train_desc, no_of_clusters)\n",
        "\n",
        "# form training and testing histograms\n",
        "train_hist = get_histogram(x_train, kmeans, no_of_clusters)\n",
        "test_hist = get_histogram(x_test, kmeans, no_of_clusters)\n",
        "\n",
        "# normalize histograms\n",
        "scaler = preprocessing.StandardScaler().fit(train_hist)\n",
        "train_hist = scaler.transform(train_hist)\n",
        "test_hist = scaler.transform(test_hist)\n",
        "print(time.time()-start_time)"
      ],
      "execution_count": 18,
      "outputs": [
        {
          "output_type": "stream",
          "text": [
            "234.51353120803833\n"
          ],
          "name": "stdout"
        }
      ]
    },
    {
      "cell_type": "markdown",
      "metadata": {
        "id": "_v2KLwbqmf2t",
        "colab_type": "text"
      },
      "source": [
        ""
      ]
    },
    {
      "cell_type": "markdown",
      "metadata": {
        "id": "taQdeSfdmEAO",
        "colab_type": "text"
      },
      "source": [
        "**Running model for different values of regularization factor**"
      ]
    },
    {
      "cell_type": "code",
      "metadata": {
        "id": "8J7ICgSNlsKc",
        "colab_type": "code",
        "colab": {
          "base_uri": "https://localhost:8080/",
          "height": 1000
        },
        "outputId": "9026d6e9-c839-403a-c266-22b23c0cab8a"
      },
      "source": [
        "for regularization_factor in np.arange(0.0001, 0.1, 0.00198):\n",
        "  start_time = time.time()\n",
        "  clf = LinearSVC(random_state=0, C=regularization_factor, multi_class='ovr')\n",
        "  clf.fit(train_hist, train_label)\n",
        "  predict = clf.predict(test_hist)\n",
        "  print (\"Regularization Factor = {:.5f}\".format(regularization_factor), \",\\t Accuracy:\", np.mean(predict == test_label)*100, \"%\")\n",
        "  print(time.time()-start_time)  "
      ],
      "execution_count": 20,
      "outputs": [
        {
          "output_type": "stream",
          "text": [
            "Regularization Factor = 0.00010 ,\t Accuracy: 43.5 %\n",
            "0.09835577011108398\n",
            "Regularization Factor = 0.00208 ,\t Accuracy: 50.0 %\n",
            "0.15826654434204102\n",
            "Regularization Factor = 0.00406 ,\t Accuracy: 50.24999999999999 %\n",
            "0.1779332160949707\n",
            "Regularization Factor = 0.00604 ,\t Accuracy: 50.5 %\n",
            "0.1882188320159912\n",
            "Regularization Factor = 0.00802 ,\t Accuracy: 51.24999999999999 %\n",
            "0.21794748306274414\n",
            "Regularization Factor = 0.01000 ,\t Accuracy: 52.0 %\n",
            "0.22720789909362793\n",
            "Regularization Factor = 0.01198 ,\t Accuracy: 51.74999999999999 %\n",
            "0.2509644031524658\n",
            "Regularization Factor = 0.01396 ,\t Accuracy: 52.0 %\n",
            "0.260282039642334\n",
            "Regularization Factor = 0.01594 ,\t Accuracy: 51.74999999999999 %\n",
            "0.2914142608642578\n",
            "Regularization Factor = 0.01792 ,\t Accuracy: 52.0 %\n",
            "0.2960484027862549\n",
            "Regularization Factor = 0.01990 ,\t Accuracy: 52.5 %\n",
            "0.308974027633667\n",
            "Regularization Factor = 0.02188 ,\t Accuracy: 52.5 %\n",
            "0.33481931686401367\n",
            "Regularization Factor = 0.02386 ,\t Accuracy: 52.75 %\n",
            "0.33729124069213867\n",
            "Regularization Factor = 0.02584 ,\t Accuracy: 52.75 %\n",
            "0.3658454418182373\n",
            "Regularization Factor = 0.02782 ,\t Accuracy: 52.75 %\n",
            "0.3671400547027588\n",
            "Regularization Factor = 0.02980 ,\t Accuracy: 53.0 %\n",
            "0.3874320983886719\n",
            "Regularization Factor = 0.03178 ,\t Accuracy: 53.5 %\n",
            "0.39940714836120605\n",
            "Regularization Factor = 0.03376 ,\t Accuracy: 53.5 %\n",
            "0.4155702590942383\n",
            "Regularization Factor = 0.03574 ,\t Accuracy: 53.5 %\n",
            "0.44143056869506836\n",
            "Regularization Factor = 0.03772 ,\t Accuracy: 53.75 %\n",
            "0.4464454650878906\n",
            "Regularization Factor = 0.03970 ,\t Accuracy: 53.75 %\n",
            "0.46488118171691895\n",
            "Regularization Factor = 0.04168 ,\t Accuracy: 54.0 %\n",
            "0.4735865592956543\n",
            "Regularization Factor = 0.04366 ,\t Accuracy: 54.0 %\n",
            "0.5050301551818848\n",
            "Regularization Factor = 0.04564 ,\t Accuracy: 54.0 %\n",
            "0.512366771697998\n",
            "Regularization Factor = 0.04762 ,\t Accuracy: 54.25 %\n",
            "0.520599365234375\n",
            "Regularization Factor = 0.04960 ,\t Accuracy: 54.25 %\n",
            "0.529242992401123\n",
            "Regularization Factor = 0.05158 ,\t Accuracy: 54.25 %\n",
            "0.5587460994720459\n",
            "Regularization Factor = 0.05356 ,\t Accuracy: 54.25 %\n",
            "0.5666379928588867\n",
            "Regularization Factor = 0.05554 ,\t Accuracy: 54.25 %\n",
            "0.5890216827392578\n",
            "Regularization Factor = 0.05752 ,\t Accuracy: 54.50000000000001 %\n",
            "0.6016080379486084\n",
            "Regularization Factor = 0.05950 ,\t Accuracy: 54.75 %\n",
            "0.6407837867736816\n",
            "Regularization Factor = 0.06148 ,\t Accuracy: 55.00000000000001 %\n",
            "0.6323370933532715\n",
            "Regularization Factor = 0.06346 ,\t Accuracy: 55.25 %\n",
            "0.6557018756866455\n",
            "Regularization Factor = 0.06544 ,\t Accuracy: 55.25 %\n",
            "0.6579945087432861\n",
            "Regularization Factor = 0.06742 ,\t Accuracy: 55.25 %\n",
            "0.6847021579742432\n",
            "Regularization Factor = 0.06940 ,\t Accuracy: 55.25 %\n",
            "0.695232629776001\n",
            "Regularization Factor = 0.07138 ,\t Accuracy: 55.25 %\n",
            "0.7333569526672363\n",
            "Regularization Factor = 0.07336 ,\t Accuracy: 55.25 %\n",
            "0.7599654197692871\n",
            "Regularization Factor = 0.07534 ,\t Accuracy: 55.50000000000001 %\n",
            "0.7531828880310059\n",
            "Regularization Factor = 0.07732 ,\t Accuracy: 55.50000000000001 %\n",
            "0.7605557441711426\n",
            "Regularization Factor = 0.07930 ,\t Accuracy: 55.50000000000001 %\n",
            "0.7821846008300781\n",
            "Regularization Factor = 0.08128 ,\t Accuracy: 55.50000000000001 %\n",
            "0.8131804466247559\n",
            "Regularization Factor = 0.08326 ,\t Accuracy: 55.25 %\n",
            "0.840674877166748\n",
            "Regularization Factor = 0.08524 ,\t Accuracy: 55.25 %\n",
            "0.8310682773590088\n",
            "Regularization Factor = 0.08722 ,\t Accuracy: 55.25 %\n",
            "0.8759434223175049\n",
            "Regularization Factor = 0.08920 ,\t Accuracy: 55.25 %\n",
            "0.8350741863250732\n",
            "Regularization Factor = 0.09118 ,\t Accuracy: 55.25 %\n",
            "0.8643052577972412\n",
            "Regularization Factor = 0.09316 ,\t Accuracy: 55.25 %\n",
            "0.885483980178833\n",
            "Regularization Factor = 0.09514 ,\t Accuracy: 55.25 %\n",
            "0.8899414539337158\n",
            "Regularization Factor = 0.09712 ,\t Accuracy: 55.25 %\n",
            "0.9186203479766846\n",
            "Regularization Factor = 0.09910 ,\t Accuracy: 55.25 %\n",
            "0.964827299118042\n"
          ],
          "name": "stdout"
        }
      ]
    },
    {
      "cell_type": "markdown",
      "metadata": {
        "id": "FfmzlGVKmNdi",
        "colab_type": "text"
      },
      "source": [
        "Highest accuracy of 55.5 % is obtained for C = 0.08128 and it takes 0.813 sec to train."
      ]
    },
    {
      "cell_type": "code",
      "metadata": {
        "id": "2qHDzh96Cs9S",
        "colab_type": "code",
        "colab": {
          "base_uri": "https://localhost:8080/",
          "height": 34
        },
        "outputId": "e0d3c683-8943-47b2-fa77-4adb5782b94d"
      },
      "source": [
        "clf = LinearSVC(random_state=0, C=0.08128, multi_class='ovr')\n",
        "clf.fit(train_hist, train_label)\n",
        "predict_SVC_highest = clf.predict(test_hist)\n",
        "print (\"Regularization Factor = {:.5f}\".format(0.08128), \",\\t Accuracy:\", np.mean(predict == test_label)*100, \"%\")"
      ],
      "execution_count": 21,
      "outputs": [
        {
          "output_type": "stream",
          "text": [
            "Regularization Factor = 0.08128 s ,\t Accuracy: 55.25 %\n"
          ],
          "name": "stdout"
        }
      ]
    },
    {
      "cell_type": "markdown",
      "metadata": {
        "id": "xb5PfGGhmlEF",
        "colab_type": "text"
      },
      "source": [
        "**Bonus** : Working on test2 folder"
      ]
    },
    {
      "cell_type": "code",
      "metadata": {
        "id": "CYNC5uGn2Tdq",
        "colab_type": "code",
        "colab": {
          "base_uri": "https://localhost:8080/",
          "height": 34
        },
        "outputId": "16a875eb-00d1-43e5-e901-5c4017e3ee0c"
      },
      "source": [
        "def load_dataset(path):\n",
        "    data = []\n",
        "    print(\"Loading images\")\n",
        "    for i in range (0,400):\n",
        "      str1 = \"image_\"+str(i)+\".jpg\"\n",
        "      data.append(cv2.imread(path+str1, 0))\n",
        "    return data\n",
        "\n",
        "# load testing dataset\n",
        "test_data_2 = load_dataset('data/test2/')\n"
      ],
      "execution_count": 22,
      "outputs": [
        {
          "output_type": "stream",
          "text": [
            "Loading images\n"
          ],
          "name": "stdout"
        }
      ]
    },
    {
      "cell_type": "code",
      "metadata": {
        "id": "Y9cjrg4wHcJL",
        "colab_type": "code",
        "colab": {}
      },
      "source": [
        "images = []\n",
        "for i in range (0,400):\n",
        "  str1 = \"img_\"+format(i, '03')\n",
        "  images.append(str1)\n",
        "  \n",
        "images.insert(0, \"Name\")"
      ],
      "execution_count": 0,
      "outputs": []
    },
    {
      "cell_type": "code",
      "metadata": {
        "id": "lSS7nnCv2Tzy",
        "colab_type": "code",
        "colab": {}
      },
      "source": [
        "file = open('test_2.pkl','wb')\n",
        "pickle.dump(test_data_2, file)\n",
        "file.close()"
      ],
      "execution_count": 0,
      "outputs": []
    },
    {
      "cell_type": "code",
      "metadata": {
        "id": "XXLWVbLgCIvB",
        "colab_type": "code",
        "colab": {}
      },
      "source": [
        "file = open('test_2.pkl', 'rb')\n",
        "test_data_2 = pickle.load(file)\n",
        "file.close()"
      ],
      "execution_count": 0,
      "outputs": []
    },
    {
      "cell_type": "code",
      "metadata": {
        "id": "XeAAYjoXAR3C",
        "colab_type": "code",
        "colab": {}
      },
      "source": [
        "x_test_2 = compute_denseSIFT(test_data_2, 30)"
      ],
      "execution_count": 0,
      "outputs": []
    },
    {
      "cell_type": "code",
      "metadata": {
        "id": "NfHQ5xc2FR3F",
        "colab_type": "code",
        "colab": {
          "base_uri": "https://localhost:8080/",
          "height": 34
        },
        "outputId": "71c62b7f-1aa0-4b46-e1e0-752e4cd77136"
      },
      "source": [
        "from sklearn.svm import LinearSVC\n",
        "\n",
        "start_time = time.time()\n",
        "no_of_clusters = 60\n",
        "kmeans = kmeans_clustering(total_train_desc, no_of_clusters)\n",
        "\n",
        "# form training and testing histograms\n",
        "train_hist = get_histogram(x_train, kmeans, no_of_clusters)\n",
        "test_2_hist = get_histogram(x_test_2, kmeans, no_of_clusters)\n",
        "\n",
        "# normalize histograms\n",
        "scaler = preprocessing.StandardScaler().fit(train_hist)\n",
        "train_hist = scaler.transform(train_hist)\n",
        "test_2_hist = scaler.transform(test_2_hist)\n",
        "print(time.time()-start_time)"
      ],
      "execution_count": 25,
      "outputs": [
        {
          "output_type": "stream",
          "text": [
            "235.14660334587097\n"
          ],
          "name": "stdout"
        }
      ]
    },
    {
      "cell_type": "code",
      "metadata": {
        "id": "Vn8LBhB_FCM7",
        "colab_type": "code",
        "colab": {}
      },
      "source": [
        "clf = LinearSVC(random_state=0, C=0.08128, multi_class='ovr')\n",
        "clf.fit(train_hist, train_label)\n",
        "predict_test_2 = clf.predict(test_2_hist)"
      ],
      "execution_count": 0,
      "outputs": []
    },
    {
      "cell_type": "code",
      "metadata": {
        "id": "LmdlOJhgOCx4",
        "colab_type": "code",
        "colab": {}
      },
      "source": [
        "predict_test_2 = np.concatenate((np.array(['Class_id']), predict_test_2), axis=0)"
      ],
      "execution_count": 0,
      "outputs": []
    },
    {
      "cell_type": "code",
      "metadata": {
        "id": "gOywlBbAOSkL",
        "colab_type": "code",
        "colab": {}
      },
      "source": [
        "c=[np.array(images),np.array(predict_test_2)]"
      ],
      "execution_count": 0,
      "outputs": []
    },
    {
      "cell_type": "code",
      "metadata": {
        "id": "tSwMiDLFF4yR",
        "colab_type": "code",
        "colab": {}
      },
      "source": [
        "c=[np.array(images),np.array(predict_test_2)]\n",
        "\n",
        "with open(\"output.txt\", \"w\") as file:\n",
        "    for x in zip(*c):\n",
        "        file.write(\"{0}\\b{1}\\n\".format(*x))\n",
        "file.close()"
      ],
      "execution_count": 0,
      "outputs": []
    },
    {
      "cell_type": "markdown",
      "metadata": {
        "colab_type": "text",
        "id": "GPX6w0-GFGF6"
      },
      "source": [
        "## Problem 3.b\n",
        "{5 points} Repeat the evaluation above for different sizes of training sets and draw a plot to show how the size of the training set affects test performace. Do this for training set sizes of 800, 1200, 1600, 2000, 2200, and 2300 images. Randomly sample the images from the original training set and evaluate accuracy. Repeat this process 10 times for each training set size and report the average prediction accuracy. How does performance variability change with training set size? How does performance change? Give reason for your observations."
      ]
    },
    {
      "cell_type": "code",
      "metadata": {
        "id": "XceB6mOmmj6_",
        "colab_type": "code",
        "colab": {
          "base_uri": "https://localhost:8080/",
          "height": 123
        },
        "outputId": "b91aad7a-ace2-4e9f-b257-793f2d828857"
      },
      "source": [
        "sizeArr = [800,1200,1600,2000,2200,2300]\n",
        "\n",
        "for size in sizeArr:\n",
        "  accuracy = 0\n",
        "  for i in range(0,10):\n",
        "    train_new = train_hist.copy()\n",
        "    test_new = test_hist.copy()\n",
        "    train_label_new = train_label.copy()\n",
        "    test_label_new = test_label.copy()\n",
        "\n",
        "    indices = np.arange(train_new.shape[0])\n",
        "    np.random.shuffle(indices)\n",
        "    train_new= train_new[indices]\n",
        "    train_label_new= train_label_new[indices]\n",
        "\n",
        "    indices = np.arange(test_new.shape[0])\n",
        "    np.random.shuffle(indices)\n",
        "    test_new = test_new[indices]\n",
        "    test_label_new = test_label_new[indices]\n",
        "\n",
        "    train_new = train_new[:size]\n",
        "    train_label_new = train_label_new[:size]\n",
        "    \n",
        "    clf = LinearSVC(random_state=0, C=0.08920, multi_class='ovr')\n",
        "    clf.fit(train_new, train_label_new)\n",
        "    predict = clf.predict(test_new)\n",
        "    accuracy += np.mean(predict == test_label_new)\n",
        "    \n",
        "  accuracy/=10  \n",
        "  print (\"Image Size = \", size ,\"Regularization Factor = {:.5f}\".format(0.08920), \",\\t Accuracy:\", accuracy*100, \"%\")\n",
        "  "
      ],
      "execution_count": 32,
      "outputs": [
        {
          "output_type": "stream",
          "text": [
            "Image Size =  800 Regularization Factor = 0.08920 ,\t Accuracy: 47.775 %\n",
            "Image Size =  1200 Regularization Factor = 0.08920 ,\t Accuracy: 50.39999999999999 %\n",
            "Image Size =  1600 Regularization Factor = 0.08920 ,\t Accuracy: 52.02500000000001 %\n",
            "Image Size =  2000 Regularization Factor = 0.08920 ,\t Accuracy: 53.025 %\n",
            "Image Size =  2200 Regularization Factor = 0.08920 ,\t Accuracy: 53.925 %\n",
            "Image Size =  2300 Regularization Factor = 0.08920 ,\t Accuracy: 54.775 %\n"
          ],
          "name": "stdout"
        }
      ]
    },
    {
      "cell_type": "markdown",
      "metadata": {
        "id": "Bq8iNx3EbjuI",
        "colab_type": "text"
      },
      "source": [
        "Average prediction accuracy for each training set size is shown above. It explains that as we increase the size of training dataset accuracy of the model increases, ie, performance of the model improves when we have larger training data set."
      ]
    },
    {
      "cell_type": "markdown",
      "metadata": {
        "colab_type": "text",
        "ein.tags": "worksheet-0",
        "id": "6NtxxntZL4mP"
      },
      "source": [
        "## Performance Report\n",
        "---\n",
        "{20 points}\n",
        "Please report the performance of the following combinations **in the given order**\n",
        "in terms of the time consumed and classification accuracy. Describe your algorithm,\n",
        "any decisions you made to write your algorithm in your particular way, and how\n",
        "different choices you made affect it. Compute and draw a (normalized) [confusion matrix](https://en.wikipedia.org/wiki/Confusion_matrix), and discuss\n",
        "where the method performs best and worse for each of the combination.\n",
        "Here is an [example](http://scikit-learn.org/stable/auto_examples/model_selection/plot_confusion_matrix.html#sphx-glr-auto-examples-model-selection-plot-confusion-matrix-py) of how to compute confusion matrix.\n",
        "\n",
        "\n",
        "1st: Tiny images representation and nearest neighbor classifier (accuracy of about 18-25%).<br>\n",
        "2nd: Bag of SIFT representation and nearest neighbor - classifier (accuracy of about 40-50%). <br>\n",
        "3rd: Bag of SIFT representation and linear SVM classifier (accuracy of about 50-70%). <br>"
      ]
    },
    {
      "cell_type": "code",
      "metadata": {
        "id": "Zd8bhbLxEvm-",
        "colab_type": "code",
        "colab": {}
      },
      "source": [
        "import itertools\n",
        "from sklearn.metrics import confusion_matrix\n",
        "\n",
        "def plot_confusion_matrix(cm, classes,\n",
        "                          normalize=False,\n",
        "                          title='Confusion matrix',\n",
        "                          cmap=plt.cm.Blues):\n",
        "    if normalize:\n",
        "        cm = cm.astype('float') / cm.sum(axis=1)[:, np.newaxis]\n",
        "        #print(\"Normalized confusion matrix\")\n",
        "\n",
        "    #print(cm)\n",
        "\n",
        "    plt.imshow(cm, interpolation='nearest', cmap=cmap)\n",
        "    plt.title(title)\n",
        "    plt.colorbar()\n",
        "    tick_marks = np.arange(len(classes))\n",
        "    plt.xticks(tick_marks, classes, rotation=45)\n",
        "    plt.yticks(tick_marks, classes)\n",
        "\n",
        "    fmt = '.2f' if normalize else 'd'\n",
        "    thresh = cm.max() / 2.\n",
        "    for i, j in itertools.product(range(cm.shape[0]), range(cm.shape[1])):\n",
        "        plt.text(j, i, format(cm[i, j], fmt),\n",
        "                 horizontalalignment=\"center\",\n",
        "                 color=\"white\" if cm[i, j] > thresh else \"black\")\n",
        "\n",
        "    plt.tight_layout()\n",
        "    plt.ylabel('True label')\n",
        "    plt.xlabel('Predicted label')"
      ],
      "execution_count": 0,
      "outputs": []
    },
    {
      "cell_type": "markdown",
      "metadata": {
        "id": "EhuiuX1NlG8b",
        "colab_type": "text"
      },
      "source": [
        "# Confusion matrix for Problem 1: Tiny Image"
      ]
    },
    {
      "cell_type": "code",
      "metadata": {
        "id": "Wqy6_AFblEdQ",
        "colab_type": "code",
        "colab": {
          "base_uri": "https://localhost:8080/",
          "height": 743
        },
        "outputId": "51c77f15-72f8-4e30-ffbd-8242aa35acc9"
      },
      "source": [
        "# Compute confusion matrix\n",
        "cnf_matrix = confusion_matrix(np.array([test_label]).T, pred_tiny_image)\n",
        "np.set_printoptions(precision=2)\n",
        "\n",
        "# Plot normalized confusion matrix\n",
        "plt.figure(figsize=(18, 10))\n",
        "plot_confusion_matrix(cnf_matrix, classes=class_names, normalize=True,\n",
        "                      title='Normalized confusion matrix for tiny image')\n",
        "\n",
        "plt.show()"
      ],
      "execution_count": 41,
      "outputs": [
        {
          "output_type": "display_data",
          "data": {
            "image/png": "[encoded data removed]",
            "text/plain": [
              "<Figure size 1296x720 with 2 Axes>"
            ]
          },
          "metadata": {
            "tags": []
          }
        }
      ]
    },
    {
      "cell_type": "markdown",
      "metadata": {
        "id": "g0ewDdrpmyh8",
        "colab_type": "text"
      },
      "source": [
        "We can see that many diagonal values are below 0.5, ie, the prediction of model is not good. We have simply used tiny images for training model and this may have resulted in low accuracy of 25%. This happens as in the process of making image small, we may have removed various features of the image."
      ]
    },
    {
      "cell_type": "markdown",
      "metadata": {
        "id": "sCcD4qLIlRYd",
        "colab_type": "text"
      },
      "source": [
        "# Confusion matrix for Problem 2: Kmeans + KNN"
      ]
    },
    {
      "cell_type": "code",
      "metadata": {
        "id": "pRjlGJNNUrrt",
        "colab_type": "code",
        "colab": {
          "base_uri": "https://localhost:8080/",
          "height": 743
        },
        "outputId": "9bf8b566-9d41-43ec-e7f9-8796fa23e18a"
      },
      "source": [
        "# Compute confusion matrix\n",
        "cnf_matrix = confusion_matrix(np.array([test_label]).T, np.array(predict_knn).T)\n",
        "np.set_printoptions(precision=2)\n",
        "\n",
        "# Plot normalized confusion matrix\n",
        "plt.figure(figsize=(18, 10))\n",
        "plot_confusion_matrix(cnf_matrix, classes=class_names, normalize=True,\n",
        "                      title='Normalized confusion matrix for Kmeans and nearest neighbors')\n",
        "\n",
        "plt.show()"
      ],
      "execution_count": 38,
      "outputs": [
        {
          "output_type": "display_data",
          "data": {
            "image/png": "[encoded data removed]",
            "text/plain": [
              "<Figure size 1296x720 with 2 Axes>"
            ]
          },
          "metadata": {
            "tags": []
          }
        }
      ]
    },
    {
      "cell_type": "markdown",
      "metadata": {
        "id": "kbvb1WUGhz4o",
        "colab_type": "text"
      },
      "source": [
        "Confusion matrix shows that diagonal values are near about to 50. This also explains the accuracy of the model that is around 51.3%. This accuracy is achieved when cluster size is 60 and nearest neighbors are 60."
      ]
    },
    {
      "cell_type": "markdown",
      "metadata": {
        "id": "o8e8Ap8slXLI",
        "colab_type": "text"
      },
      "source": [
        "# Confusion matrix for Problem 3: Linear SVC"
      ]
    },
    {
      "cell_type": "code",
      "metadata": {
        "id": "GYzyBgmNHIQ0",
        "colab_type": "code",
        "colab": {
          "base_uri": "https://localhost:8080/",
          "height": 743
        },
        "outputId": "4bac2ba5-a84d-4c44-856c-46d0c2931c5a"
      },
      "source": [
        "# Compute confusion matrix\n",
        "cnf_matrix = confusion_matrix(np.array([test_label]).T, predict_SVC_highest)\n",
        "np.set_printoptions(precision=2)\n",
        "\n",
        "# Plot normalized confusion matrix\n",
        "plt.figure(figsize=(18, 10))\n",
        "plot_confusion_matrix(cnf_matrix, classes=class_names, normalize=True,\n",
        "                      title='Normalized confusion matrix for SVC')\n",
        "\n",
        "plt.show()"
      ],
      "execution_count": 37,
      "outputs": [
        {
          "output_type": "display_data",
          "data": {
            "image/png": "[encoded data removed]",
            "text/plain": [
              "<Figure size 1296x720 with 2 Axes>"
            ]
          },
          "metadata": {
            "tags": []
          }
        }
      ]
    },
    {
      "cell_type": "markdown",
      "metadata": {
        "id": "O0l8fXo_eji7",
        "colab_type": "text"
      },
      "source": [
        "Confusion matrix shows that almost half classes are predicted correctly as the diagonal values are high and low for the equal number of classes. This also explains the accuracy of the model that is around 55.5%"
      ]
    },
    {
      "cell_type": "markdown",
      "metadata": {
        "id": "uJXnxCvIAV8K",
        "colab_type": "text"
      },
      "source": [
        "# **Problem 1**"
      ]
    },
    {
      "cell_type": "markdown",
      "metadata": {
        "id": "ijLzrHNJAa42",
        "colab_type": "text"
      },
      "source": [
        "We have used simply image pixels as features of images in this solution. These features are used to train classifiers and predict the class of the test image. We resize the image as tiny image of size 16 x 16, that is the simplest possible image representations. As we have removed much information from image, these features dont give high accuracy when used to train a model.\n",
        "\n",
        "Here, we have used K-nearest neighbor classifier to predict class of the image. This classifier finds the nearest training example for a test image and assigns that label to the test image. This is an unsupervised learning algorithm and learns while training on dataset. \n",
        "\n",
        "As we may have eliminated vital image information from the image by simply resizing it 16 x 16, the classifier does not train on all the image features and gives a low accuracy score. I got maximum score of 25% with two neighbors. Expected model accuracy is between 18% - 25%.\n"
      ]
    },
    {
      "cell_type": "markdown",
      "metadata": {
        "id": "0Eu4EeZxAfL1",
        "colab_type": "text"
      },
      "source": [
        "# Problem 2"
      ]
    },
    {
      "cell_type": "markdown",
      "metadata": {
        "id": "AmIWxxGaV9ik",
        "colab_type": "text"
      },
      "source": [
        "Unlike problem 1 we are now using bags of words as image features to train the classifier. Bags of Words (BoW) is used in computer vision for image classification, by treating image features as words. In document classification, a bag of words is a sparse vector of occurrence counts of words; that is, a sparse histogram over the vocabulary. In computer vision, a bag of visual words is a vector of occurrence counts of a vocabulary of local image features. \n",
        "\n",
        "Image representation based on the BoW model\n",
        "We first find descriptors for dense keypoints of an image. This we achieve by dividing the image onto patches and then computing the descriptors on this grid. We then create histogram for these descriptors. This acts as bag of words for that image.  \n",
        "\n",
        "A good descriptor should be intensity, rotation, scale and affine variations invariant to some extent. SIFT is such descriptors that converts each patch to 128-dimensional vector. After this step, each image is a collection of vectors of the 128 dimensions, where the order of different vectors is of no importance.\n",
        "\n",
        "After collecting these descriptors, we have performed k-means clustering over all the vectors. We then get define codewords as the centers of the learned clusters.\n",
        "\n",
        "Now each image is assigned to a cluster based on the nearest distance caculated by the algortihm. When using Kmeans and Knn, we have to specify the number of neighbors. In question 2, I have trained the model for 10, 20, 30, 40, 50 and 60 neighbors. Highest accuracy is for 60 neighbors, ie, \n",
        "\n",
        "Overall accuracy varies between 40-50%. Time required for computing sift descriptors is 99 secs.\n",
        "\n",
        "Model accuracy:\n",
        "\n",
        "\n",
        "Number of clusters = 10\n",
        "Accuracy: 34.0 %\n",
        "Time taken: 64.31249356269836 s\n",
        "\n",
        "Number of clusters = 20\n",
        "Accuracy: 37.5 %\n",
        "Time taken: 113.27306795120239 s\n",
        "\n",
        "Number of clusters = 30\n",
        "Accuracy: 42.25 %\n",
        "Time taken: 152.66200137138367 s\n",
        "\n",
        "Number of clusters = 40\n",
        "Accuracy: 45.75 %\n",
        "Time taken: 189.79718661308289 s\n",
        "\n",
        "Number of clusters = 50\n",
        "Accuracy: 44.25 %\n",
        "Time taken: 209.0833613872528 s\n",
        "\n",
        "Number of clusters = 60\n",
        "Accuracy: 51.24 %\n",
        "Time taken: 259.5216221809387 s\n",
        "\n",
        "Number of clusters = 70\n",
        "Accuracy: 48.75 %\n",
        "Time taken: 271.85816407203674 s\n",
        "\n",
        "\n",
        "We can see that maximum accuracy 51.24% is obtained when the number of clusters are 60 and time taken for execution is 259 sec approximately. \n",
        "      \n",
        "I have used normalised scaling for all images before training the model.\n"
      ]
    },
    {
      "cell_type": "markdown",
      "metadata": {
        "id": "JOzefJTQAkLD",
        "colab_type": "text"
      },
      "source": [
        "# **Problem 3**"
      ]
    },
    {
      "cell_type": "markdown",
      "metadata": {
        "id": "kfpcO5dgAqtp",
        "colab_type": "text"
      },
      "source": [
        "**3.a**\n",
        "The approach is similar to Problem 2, but instead of KNN we are using SVM as the classifier. \n",
        "\n",
        "SVM tries to find out linear separable plane using support vectors, while KNN can be non-linear and very sensitive to outliers. SVM supports multi-class approach, by which we can train 16 one-vs-all SVM classifiers for each class and assign the label to the testing image based on the one that gives us the highest response. The classifier that provides the least error score for a given image feature is returned by the method.\n",
        "\n",
        "\n",
        "I have used normalised data for training model.\n",
        "\n",
        "Highest accuracy 55.5% is obtained at regularization factor value C 0.08128.\n",
        "The model takes 242 secs to complete.\n",
        "\n",
        "---\n",
        "\n",
        "\n",
        "\n",
        "\n",
        "\n",
        "\n",
        "**Bonus**\n",
        "Loaded the images in test2 folder. Ran Linear SVC with C = 0.08128 for which we obtained highest accuracy in part 3.a\n",
        "\n",
        "Stored output in output.txt for the 400 test images with image name starting from img_000 to img_399 as specified in the sample.txt\n",
        "\n",
        "---\n",
        "\n",
        "\n",
        "\n",
        "**3.b**\n",
        "\n",
        "Below are the average 10 run values for accuracy of a training dataset of particular size.\n",
        "\n",
        "Image Size =  800 Regularization Factor = 0.08920 ,\t Accuracy: 47.775 %\n",
        "Image Size =  1200 Regularization Factor = 0.08920 ,\t Accuracy:  50.40 %\n",
        "Image Size =  1600 Regularization Factor = 0.08920 ,\t Accuracy: 52.025 %\n",
        "Image Size =  2000 Regularization Factor = 0.08920 ,\t Accuracy: 53.025 %\n",
        "Image Size =  2200 Regularization Factor = 0.08920 ,\t Accuracy: 53.925 %\n",
        "Image Size =  2300 Regularization Factor = 0.08920 ,\t Accuracy: 54.775 %\n",
        "\n",
        "We can see that as we increase the training dataset, we get higher accuracy of the model."
      ]
    },
    {
      "cell_type": "markdown",
      "metadata": {
        "colab_type": "text",
        "id": "PhZehMVdL4mS"
      },
      "source": [
        "## Submission guidelines\n",
        "---\n",
        "Extract the downloaded .zip file to a folder of your preference. The input and output paths are predefined and **DO NOT** change them, (we assume that 'Surname_Givenname_SBUID_hw3' is your working directory, and all the paths are relative to this directory).  The image read and write functions are already written for you. All you need to do is to fill in the blanks as indicated to generate proper outputs. **DO NOT** zip and upload the dataset on blackboard due to size limit.\n",
        "\n",
        "When submitting your .zip file through blackboard, please\n",
        "-- name your .zip file as **Surname_Givenname_SBUID_hw*.zip**.\n",
        "\n",
        "This zip file should include:\n",
        "```\n",
        "Surname_Givenname_SBUID_hw*\n",
        "        |---Surname_Givenname_SBUID_hw*.ipynb\n",
        "        |---Surname_Givenname_SBUID_hw*.pdf\n",
        "        |---Surname_Givenname_SBUID_Pred*.txt\n",
        "```\n",
        "\n",
        "For instance, student Michael Jordan should submit a zip file named \"Jordan_Michael_111134567_hw3.zip\" for homework3 in this structure:\n",
        "```\n",
        "Jordan_Michael_111134567_hw3\n",
        "        |---Jordan_Michael_111134567_hw3.ipynb\n",
        "        |---Jordan_Michael_111134567_hw3.pdf\n",
        "        |---Jordan_Michael_111134567_Pred.txt\n",
        "```\n",
        "\n",
        "The **Surname_Givenname_SBUID_hw*.pdf** should include a **google shared link** and **Surname_Givenname_SBUID_Pred*.pdf** should be your test set prediction file in the specified format. To generate the **google shared link**, first create a folder named **Surname_Givenname_SBUID_hw*** in your Google Drive with your Stony Brook account. The structure of the files in the folder should be exactly the same as the one you downloaded. If you alter the folder structures, the grading of your homework will be significantly delayed and possibly penalized.\n",
        "\n",
        "Then right click this folder, click ***Get shareable link***, in the People textfield, enter two TA's emails: ***bo.cao.1@stonybrook.edu*** and ***sayontan.ghosh@stonybrook.edu***. Make sure that TAs who have the link **can edit**, ***not just*** **can view**, and also **uncheck** the **Notify people** box.\n",
        "\n",
        "Colab has a good feature of version control, you should take advantage of this to save your work properly. However, the timestamp of the submission made in blackboard is the only one that we consider for grading. To be more specific, we will only grade the version of your code right before the timestamp of the submission made in blackboard. \n",
        "\n",
        "You are encouraged to post and answer questions on Piazza. Based on the amount of email that we have received in past years, there might be dealys in replying to personal emails. Please ask questions on Piazza and send emails only for personal issues.\n",
        "\n",
        "Be aware that your code will undergo plagiarism check both vertically and horizontally. Please do your own work.\n",
        "\n",
        "**Late submission penalty:** <br>\n",
        "There will be a 10% penalty per day for late submission. However, you will have 4 days throughout the whole semester to submit late without penalty. Note that the grace period is calculated by days instead of hours. If you submit the homework one minute after the deadline, one late day will be counted. Likewise, if you submit one minute after the deadline, the 10% penaly will be imposed if not using the grace period.\n",
        "\n"
      ]
    },
    {
      "cell_type": "code",
      "metadata": {
        "colab_type": "code",
        "id": "nio-kNUh947x",
        "colab": {}
      },
      "source": [
        ""
      ],
      "execution_count": 0,
      "outputs": []
    }
  ]
}